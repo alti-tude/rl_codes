{
 "cells": [
  {
   "cell_type": "code",
   "execution_count": 3,
   "metadata": {},
   "outputs": [],
   "source": [
    "import gym\n",
    "import numpy as np\n",
    "\n",
    "%matplotlib notebook\n",
    "from matplotlib import pyplot\n",
    "\n",
    "from tqdm import tqdm_notebook as tqdm"
   ]
  },
  {
   "cell_type": "code",
   "execution_count": null,
   "metadata": {},
   "outputs": [],
   "source": [
    "class nn():\n",
    "    def __init__(l_config, alpha, activation_func):\n",
    "        self.a = [np.zeros((i,1)) for i in l_config]\n",
    "        self.w = [np.random.rand(l_config[i-1],l_config[i]) for i in range(1,len(l_config))]\n",
    "        self.alpha = alpha\n",
    "        self.activation = self.select_actiivation(activation_func)\n",
    "        \n",
    "    def select_actiivation(self, key):\n",
    "        if key=='RELU':\n",
    "            return self.relu\n",
    "        elif key=='SIGMOID':\n",
    "            return self.sigmoid\n",
    "    \n",
    "    def sofmax(self, a):\n",
    "        return np.exp(a-np.max(a))/np.sum(np.exp(a-np.max(a)))\n",
    "    \n",
    "    def forward(self, x):\n",
    "        a[0] = np.reshape(x, self.a[0].shape)\n",
    "        \n",
    "        for i in range(len(self.w)):\n",
    "            z = self.w[i].T @ self.a[i]\n",
    "            a[i+1] = np.reshape(self.activation(z), self.a[i+1].shape)\n",
    "            \n",
    "        return sofmax(a[-1])  "
   ]
  },
  {
   "cell_type": "code",
   "execution_count": 9,
   "metadata": {},
   "outputs": [
    {
     "data": {
      "text/plain": [
       "tuple"
      ]
     },
     "execution_count": 9,
     "metadata": {},
     "output_type": "execute_result"
    }
   ],
   "source": [
    "type(np.random.rand(1,2).shape)"
   ]
  },
  {
   "cell_type": "code",
   "execution_count": 14,
   "metadata": {},
   "outputs": [
    {
     "data": {
      "text/plain": [
       "True"
      ]
     },
     "execution_count": 14,
     "metadata": {},
     "output_type": "execute_result"
    }
   ],
   "source": [
    "f = lambda a: a==1; True"
   ]
  },
  {
   "cell_type": "code",
   "execution_count": null,
   "metadata": {},
   "outputs": [],
   "source": []
  }
 ],
 "metadata": {
  "kernelspec": {
   "display_name": "rl",
   "language": "python",
   "name": "rl"
  },
  "language_info": {
   "codemirror_mode": {
    "name": "ipython",
    "version": 3
   },
   "file_extension": ".py",
   "mimetype": "text/x-python",
   "name": "python",
   "nbconvert_exporter": "python",
   "pygments_lexer": "ipython3",
   "version": "3.7.3"
  }
 },
 "nbformat": 4,
 "nbformat_minor": 2
}
