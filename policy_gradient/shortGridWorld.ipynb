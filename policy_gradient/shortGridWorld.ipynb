{
 "cells": [
  {
   "cell_type": "code",
   "execution_count": 18,
   "metadata": {},
   "outputs": [],
   "source": [
    "%matplotlib notebook\n",
    "import numpy as np\n",
    "from tqdm import tqdm_notebook as tqdm\n",
    "from matplotlib import pyplot as plt\n"
   ]
  },
  {
   "cell_type": "code",
   "execution_count": 4,
   "metadata": {},
   "outputs": [],
   "source": [
    "class shortGridWorld():\n",
    "    def __init__(self, start_state):\n",
    "        self.state = start_state\n",
    "        self.reward = -1\n",
    "    \n",
    "    def take_action(self, state, action):\n",
    "        if state == 0:\n",
    "            if all(action == np.array([[0.], [1.]])):\n",
    "                self.state = 0\n",
    "            else:\n",
    "                self.state = 1\n",
    "        elif state == 1:\n",
    "            if all(action == np.array([[0.], [1.]])):\n",
    "                self.state = 2\n",
    "            else:\n",
    "                self.state = 1\n",
    "        elif state == 2:\n",
    "            if all(action ==np.array([[0.],[1.]])):\n",
    "                self.state = 1\n",
    "            else:\n",
    "                self.state = 3\n",
    "            \n",
    "    def is_terminal(self):\n",
    "        return self.state == 3        "
   ]
  },
  {
   "cell_type": "code",
   "execution_count": 74,
   "metadata": {},
   "outputs": [],
   "source": [
    "class REINFORCE_mc():\n",
    "    def __init__(self, Problem, num_episodes=100, alpha_t=2**(-13), alpha_w = 0.001, y=0.9, max_ep_len=1000):\n",
    "        self.Problem = Problem\n",
    "        self.num_episodes = num_episodes\n",
    "        self.y = y\n",
    "        self.theta = np.array([[-1.47], [1.47]])\n",
    "        self.w = 0\n",
    "        self.x = np.array([[1.,0.],[0.,1.]])\n",
    "        self.r = []\n",
    "        self.s = []\n",
    "        self.a = []\n",
    "        self.G = []\n",
    "        self.alpha_w = alpha_w\n",
    "        self.alpha_t = alpha_t\n",
    "        self.max_ep_len = max_ep_len\n",
    "        \n",
    "        self.I = []\n",
    "        self.L = []\n",
    "        \n",
    "    def get_policy_distribution(self):\n",
    "        return (np.exp(self.theta.T @ self.x)/np.sum(np.exp(self.theta.T @ self.x))).T\n",
    "    \n",
    "    def sample_from_distribution(self, P):\n",
    "        CP = np.cumsum(P)\n",
    "        if np.min(CP) < 0.05:\n",
    "            CP[np.argmin(CP)] = 0.1\n",
    "            CP[np.argmax(CP)] = 0.9\n",
    "            \n",
    "        rn = np.random.uniform()\n",
    "        \n",
    "        for i in range(len(CP)):\n",
    "            if CP[i] >= rn:\n",
    "                return i\n",
    "    \n",
    "    def get_action(self):\n",
    "        action = np.zeros((2,1))\n",
    "\n",
    "        # maybe a separate functon to get the feature vector of action\n",
    "        action[self.sample_from_distribution(self.get_policy_distribution())] = 1 \n",
    "        return action\n",
    "    \n",
    "    def clear(self):\n",
    "        self.r = []\n",
    "        self.s = []\n",
    "        self.a = []\n",
    "        \n",
    "    def gen_episode(self,s0=0, max_len=1000):\n",
    "        self.clear()\n",
    "        problem = self.Problem(s0)\n",
    "        \n",
    "        state = s0\n",
    "        self.s.append(state)\n",
    "        \n",
    "        G = 0\n",
    "        I = 1\n",
    "        \n",
    "        while (not problem.is_terminal()) and max_len != 0:\n",
    "            action = self.get_action()\n",
    "            self.a.append(np.argmax(action))\n",
    "            \n",
    "            problem.take_action(state, action)\n",
    "            state = problem.state\n",
    "            self.s.append(state)\n",
    "            \n",
    "            self.r.append(problem.reward)\n",
    "            G += problem.reward * I\n",
    "            I *= self.y\n",
    "            \n",
    "            max_len -= 1\n",
    "        \n",
    "        self.G.append(G)\n",
    "        self.I.append(I)\n",
    "        self.L.append((len(self.a), self.G[-1]))\n",
    "        \n",
    "        return G\n",
    "    \n",
    "    def mc(self):\n",
    "        alpha = self.alpha_t\n",
    "        for i in tqdm(range(self.num_episodes)):\n",
    "            G = self.gen_episode(0, self.max_ep_len)\n",
    "            sub = 0\n",
    "            I = 1\n",
    "            \n",
    "            for t in range(len(self.s)-1):\n",
    "                G -= sub\n",
    "                delta_ln = np.copy(self.x[:,self.a[t], np.newaxis])\n",
    "                pi = self.get_policy_distribution()\n",
    "                delta_ln -= self.x @ pi\n",
    "    \n",
    "                # y^t is covered in G in this implementation. G is not strictly G, rather y^t*G\n",
    "                self.theta = self.theta + alpha*G*delta_ln \n",
    "                \n",
    "                sub = self.r[t]*I\n",
    "                I *= self.y\n",
    "                \n",
    "    def mc_with_baseline(self):\n",
    "        alpha = self.alpha_t\n",
    "        alpha_w = self.alpha_w\n",
    "        \n",
    "        for i in tqdm(range(self.num_episodes)):\n",
    "            G = self.gen_episode(0, self.max_ep_len)\n",
    "            sub = 0\n",
    "            I = 1\n",
    "            \n",
    "            for t in range(len(self.s)-1):\n",
    "                G -= sub # here G is the proper G, ie does not contain y^t\n",
    "                G /= I\n",
    "                delta = G - self.w\n",
    "                \n",
    "                self.w += alpha_w*delta\n",
    "                \n",
    "                delta_ln = np.copy(self.x[:,self.a[t], np.newaxis])\n",
    "                pi = self.get_policy_distribution()\n",
    "                delta_ln -= self.x @ pi\n",
    "                self.theta += alpha*I*delta*delta_ln \n",
    "                \n",
    "                sub = self.r[t]\n",
    "                I *= self.y\n",
    "                \n",
    "            "
   ]
  },
  {
   "cell_type": "code",
   "execution_count": null,
   "metadata": {},
   "outputs": [],
   "source": [
    "def run(agent, algo, problem, num_episodes, alpha_t=2**(-12), alpha_w = 0.0001, y=1, max_ep_len=1000):\n",
    "    rew = np.zeros((num_ep_per_trial,1))\n",
    "    for i in tqdm(range(num_trials)):\n",
    "        a = agent(shortGridWorld, num_episodes=num_episodes, alpha_t=alpha_t, alpha_w=alpha_w, y=y, max_ep_len=max_ep_len)    \n",
    "        algo()\n",
    "        rew += np.reshape(np.array(a.G), (num_ep_per_trial,1))\n",
    "        a.G = []\n",
    "        a.L = []\n",
    "    "
   ]
  },
  {
   "cell_type": "code",
   "execution_count": 90,
   "metadata": {},
   "outputs": [
    {
     "data": {
      "application/vnd.jupyter.widget-view+json": {
       "model_id": "4aba51e39d2a403c83cf90f6009bccc1",
       "version_major": 2,
       "version_minor": 0
      },
      "text/plain": [
       "HBox(children=(IntProgress(value=0), HTML(value='')))"
      ]
     },
     "metadata": {},
     "output_type": "display_data"
    },
    {
     "data": {
      "application/vnd.jupyter.widget-view+json": {
       "model_id": "bb2ab1492a8d4bdc98e40310ac926a66",
       "version_major": 2,
       "version_minor": 0
      },
      "text/plain": [
       "HBox(children=(IntProgress(value=0, max=1000), HTML(value='')))"
      ]
     },
     "metadata": {},
     "output_type": "display_data"
    },
    {
     "data": {
      "application/vnd.jupyter.widget-view+json": {
       "model_id": "dcb6e28fc74c4a6badfe7f8a02549f04",
       "version_major": 2,
       "version_minor": 0
      },
      "text/plain": [
       "HBox(children=(IntProgress(value=0, max=1000), HTML(value='')))"
      ]
     },
     "metadata": {},
     "output_type": "display_data"
    },
    {
     "data": {
      "application/vnd.jupyter.widget-view+json": {
       "model_id": "e31bbe8cee9e4e4a9eb6b11eb06b9a17",
       "version_major": 2,
       "version_minor": 0
      },
      "text/plain": [
       "HBox(children=(IntProgress(value=0, max=1000), HTML(value='')))"
      ]
     },
     "metadata": {},
     "output_type": "display_data"
    },
    {
     "data": {
      "application/vnd.jupyter.widget-view+json": {
       "model_id": "0f5b4dc129d6402cace91f0e5e846ac2",
       "version_major": 2,
       "version_minor": 0
      },
      "text/plain": [
       "HBox(children=(IntProgress(value=0, max=1000), HTML(value='')))"
      ]
     },
     "metadata": {},
     "output_type": "display_data"
    },
    {
     "data": {
      "application/vnd.jupyter.widget-view+json": {
       "model_id": "b460ec7815914647923ed2626660daf0",
       "version_major": 2,
       "version_minor": 0
      },
      "text/plain": [
       "HBox(children=(IntProgress(value=0, max=1000), HTML(value='')))"
      ]
     },
     "metadata": {},
     "output_type": "display_data"
    },
    {
     "data": {
      "application/vnd.jupyter.widget-view+json": {
       "model_id": "2e7735de89bf46148a85d031030e4574",
       "version_major": 2,
       "version_minor": 0
      },
      "text/plain": [
       "HBox(children=(IntProgress(value=0, max=1000), HTML(value='')))"
      ]
     },
     "metadata": {},
     "output_type": "display_data"
    },
    {
     "data": {
      "application/vnd.jupyter.widget-view+json": {
       "model_id": "19cf6caefe6f47bfbc27b2e5e59ca545",
       "version_major": 2,
       "version_minor": 0
      },
      "text/plain": [
       "HBox(children=(IntProgress(value=0, max=1000), HTML(value='')))"
      ]
     },
     "metadata": {},
     "output_type": "display_data"
    },
    {
     "data": {
      "application/vnd.jupyter.widget-view+json": {
       "model_id": "551d779bb109473ebc1b9307b8f0cd7f",
       "version_major": 2,
       "version_minor": 0
      },
      "text/plain": [
       "HBox(children=(IntProgress(value=0, max=1000), HTML(value='')))"
      ]
     },
     "metadata": {},
     "output_type": "display_data"
    },
    {
     "data": {
      "application/vnd.jupyter.widget-view+json": {
       "model_id": "224e9185d80040ba9d05ddad40c1b1f8",
       "version_major": 2,
       "version_minor": 0
      },
      "text/plain": [
       "HBox(children=(IntProgress(value=0, max=1000), HTML(value='')))"
      ]
     },
     "metadata": {},
     "output_type": "display_data"
    },
    {
     "data": {
      "application/vnd.jupyter.widget-view+json": {
       "model_id": "d448304e84e948628b6aa657b5a42510",
       "version_major": 2,
       "version_minor": 0
      },
      "text/plain": [
       "HBox(children=(IntProgress(value=0, max=1000), HTML(value='')))"
      ]
     },
     "metadata": {},
     "output_type": "display_data"
    },
    {
     "data": {
      "application/vnd.jupyter.widget-view+json": {
       "model_id": "4a45681cba8549f384503ddacff2cbff",
       "version_major": 2,
       "version_minor": 0
      },
      "text/plain": [
       "HBox(children=(IntProgress(value=0, max=1000), HTML(value='')))"
      ]
     },
     "metadata": {},
     "output_type": "display_data"
    },
    {
     "data": {
      "application/vnd.jupyter.widget-view+json": {
       "model_id": "e07f0f17b63f437fa8166286f841eef6",
       "version_major": 2,
       "version_minor": 0
      },
      "text/plain": [
       "HBox(children=(IntProgress(value=0, max=1000), HTML(value='')))"
      ]
     },
     "metadata": {},
     "output_type": "display_data"
    },
    {
     "data": {
      "application/vnd.jupyter.widget-view+json": {
       "model_id": "659cc6e713a64fffa733c484a13fbfa9",
       "version_major": 2,
       "version_minor": 0
      },
      "text/plain": [
       "HBox(children=(IntProgress(value=0, max=1000), HTML(value='')))"
      ]
     },
     "metadata": {},
     "output_type": "display_data"
    },
    {
     "data": {
      "application/vnd.jupyter.widget-view+json": {
       "model_id": "534d49e2ddd34c1d9c58fb04a582df4c",
       "version_major": 2,
       "version_minor": 0
      },
      "text/plain": [
       "HBox(children=(IntProgress(value=0, max=1000), HTML(value='')))"
      ]
     },
     "metadata": {},
     "output_type": "display_data"
    },
    {
     "data": {
      "application/vnd.jupyter.widget-view+json": {
       "model_id": "d19507e21ae94925872f166ef09a28e2",
       "version_major": 2,
       "version_minor": 0
      },
      "text/plain": [
       "HBox(children=(IntProgress(value=0, max=1000), HTML(value='')))"
      ]
     },
     "metadata": {},
     "output_type": "display_data"
    },
    {
     "data": {
      "application/vnd.jupyter.widget-view+json": {
       "model_id": "e15e7caa875e48e8b0db1985901a03f1",
       "version_major": 2,
       "version_minor": 0
      },
      "text/plain": [
       "HBox(children=(IntProgress(value=0, max=1000), HTML(value='')))"
      ]
     },
     "metadata": {},
     "output_type": "display_data"
    },
    {
     "data": {
      "application/vnd.jupyter.widget-view+json": {
       "model_id": "d885ed98ac144a4fb5ad4a0ff20dbcd9",
       "version_major": 2,
       "version_minor": 0
      },
      "text/plain": [
       "HBox(children=(IntProgress(value=0, max=1000), HTML(value='')))"
      ]
     },
     "metadata": {},
     "output_type": "display_data"
    },
    {
     "data": {
      "application/vnd.jupyter.widget-view+json": {
       "model_id": "89568cbc4920456e940526c9a7421541",
       "version_major": 2,
       "version_minor": 0
      },
      "text/plain": [
       "HBox(children=(IntProgress(value=0, max=1000), HTML(value='')))"
      ]
     },
     "metadata": {},
     "output_type": "display_data"
    },
    {
     "data": {
      "application/vnd.jupyter.widget-view+json": {
       "model_id": "9a6946f999c04f19bf9dea2936c2ecab",
       "version_major": 2,
       "version_minor": 0
      },
      "text/plain": [
       "HBox(children=(IntProgress(value=0, max=1000), HTML(value='')))"
      ]
     },
     "metadata": {},
     "output_type": "display_data"
    },
    {
     "data": {
      "application/vnd.jupyter.widget-view+json": {
       "model_id": "4f7e48e4e4504f5f83cdab04b6506185",
       "version_major": 2,
       "version_minor": 0
      },
      "text/plain": [
       "HBox(children=(IntProgress(value=0, max=1000), HTML(value='')))"
      ]
     },
     "metadata": {},
     "output_type": "display_data"
    },
    {
     "data": {
      "application/vnd.jupyter.widget-view+json": {
       "model_id": "949088c792a945318c4ac17a2f891d02",
       "version_major": 2,
       "version_minor": 0
      },
      "text/plain": [
       "HBox(children=(IntProgress(value=0, max=1000), HTML(value='')))"
      ]
     },
     "metadata": {},
     "output_type": "display_data"
    },
    {
     "data": {
      "application/vnd.jupyter.widget-view+json": {
       "model_id": "2c65eaeb97a6484e94fdbfa297399bba",
       "version_major": 2,
       "version_minor": 0
      },
      "text/plain": [
       "HBox(children=(IntProgress(value=0, max=1000), HTML(value='')))"
      ]
     },
     "metadata": {},
     "output_type": "display_data"
    },
    {
     "data": {
      "application/vnd.jupyter.widget-view+json": {
       "model_id": "66a3804346a2467f9972be38f348b5bf",
       "version_major": 2,
       "version_minor": 0
      },
      "text/plain": [
       "HBox(children=(IntProgress(value=0, max=1000), HTML(value='')))"
      ]
     },
     "metadata": {},
     "output_type": "display_data"
    },
    {
     "data": {
      "application/vnd.jupyter.widget-view+json": {
       "model_id": "ddb04d4f70674dc6bc38a9a557b91da3",
       "version_major": 2,
       "version_minor": 0
      },
      "text/plain": [
       "HBox(children=(IntProgress(value=0, max=1000), HTML(value='')))"
      ]
     },
     "metadata": {},
     "output_type": "display_data"
    },
    {
     "data": {
      "application/vnd.jupyter.widget-view+json": {
       "model_id": "f9b126dc91da4956aa5b47dd764e69f7",
       "version_major": 2,
       "version_minor": 0
      },
      "text/plain": [
       "HBox(children=(IntProgress(value=0, max=1000), HTML(value='')))"
      ]
     },
     "metadata": {},
     "output_type": "display_data"
    },
    {
     "data": {
      "application/vnd.jupyter.widget-view+json": {
       "model_id": "96c3c0332ff3434a906540955253efc3",
       "version_major": 2,
       "version_minor": 0
      },
      "text/plain": [
       "HBox(children=(IntProgress(value=0, max=1000), HTML(value='')))"
      ]
     },
     "metadata": {},
     "output_type": "display_data"
    },
    {
     "data": {
      "application/vnd.jupyter.widget-view+json": {
       "model_id": "a6fdb962bbc54c24af7aff64d904b83a",
       "version_major": 2,
       "version_minor": 0
      },
      "text/plain": [
       "HBox(children=(IntProgress(value=0, max=1000), HTML(value='')))"
      ]
     },
     "metadata": {},
     "output_type": "display_data"
    },
    {
     "data": {
      "application/vnd.jupyter.widget-view+json": {
       "model_id": "82811d70ffa943ea9cb6e3bcf7b47edf",
       "version_major": 2,
       "version_minor": 0
      },
      "text/plain": [
       "HBox(children=(IntProgress(value=0, max=1000), HTML(value='')))"
      ]
     },
     "metadata": {},
     "output_type": "display_data"
    },
    {
     "data": {
      "application/vnd.jupyter.widget-view+json": {
       "model_id": "817c448d992c4a019382a3a3cf1c96d9",
       "version_major": 2,
       "version_minor": 0
      },
      "text/plain": [
       "HBox(children=(IntProgress(value=0, max=1000), HTML(value='')))"
      ]
     },
     "metadata": {},
     "output_type": "display_data"
    },
    {
     "data": {
      "application/vnd.jupyter.widget-view+json": {
       "model_id": "5a76515c0537421186eff53188095681",
       "version_major": 2,
       "version_minor": 0
      },
      "text/plain": [
       "HBox(children=(IntProgress(value=0, max=1000), HTML(value='')))"
      ]
     },
     "metadata": {},
     "output_type": "display_data"
    },
    {
     "data": {
      "application/vnd.jupyter.widget-view+json": {
       "model_id": "726314c1dbd5463a90763de7e09513ba",
       "version_major": 2,
       "version_minor": 0
      },
      "text/plain": [
       "HBox(children=(IntProgress(value=0, max=1000), HTML(value='')))"
      ]
     },
     "metadata": {},
     "output_type": "display_data"
    },
    {
     "data": {
      "application/vnd.jupyter.widget-view+json": {
       "model_id": "c5e80f74647b485da889f040bfd4489b",
       "version_major": 2,
       "version_minor": 0
      },
      "text/plain": [
       "HBox(children=(IntProgress(value=0, max=1000), HTML(value='')))"
      ]
     },
     "metadata": {},
     "output_type": "display_data"
    },
    {
     "data": {
      "application/vnd.jupyter.widget-view+json": {
       "model_id": "0dc54fca1f1e4c39a62c8c1480792374",
       "version_major": 2,
       "version_minor": 0
      },
      "text/plain": [
       "HBox(children=(IntProgress(value=0, max=1000), HTML(value='')))"
      ]
     },
     "metadata": {},
     "output_type": "display_data"
    },
    {
     "data": {
      "application/vnd.jupyter.widget-view+json": {
       "model_id": "394df5ea85fe4bd2b1ed8d816bde1f32",
       "version_major": 2,
       "version_minor": 0
      },
      "text/plain": [
       "HBox(children=(IntProgress(value=0, max=1000), HTML(value='')))"
      ]
     },
     "metadata": {},
     "output_type": "display_data"
    },
    {
     "data": {
      "application/vnd.jupyter.widget-view+json": {
       "model_id": "34948af969a94682b1de512ae7033958",
       "version_major": 2,
       "version_minor": 0
      },
      "text/plain": [
       "HBox(children=(IntProgress(value=0, max=1000), HTML(value='')))"
      ]
     },
     "metadata": {},
     "output_type": "display_data"
    },
    {
     "data": {
      "application/vnd.jupyter.widget-view+json": {
       "model_id": "b90fa2d0e1204982b9e806b4ad4dde94",
       "version_major": 2,
       "version_minor": 0
      },
      "text/plain": [
       "HBox(children=(IntProgress(value=0, max=1000), HTML(value='')))"
      ]
     },
     "metadata": {},
     "output_type": "display_data"
    },
    {
     "data": {
      "application/vnd.jupyter.widget-view+json": {
       "model_id": "1c639f4ef85647d3a733748d7aad6a54",
       "version_major": 2,
       "version_minor": 0
      },
      "text/plain": [
       "HBox(children=(IntProgress(value=0, max=1000), HTML(value='')))"
      ]
     },
     "metadata": {},
     "output_type": "display_data"
    },
    {
     "data": {
      "application/vnd.jupyter.widget-view+json": {
       "model_id": "70a5f96241a04a14ba5245d34de7f91d",
       "version_major": 2,
       "version_minor": 0
      },
      "text/plain": [
       "HBox(children=(IntProgress(value=0, max=1000), HTML(value='')))"
      ]
     },
     "metadata": {},
     "output_type": "display_data"
    },
    {
     "data": {
      "application/vnd.jupyter.widget-view+json": {
       "model_id": "8fa3df0adbfc4a9b9369bcb6f65661f4",
       "version_major": 2,
       "version_minor": 0
      },
      "text/plain": [
       "HBox(children=(IntProgress(value=0, max=1000), HTML(value='')))"
      ]
     },
     "metadata": {},
     "output_type": "display_data"
    },
    {
     "data": {
      "application/vnd.jupyter.widget-view+json": {
       "model_id": "19acad222f274a5fa224de9a1a658486",
       "version_major": 2,
       "version_minor": 0
      },
      "text/plain": [
       "HBox(children=(IntProgress(value=0, max=1000), HTML(value='')))"
      ]
     },
     "metadata": {},
     "output_type": "display_data"
    },
    {
     "data": {
      "application/vnd.jupyter.widget-view+json": {
       "model_id": "952992a430b645c595feb7e6958eabd5",
       "version_major": 2,
       "version_minor": 0
      },
      "text/plain": [
       "HBox(children=(IntProgress(value=0, max=1000), HTML(value='')))"
      ]
     },
     "metadata": {},
     "output_type": "display_data"
    },
    {
     "data": {
      "application/vnd.jupyter.widget-view+json": {
       "model_id": "a3d27a22719042258801159e89352a48",
       "version_major": 2,
       "version_minor": 0
      },
      "text/plain": [
       "HBox(children=(IntProgress(value=0, max=1000), HTML(value='')))"
      ]
     },
     "metadata": {},
     "output_type": "display_data"
    },
    {
     "data": {
      "application/vnd.jupyter.widget-view+json": {
       "model_id": "0c7f927debfb47e1b959ed8aa0255c95",
       "version_major": 2,
       "version_minor": 0
      },
      "text/plain": [
       "HBox(children=(IntProgress(value=0, max=1000), HTML(value='')))"
      ]
     },
     "metadata": {},
     "output_type": "display_data"
    },
    {
     "data": {
      "application/vnd.jupyter.widget-view+json": {
       "model_id": "25280c77465b4516a3982e98edab8c09",
       "version_major": 2,
       "version_minor": 0
      },
      "text/plain": [
       "HBox(children=(IntProgress(value=0, max=1000), HTML(value='')))"
      ]
     },
     "metadata": {},
     "output_type": "display_data"
    },
    {
     "data": {
      "application/vnd.jupyter.widget-view+json": {
       "model_id": "343fea9ede8a45dbb3d5e66c4b96346a",
       "version_major": 2,
       "version_minor": 0
      },
      "text/plain": [
       "HBox(children=(IntProgress(value=0, max=1000), HTML(value='')))"
      ]
     },
     "metadata": {},
     "output_type": "display_data"
    },
    {
     "data": {
      "application/vnd.jupyter.widget-view+json": {
       "model_id": "2dabe5c301ba48868a2a85961993ad98",
       "version_major": 2,
       "version_minor": 0
      },
      "text/plain": [
       "HBox(children=(IntProgress(value=0, max=1000), HTML(value='')))"
      ]
     },
     "metadata": {},
     "output_type": "display_data"
    },
    {
     "data": {
      "application/vnd.jupyter.widget-view+json": {
       "model_id": "94413398bd6740f98903da1ab1cb20eb",
       "version_major": 2,
       "version_minor": 0
      },
      "text/plain": [
       "HBox(children=(IntProgress(value=0, max=1000), HTML(value='')))"
      ]
     },
     "metadata": {},
     "output_type": "display_data"
    },
    {
     "data": {
      "application/vnd.jupyter.widget-view+json": {
       "model_id": "aefea77b07274e00928c92a11c9a0be9",
       "version_major": 2,
       "version_minor": 0
      },
      "text/plain": [
       "HBox(children=(IntProgress(value=0, max=1000), HTML(value='')))"
      ]
     },
     "metadata": {},
     "output_type": "display_data"
    },
    {
     "data": {
      "application/vnd.jupyter.widget-view+json": {
       "model_id": "5edcbc4d64604a35b455ea20eccb70cf",
       "version_major": 2,
       "version_minor": 0
      },
      "text/plain": [
       "HBox(children=(IntProgress(value=0, max=1000), HTML(value='')))"
      ]
     },
     "metadata": {},
     "output_type": "display_data"
    },
    {
     "data": {
      "application/vnd.jupyter.widget-view+json": {
       "model_id": "300b1130daeb41879c6bb53fb2adafbc",
       "version_major": 2,
       "version_minor": 0
      },
      "text/plain": [
       "HBox(children=(IntProgress(value=0, max=1000), HTML(value='')))"
      ]
     },
     "metadata": {},
     "output_type": "display_data"
    },
    {
     "data": {
      "application/vnd.jupyter.widget-view+json": {
       "model_id": "feb131bfff9146ab9635a7d02434e054",
       "version_major": 2,
       "version_minor": 0
      },
      "text/plain": [
       "HBox(children=(IntProgress(value=0, max=1000), HTML(value='')))"
      ]
     },
     "metadata": {},
     "output_type": "display_data"
    },
    {
     "data": {
      "application/vnd.jupyter.widget-view+json": {
       "model_id": "ca0e9db4b84149069d4c9c9a0927e940",
       "version_major": 2,
       "version_minor": 0
      },
      "text/plain": [
       "HBox(children=(IntProgress(value=0, max=1000), HTML(value='')))"
      ]
     },
     "metadata": {},
     "output_type": "display_data"
    },
    {
     "data": {
      "application/vnd.jupyter.widget-view+json": {
       "model_id": "c976e3b61a384ea8809c1b88ed06a137",
       "version_major": 2,
       "version_minor": 0
      },
      "text/plain": [
       "HBox(children=(IntProgress(value=0, max=1000), HTML(value='')))"
      ]
     },
     "metadata": {},
     "output_type": "display_data"
    },
    {
     "data": {
      "application/vnd.jupyter.widget-view+json": {
       "model_id": "eefdbc3f0b1149bdb4f0b2ea6a526cb5",
       "version_major": 2,
       "version_minor": 0
      },
      "text/plain": [
       "HBox(children=(IntProgress(value=0, max=1000), HTML(value='')))"
      ]
     },
     "metadata": {},
     "output_type": "display_data"
    },
    {
     "data": {
      "application/vnd.jupyter.widget-view+json": {
       "model_id": "2c0bbc78ccb540dda332ebdca93633f2",
       "version_major": 2,
       "version_minor": 0
      },
      "text/plain": [
       "HBox(children=(IntProgress(value=0, max=1000), HTML(value='')))"
      ]
     },
     "metadata": {},
     "output_type": "display_data"
    },
    {
     "data": {
      "application/vnd.jupyter.widget-view+json": {
       "model_id": "4a4a2a25159d41e5a99da759f598e309",
       "version_major": 2,
       "version_minor": 0
      },
      "text/plain": [
       "HBox(children=(IntProgress(value=0, max=1000), HTML(value='')))"
      ]
     },
     "metadata": {},
     "output_type": "display_data"
    },
    {
     "data": {
      "application/vnd.jupyter.widget-view+json": {
       "model_id": "7089842b295c4063b5f5afb6fd7d0a95",
       "version_major": 2,
       "version_minor": 0
      },
      "text/plain": [
       "HBox(children=(IntProgress(value=0, max=1000), HTML(value='')))"
      ]
     },
     "metadata": {},
     "output_type": "display_data"
    },
    {
     "data": {
      "application/vnd.jupyter.widget-view+json": {
       "model_id": "d464ccc646814a07b122ecb1411c075f",
       "version_major": 2,
       "version_minor": 0
      },
      "text/plain": [
       "HBox(children=(IntProgress(value=0, max=1000), HTML(value='')))"
      ]
     },
     "metadata": {},
     "output_type": "display_data"
    },
    {
     "data": {
      "application/vnd.jupyter.widget-view+json": {
       "model_id": "a6a44b2b0b32499da79b8823121583dd",
       "version_major": 2,
       "version_minor": 0
      },
      "text/plain": [
       "HBox(children=(IntProgress(value=0, max=1000), HTML(value='')))"
      ]
     },
     "metadata": {},
     "output_type": "display_data"
    },
    {
     "data": {
      "application/vnd.jupyter.widget-view+json": {
       "model_id": "3947ddbac4784f66bda00b417137259f",
       "version_major": 2,
       "version_minor": 0
      },
      "text/plain": [
       "HBox(children=(IntProgress(value=0, max=1000), HTML(value='')))"
      ]
     },
     "metadata": {},
     "output_type": "display_data"
    },
    {
     "data": {
      "application/vnd.jupyter.widget-view+json": {
       "model_id": "68c5fb4d7f2b410a8dc0fdf39031300a",
       "version_major": 2,
       "version_minor": 0
      },
      "text/plain": [
       "HBox(children=(IntProgress(value=0, max=1000), HTML(value='')))"
      ]
     },
     "metadata": {},
     "output_type": "display_data"
    },
    {
     "data": {
      "application/vnd.jupyter.widget-view+json": {
       "model_id": "8f32b83eee824421a95a556f85915627",
       "version_major": 2,
       "version_minor": 0
      },
      "text/plain": [
       "HBox(children=(IntProgress(value=0, max=1000), HTML(value='')))"
      ]
     },
     "metadata": {},
     "output_type": "display_data"
    },
    {
     "data": {
      "application/vnd.jupyter.widget-view+json": {
       "model_id": "542447f7946f44c589d103e1da013289",
       "version_major": 2,
       "version_minor": 0
      },
      "text/plain": [
       "HBox(children=(IntProgress(value=0, max=1000), HTML(value='')))"
      ]
     },
     "metadata": {},
     "output_type": "display_data"
    },
    {
     "data": {
      "application/vnd.jupyter.widget-view+json": {
       "model_id": "d599724cc83b4ba885d3b9ece35a2558",
       "version_major": 2,
       "version_minor": 0
      },
      "text/plain": [
       "HBox(children=(IntProgress(value=0, max=1000), HTML(value='')))"
      ]
     },
     "metadata": {},
     "output_type": "display_data"
    },
    {
     "data": {
      "application/vnd.jupyter.widget-view+json": {
       "model_id": "0d5dafe0ab7b4f7aaad6994abeda6d7d",
       "version_major": 2,
       "version_minor": 0
      },
      "text/plain": [
       "HBox(children=(IntProgress(value=0, max=1000), HTML(value='')))"
      ]
     },
     "metadata": {},
     "output_type": "display_data"
    },
    {
     "data": {
      "application/vnd.jupyter.widget-view+json": {
       "model_id": "f90df518b5104c6584c9d7d9a491591e",
       "version_major": 2,
       "version_minor": 0
      },
      "text/plain": [
       "HBox(children=(IntProgress(value=0, max=1000), HTML(value='')))"
      ]
     },
     "metadata": {},
     "output_type": "display_data"
    },
    {
     "data": {
      "application/vnd.jupyter.widget-view+json": {
       "model_id": "c7e4fb22f9e041c98195bb55721d9676",
       "version_major": 2,
       "version_minor": 0
      },
      "text/plain": [
       "HBox(children=(IntProgress(value=0, max=1000), HTML(value='')))"
      ]
     },
     "metadata": {},
     "output_type": "display_data"
    },
    {
     "data": {
      "application/vnd.jupyter.widget-view+json": {
       "model_id": "54ba96baa7a64e3da586cbdabe46e294",
       "version_major": 2,
       "version_minor": 0
      },
      "text/plain": [
       "HBox(children=(IntProgress(value=0, max=1000), HTML(value='')))"
      ]
     },
     "metadata": {},
     "output_type": "display_data"
    },
    {
     "data": {
      "application/vnd.jupyter.widget-view+json": {
       "model_id": "f4feba6c80ef440aaa68ad219d137ae5",
       "version_major": 2,
       "version_minor": 0
      },
      "text/plain": [
       "HBox(children=(IntProgress(value=0, max=1000), HTML(value='')))"
      ]
     },
     "metadata": {},
     "output_type": "display_data"
    },
    {
     "data": {
      "application/vnd.jupyter.widget-view+json": {
       "model_id": "e49e40d227b14700860c22d86c1b3319",
       "version_major": 2,
       "version_minor": 0
      },
      "text/plain": [
       "HBox(children=(IntProgress(value=0, max=1000), HTML(value='')))"
      ]
     },
     "metadata": {},
     "output_type": "display_data"
    },
    {
     "data": {
      "application/vnd.jupyter.widget-view+json": {
       "model_id": "37ea4f100e584d1888164022ca269e75",
       "version_major": 2,
       "version_minor": 0
      },
      "text/plain": [
       "HBox(children=(IntProgress(value=0, max=1000), HTML(value='')))"
      ]
     },
     "metadata": {},
     "output_type": "display_data"
    },
    {
     "data": {
      "application/vnd.jupyter.widget-view+json": {
       "model_id": "525b6dec4d594fd3b35c02b33cbebc53",
       "version_major": 2,
       "version_minor": 0
      },
      "text/plain": [
       "HBox(children=(IntProgress(value=0, max=1000), HTML(value='')))"
      ]
     },
     "metadata": {},
     "output_type": "display_data"
    },
    {
     "data": {
      "application/vnd.jupyter.widget-view+json": {
       "model_id": "030a1aa634aa4304b5837e10dc8763dd",
       "version_major": 2,
       "version_minor": 0
      },
      "text/plain": [
       "HBox(children=(IntProgress(value=0, max=1000), HTML(value='')))"
      ]
     },
     "metadata": {},
     "output_type": "display_data"
    },
    {
     "data": {
      "application/vnd.jupyter.widget-view+json": {
       "model_id": "8eeb00ae5bdd4b2bb07e07504268f98c",
       "version_major": 2,
       "version_minor": 0
      },
      "text/plain": [
       "HBox(children=(IntProgress(value=0, max=1000), HTML(value='')))"
      ]
     },
     "metadata": {},
     "output_type": "display_data"
    },
    {
     "data": {
      "application/vnd.jupyter.widget-view+json": {
       "model_id": "08f477ebe5084a20b460e080f6a79362",
       "version_major": 2,
       "version_minor": 0
      },
      "text/plain": [
       "HBox(children=(IntProgress(value=0, max=1000), HTML(value='')))"
      ]
     },
     "metadata": {},
     "output_type": "display_data"
    },
    {
     "data": {
      "application/vnd.jupyter.widget-view+json": {
       "model_id": "c6ffd6b64ea442c693f73de166de0758",
       "version_major": 2,
       "version_minor": 0
      },
      "text/plain": [
       "HBox(children=(IntProgress(value=0, max=1000), HTML(value='')))"
      ]
     },
     "metadata": {},
     "output_type": "display_data"
    },
    {
     "data": {
      "application/vnd.jupyter.widget-view+json": {
       "model_id": "06d51cd0c9864b91896d689ef1437ee4",
       "version_major": 2,
       "version_minor": 0
      },
      "text/plain": [
       "HBox(children=(IntProgress(value=0, max=1000), HTML(value='')))"
      ]
     },
     "metadata": {},
     "output_type": "display_data"
    },
    {
     "data": {
      "application/vnd.jupyter.widget-view+json": {
       "model_id": "cc366ee237fb4f1283d5a52a6b8cc25c",
       "version_major": 2,
       "version_minor": 0
      },
      "text/plain": [
       "HBox(children=(IntProgress(value=0, max=1000), HTML(value='')))"
      ]
     },
     "metadata": {},
     "output_type": "display_data"
    },
    {
     "data": {
      "application/vnd.jupyter.widget-view+json": {
       "model_id": "8a05acf79047447e9eab11d5cc2fd51b",
       "version_major": 2,
       "version_minor": 0
      },
      "text/plain": [
       "HBox(children=(IntProgress(value=0, max=1000), HTML(value='')))"
      ]
     },
     "metadata": {},
     "output_type": "display_data"
    },
    {
     "data": {
      "application/vnd.jupyter.widget-view+json": {
       "model_id": "463e34731931491498f37738c9bc816b",
       "version_major": 2,
       "version_minor": 0
      },
      "text/plain": [
       "HBox(children=(IntProgress(value=0, max=1000), HTML(value='')))"
      ]
     },
     "metadata": {},
     "output_type": "display_data"
    },
    {
     "data": {
      "application/vnd.jupyter.widget-view+json": {
       "model_id": "4841d65d2b2c4d20b847bbc594acce3d",
       "version_major": 2,
       "version_minor": 0
      },
      "text/plain": [
       "HBox(children=(IntProgress(value=0, max=1000), HTML(value='')))"
      ]
     },
     "metadata": {},
     "output_type": "display_data"
    },
    {
     "data": {
      "application/vnd.jupyter.widget-view+json": {
       "model_id": "9ff7c022377e4dd0b7440674cde63a4c",
       "version_major": 2,
       "version_minor": 0
      },
      "text/plain": [
       "HBox(children=(IntProgress(value=0, max=1000), HTML(value='')))"
      ]
     },
     "metadata": {},
     "output_type": "display_data"
    },
    {
     "data": {
      "application/vnd.jupyter.widget-view+json": {
       "model_id": "da7c70ba2df14e5e801929788daf6e71",
       "version_major": 2,
       "version_minor": 0
      },
      "text/plain": [
       "HBox(children=(IntProgress(value=0, max=1000), HTML(value='')))"
      ]
     },
     "metadata": {},
     "output_type": "display_data"
    },
    {
     "data": {
      "application/vnd.jupyter.widget-view+json": {
       "model_id": "a4f16020e4f64fc1bc74a402a7c0154a",
       "version_major": 2,
       "version_minor": 0
      },
      "text/plain": [
       "HBox(children=(IntProgress(value=0, max=1000), HTML(value='')))"
      ]
     },
     "metadata": {},
     "output_type": "display_data"
    },
    {
     "data": {
      "application/vnd.jupyter.widget-view+json": {
       "model_id": "ea12f32e23a347a78cce07bdd15b3296",
       "version_major": 2,
       "version_minor": 0
      },
      "text/plain": [
       "HBox(children=(IntProgress(value=0, max=1000), HTML(value='')))"
      ]
     },
     "metadata": {},
     "output_type": "display_data"
    },
    {
     "data": {
      "application/vnd.jupyter.widget-view+json": {
       "model_id": "a1967ca587d54dbb8d23080a8580d037",
       "version_major": 2,
       "version_minor": 0
      },
      "text/plain": [
       "HBox(children=(IntProgress(value=0, max=1000), HTML(value='')))"
      ]
     },
     "metadata": {},
     "output_type": "display_data"
    },
    {
     "data": {
      "application/vnd.jupyter.widget-view+json": {
       "model_id": "dfe1bf7acc2a4a88b820674a9f3c0558",
       "version_major": 2,
       "version_minor": 0
      },
      "text/plain": [
       "HBox(children=(IntProgress(value=0, max=1000), HTML(value='')))"
      ]
     },
     "metadata": {},
     "output_type": "display_data"
    },
    {
     "data": {
      "application/vnd.jupyter.widget-view+json": {
       "model_id": "f04edc1afc684abea6f1265c378fb417",
       "version_major": 2,
       "version_minor": 0
      },
      "text/plain": [
       "HBox(children=(IntProgress(value=0, max=1000), HTML(value='')))"
      ]
     },
     "metadata": {},
     "output_type": "display_data"
    },
    {
     "data": {
      "application/vnd.jupyter.widget-view+json": {
       "model_id": "b9709df222f7488aa53748d879b7d288",
       "version_major": 2,
       "version_minor": 0
      },
      "text/plain": [
       "HBox(children=(IntProgress(value=0, max=1000), HTML(value='')))"
      ]
     },
     "metadata": {},
     "output_type": "display_data"
    },
    {
     "data": {
      "application/vnd.jupyter.widget-view+json": {
       "model_id": "d927881078904c80bb4980dfe2cbc673",
       "version_major": 2,
       "version_minor": 0
      },
      "text/plain": [
       "HBox(children=(IntProgress(value=0, max=1000), HTML(value='')))"
      ]
     },
     "metadata": {},
     "output_type": "display_data"
    },
    {
     "data": {
      "application/vnd.jupyter.widget-view+json": {
       "model_id": "ce7996f7678c4d6ba4a19bcddeea2fe3",
       "version_major": 2,
       "version_minor": 0
      },
      "text/plain": [
       "HBox(children=(IntProgress(value=0, max=1000), HTML(value='')))"
      ]
     },
     "metadata": {},
     "output_type": "display_data"
    },
    {
     "data": {
      "application/vnd.jupyter.widget-view+json": {
       "model_id": "c2eb366e19df4b2d8fd5326f29409cec",
       "version_major": 2,
       "version_minor": 0
      },
      "text/plain": [
       "HBox(children=(IntProgress(value=0, max=1000), HTML(value='')))"
      ]
     },
     "metadata": {},
     "output_type": "display_data"
    },
    {
     "data": {
      "application/vnd.jupyter.widget-view+json": {
       "model_id": "e0e85e9847bc4d5eb17b511ce760517c",
       "version_major": 2,
       "version_minor": 0
      },
      "text/plain": [
       "HBox(children=(IntProgress(value=0, max=1000), HTML(value='')))"
      ]
     },
     "metadata": {},
     "output_type": "display_data"
    },
    {
     "data": {
      "application/vnd.jupyter.widget-view+json": {
       "model_id": "4f81512415884585b56e2aa5fc47cbbd",
       "version_major": 2,
       "version_minor": 0
      },
      "text/plain": [
       "HBox(children=(IntProgress(value=0, max=1000), HTML(value='')))"
      ]
     },
     "metadata": {},
     "output_type": "display_data"
    },
    {
     "data": {
      "application/vnd.jupyter.widget-view+json": {
       "model_id": "e40bece4bea148fa9d2327f2a58dbe34",
       "version_major": 2,
       "version_minor": 0
      },
      "text/plain": [
       "HBox(children=(IntProgress(value=0, max=1000), HTML(value='')))"
      ]
     },
     "metadata": {},
     "output_type": "display_data"
    },
    {
     "data": {
      "application/vnd.jupyter.widget-view+json": {
       "model_id": "7916f752627843e3a6f1a219c900a6e3",
       "version_major": 2,
       "version_minor": 0
      },
      "text/plain": [
       "HBox(children=(IntProgress(value=0, max=1000), HTML(value='')))"
      ]
     },
     "metadata": {},
     "output_type": "display_data"
    },
    {
     "data": {
      "application/vnd.jupyter.widget-view+json": {
       "model_id": "8e34ec47f50740dab91c16743ed63d94",
       "version_major": 2,
       "version_minor": 0
      },
      "text/plain": [
       "HBox(children=(IntProgress(value=0, max=1000), HTML(value='')))"
      ]
     },
     "metadata": {},
     "output_type": "display_data"
    },
    {
     "data": {
      "application/vnd.jupyter.widget-view+json": {
       "model_id": "8ff172900a2e431da12f0ab68ea7ab31",
       "version_major": 2,
       "version_minor": 0
      },
      "text/plain": [
       "HBox(children=(IntProgress(value=0, max=1000), HTML(value='')))"
      ]
     },
     "metadata": {},
     "output_type": "display_data"
    },
    {
     "data": {
      "application/vnd.jupyter.widget-view+json": {
       "model_id": "8e7caf9a49a74286ab243e95f44454ff",
       "version_major": 2,
       "version_minor": 0
      },
      "text/plain": [
       "HBox(children=(IntProgress(value=0, max=1000), HTML(value='')))"
      ]
     },
     "metadata": {},
     "output_type": "display_data"
    },
    {
     "data": {
      "application/vnd.jupyter.widget-view+json": {
       "model_id": "bc295304dd374391ae744a11513e686d",
       "version_major": 2,
       "version_minor": 0
      },
      "text/plain": [
       "HBox(children=(IntProgress(value=0, max=1000), HTML(value='')))"
      ]
     },
     "metadata": {},
     "output_type": "display_data"
    },
    {
     "name": "stdout",
     "output_type": "stream",
     "text": [
      "[[-56.73]\n",
      " [-49.24]\n",
      " [-53.44]\n",
      " [-43.35]\n",
      " [-42.32]\n",
      " [-41.24]\n",
      " [-34.44]\n",
      " [-31.1 ]\n",
      " [-32.79]\n",
      " [-41.01]\n",
      " [-43.54]\n",
      " [-39.76]\n",
      " [-43.09]\n",
      " [-37.7 ]\n",
      " [-38.39]\n",
      " [-38.53]\n",
      " [-38.35]\n",
      " [-38.4 ]\n",
      " [-38.59]\n",
      " [-37.71]\n",
      " [-35.91]\n",
      " [-31.75]\n",
      " [-36.2 ]\n",
      " [-36.35]\n",
      " [-36.4 ]\n",
      " [-35.97]\n",
      " [-37.92]\n",
      " [-36.63]\n",
      " [-35.94]\n",
      " [-36.44]\n",
      " [-36.15]\n",
      " [-31.74]\n",
      " [-36.24]\n",
      " [-35.63]\n",
      " [-34.97]\n",
      " [-34.31]\n",
      " [-34.22]\n",
      " [-27.01]\n",
      " [-24.58]\n",
      " [-25.46]\n",
      " [-28.81]\n",
      " [-26.01]\n",
      " [-24.68]\n",
      " [-25.07]\n",
      " [-23.9 ]\n",
      " [-26.37]\n",
      " [-25.39]\n",
      " [-25.12]\n",
      " [-26.06]\n",
      " [-24.8 ]\n",
      " [-23.34]\n",
      " [-27.12]\n",
      " [-22.73]\n",
      " [-26.23]\n",
      " [-24.44]\n",
      " [-24.51]\n",
      " [-24.12]\n",
      " [-23.92]\n",
      " [-24.16]\n",
      " [-24.45]\n",
      " [-25.63]\n",
      " [-23.78]\n",
      " [-24.85]\n",
      " [-22.53]\n",
      " [-22.97]\n",
      " [-21.98]\n",
      " [-24.07]\n",
      " [-23.92]\n",
      " [-25.27]\n",
      " [-22.9 ]\n",
      " [-22.65]\n",
      " [-23.81]\n",
      " [-24.05]\n",
      " [-24.24]\n",
      " [-22.77]\n",
      " [-23.84]\n",
      " [-23.04]\n",
      " [-22.84]\n",
      " [-22.3 ]\n",
      " [-23.18]\n",
      " [-22.74]\n",
      " [-23.84]\n",
      " [-24.35]\n",
      " [-22.38]\n",
      " [-21.64]\n",
      " [-23.46]\n",
      " [-22.18]\n",
      " [-23.33]\n",
      " [-24.65]\n",
      " [-22.41]\n",
      " [-23.05]\n",
      " [-20.89]\n",
      " [-22.42]\n",
      " [-23.04]\n",
      " [-23.21]\n",
      " [-23.11]\n",
      " [-21.88]\n",
      " [-23.3 ]\n",
      " [-25.06]\n",
      " [-22.16]\n",
      " [-22.95]\n",
      " [-22.14]\n",
      " [-22.33]\n",
      " [-23.14]\n",
      " [-22.75]\n",
      " [-23.03]\n",
      " [-23.05]\n",
      " [-23.11]\n",
      " [-22.63]\n",
      " [-22.08]\n",
      " [-21.81]\n",
      " [-22.51]\n",
      " [-24.47]\n",
      " [-21.38]\n",
      " [-21.91]\n",
      " [-22.92]\n",
      " [-22.38]\n",
      " [-22.71]\n",
      " [-22.53]\n",
      " [-21.27]\n",
      " [-22.94]\n",
      " [-22.3 ]\n",
      " [-24.55]\n",
      " [-22.39]\n",
      " [-20.12]\n",
      " [-22.86]\n",
      " [-23.26]\n",
      " [-21.77]\n",
      " [-21.58]\n",
      " [-21.62]\n",
      " [-23.11]\n",
      " [-22.26]\n",
      " [-23.17]\n",
      " [-22.35]\n",
      " [-22.1 ]\n",
      " [-22.22]\n",
      " [-21.8 ]\n",
      " [-21.14]\n",
      " [-21.79]\n",
      " [-21.46]\n",
      " [-21.79]\n",
      " [-22.03]\n",
      " [-22.44]\n",
      " [-20.49]\n",
      " [-21.38]\n",
      " [-23.25]\n",
      " [-21.52]\n",
      " [-24.06]\n",
      " [-23.52]\n",
      " [-23.3 ]\n",
      " [-22.17]\n",
      " [-22.83]\n",
      " [-21.95]\n",
      " [-22.68]\n",
      " [-20.88]\n",
      " [-22.18]\n",
      " [-22.32]\n",
      " [-23.28]\n",
      " [-20.43]\n",
      " [-22.81]\n",
      " [-22.74]\n",
      " [-20.58]\n",
      " [-21.9 ]\n",
      " [-21.91]\n",
      " [-22.09]\n",
      " [-22.67]\n",
      " [-22.68]\n",
      " [-21.28]\n",
      " [-20.73]\n",
      " [-22.83]\n",
      " [-21.49]\n",
      " [-23.93]\n",
      " [-21.49]\n",
      " [-22.47]\n",
      " [-23.65]\n",
      " [-22.46]\n",
      " [-22.13]\n",
      " [-23.04]\n",
      " [-23.09]\n",
      " [-21.21]\n",
      " [-21.71]\n",
      " [-22.2 ]\n",
      " [-21.9 ]\n",
      " [-22.36]\n",
      " [-22.89]\n",
      " [-22.87]\n",
      " [-22.78]\n",
      " [-24.01]\n",
      " [-21.86]\n",
      " [-23.19]\n",
      " [-11.45]\n",
      " [-23.36]\n",
      " [-22.91]\n",
      " [-22.7 ]\n",
      " [-21.93]\n",
      " [-21.24]\n",
      " [-24.52]\n",
      " [-20.82]\n",
      " [-22.02]\n",
      " [-22.91]\n",
      " [-22.52]\n",
      " [-22.31]\n",
      " [-24.24]\n",
      " [-22.55]\n",
      " [-22.45]\n",
      " [-22.66]\n",
      " [-22.45]\n",
      " [-22.68]\n",
      " [-22.13]\n",
      " [-21.05]\n",
      " [-23.42]\n",
      " [-21.07]\n",
      " [-22.36]\n",
      " [-21.26]\n",
      " [-22.32]\n",
      " [-21.34]\n",
      " [-22.11]\n",
      " [-21.  ]\n",
      " [-22.66]\n",
      " [-22.13]\n",
      " [-21.95]\n",
      " [-22.9 ]\n",
      " [-22.84]\n",
      " [-22.73]\n",
      " [-22.17]\n",
      " [-23.  ]\n",
      " [-21.88]\n",
      " [-21.72]\n",
      " [-22.97]\n",
      " [-22.08]\n",
      " [-22.43]\n",
      " [-23.13]\n",
      " [-22.56]\n",
      " [-23.16]\n",
      " [-20.37]\n",
      " [-22.59]\n",
      " [-22.35]\n",
      " [-22.79]\n",
      " [-22.36]\n",
      " [-22.08]\n",
      " [-22.95]\n",
      " [-22.75]\n",
      " [-21.49]\n",
      " [-21.74]\n",
      " [-24.39]\n",
      " [-19.7 ]\n",
      " [-23.36]\n",
      " [-21.19]\n",
      " [-21.38]\n",
      " [-21.43]\n",
      " [-21.29]\n",
      " [-23.17]\n",
      " [-22.01]\n",
      " [-21.81]\n",
      " [-22.37]\n",
      " [-22.88]\n",
      " [-22.81]\n",
      " [-20.84]\n",
      " [-22.24]\n",
      " [-21.87]\n",
      " [-23.64]\n",
      " [-22.29]\n",
      " [-20.99]\n",
      " [-20.98]\n",
      " [-22.51]\n",
      " [-22.33]\n",
      " [-22.28]\n",
      " [-20.45]\n",
      " [-22.53]\n",
      " [-22.41]\n",
      " [-20.8 ]\n",
      " [-22.55]\n",
      " [-21.3 ]\n",
      " [-21.53]\n",
      " [-22.44]\n",
      " [-22.02]\n",
      " [-23.48]\n",
      " [-21.82]\n",
      " [-21.26]\n",
      " [-22.01]\n",
      " [-21.95]\n",
      " [-21.76]\n",
      " [-21.22]\n",
      " [-23.06]\n",
      " [-22.67]\n",
      " [-22.23]\n",
      " [-23.8 ]\n",
      " [-21.9 ]\n",
      " [-21.89]\n",
      " [-20.43]\n",
      " [-21.65]\n",
      " [-21.3 ]\n",
      " [-23.24]\n",
      " [-21.61]\n",
      " [-21.63]\n",
      " [-22.57]\n",
      " [-22.58]\n",
      " [-20.79]\n",
      " [-22.67]\n",
      " [-21.54]\n",
      " [-22.57]\n",
      " [-22.6 ]\n",
      " [-21.95]\n",
      " [-22.28]\n",
      " [-21.02]\n",
      " [-21.68]\n",
      " [-24.16]\n",
      " [-21.96]\n",
      " [-22.16]\n",
      " [-22.92]\n",
      " [-22.33]\n",
      " [-20.63]\n",
      " [-21.95]\n",
      " [-22.12]\n",
      " [-23.13]\n",
      " [-22.92]\n",
      " [-21.27]\n",
      " [-21.21]\n",
      " [-22.8 ]\n",
      " [-24.19]\n",
      " [-22.66]\n",
      " [-21.64]\n",
      " [-22.38]\n",
      " [-22.18]\n",
      " [-22.54]\n",
      " [-22.54]\n",
      " [-23.15]\n",
      " [-21.27]\n",
      " [-21.95]\n",
      " [-24.3 ]\n",
      " [-21.49]\n",
      " [-22.59]\n",
      " [-22.66]\n",
      " [-21.3 ]\n",
      " [-22.68]\n",
      " [-23.31]\n",
      " [-20.35]\n",
      " [-22.  ]\n",
      " [-22.05]\n",
      " [-22.13]\n",
      " [-22.99]\n",
      " [-22.74]\n",
      " [-22.32]\n",
      " [-22.14]\n",
      " [-22.02]\n",
      " [-20.18]\n",
      " [-22.83]\n",
      " [-24.34]\n",
      " [-23.03]\n",
      " [-22.5 ]\n",
      " [-19.91]\n",
      " [-23.93]\n",
      " [-23.83]\n",
      " [-22.1 ]\n",
      " [-22.26]\n",
      " [-21.69]\n",
      " [-22.87]\n",
      " [-23.15]\n",
      " [-22.52]\n",
      " [-22.92]\n",
      " [-23.14]\n",
      " [-22.54]\n",
      " [-23.05]\n",
      " [-22.91]\n",
      " [-21.77]\n",
      " [-22.02]\n",
      " [-22.25]\n",
      " [-21.09]\n",
      " [-22.64]\n",
      " [-22.97]\n",
      " [-21.16]\n",
      " [-19.95]\n",
      " [-24.07]\n",
      " [-21.88]\n",
      " [-22.02]\n",
      " [-22.32]\n",
      " [-22.7 ]\n",
      " [-21.82]\n",
      " [-22.1 ]\n",
      " [-22.09]\n",
      " [-22.74]\n",
      " [-22.96]\n",
      " [-22.3 ]\n",
      " [-20.46]\n",
      " [-21.63]\n",
      " [-21.57]\n",
      " [-24.09]\n",
      " [-22.53]\n",
      " [-22.67]\n",
      " [-22.29]\n",
      " [-21.09]\n",
      " [-21.24]\n",
      " [-21.49]\n",
      " [-21.28]\n",
      " [-22.27]\n",
      " [-21.56]\n",
      " [-21.25]\n",
      " [-22.4 ]\n",
      " [-21.11]\n",
      " [-21.55]\n",
      " [-21.8 ]\n",
      " [-23.26]\n",
      " [-21.36]\n",
      " [-21.81]\n",
      " [-21.63]\n",
      " [-20.97]\n",
      " [-22.69]\n",
      " [-22.7 ]\n",
      " [-22.49]\n",
      " [-22.39]\n",
      " [-20.88]\n",
      " [-21.92]\n",
      " [-23.14]\n",
      " [-22.91]\n",
      " [-21.82]\n",
      " [-22.64]\n",
      " [-21.55]\n",
      " [-23.36]\n",
      " [-22.86]\n",
      " [-22.72]\n",
      " [-22.76]\n",
      " [-23.04]\n",
      " [-22.82]\n",
      " [-23.19]\n",
      " [-22.16]\n",
      " [-22.02]\n",
      " [-22.79]\n",
      " [-23.2 ]\n",
      " [-20.93]\n",
      " [-21.18]\n",
      " [-22.28]\n",
      " [-21.72]\n",
      " [-23.25]\n",
      " [-21.36]\n",
      " [-23.49]\n",
      " [-21.64]\n",
      " [-22.83]\n",
      " [-22.99]\n",
      " [-21.73]\n",
      " [-23.58]\n",
      " [-21.36]\n",
      " [-21.2 ]\n",
      " [-23.05]\n",
      " [-22.88]\n",
      " [-23.07]\n",
      " [-22.05]\n",
      " [-20.47]\n",
      " [-23.22]\n",
      " [-22.36]\n",
      " [-22.7 ]\n",
      " [-21.8 ]\n",
      " [-22.97]\n",
      " [-22.86]\n",
      " [-23.4 ]\n",
      " [-23.78]\n",
      " [-20.7 ]\n",
      " [-21.35]\n",
      " [-23.2 ]\n",
      " [-23.29]\n",
      " [-23.38]\n",
      " [-21.16]\n",
      " [-22.42]\n",
      " [-21.42]\n",
      " [-22.07]\n",
      " [-22.35]\n",
      " [-20.97]\n",
      " [-21.09]\n",
      " [-21.84]\n",
      " [-20.78]\n",
      " [-21.63]\n",
      " [-22.21]\n",
      " [-22.06]\n",
      " [-20.25]\n",
      " [-22.81]\n",
      " [-22.2 ]\n",
      " [-21.67]\n",
      " [-22.92]\n",
      " [-23.83]\n",
      " [-22.32]\n",
      " [-23.11]\n",
      " [-20.45]\n",
      " [-22.93]\n",
      " [-21.3 ]\n",
      " [-21.56]\n",
      " [-22.  ]\n",
      " [-22.57]\n",
      " [-24.19]\n",
      " [-20.16]\n",
      " [-21.83]\n",
      " [-22.02]\n",
      " [-22.28]\n",
      " [-20.65]\n",
      " [-23.01]\n",
      " [-22.22]\n",
      " [-22.05]\n",
      " [-21.1 ]\n",
      " [-22.68]\n",
      " [-19.71]\n",
      " [-23.29]\n",
      " [-21.8 ]\n",
      " [-24.42]\n",
      " [-21.06]\n",
      " [-20.8 ]\n",
      " [-21.68]\n",
      " [-21.82]\n",
      " [-23.06]\n",
      " [-22.23]\n",
      " [-21.92]\n",
      " [-21.89]\n",
      " [-21.05]\n",
      " [-24.42]\n",
      " [-22.07]\n",
      " [-22.57]\n",
      " [-23.35]\n",
      " [-22.21]\n",
      " [-22.71]\n",
      " [-21.53]\n",
      " [-23.23]\n",
      " [-21.51]\n",
      " [-23.45]\n",
      " [-21.81]\n",
      " [-22.91]\n",
      " [-23.86]\n",
      " [-20.13]\n",
      " [-20.62]\n",
      " [-21.13]\n",
      " [-21.88]\n",
      " [-20.88]\n",
      " [-22.08]\n",
      " [-22.8 ]\n",
      " [-22.1 ]\n",
      " [-21.94]\n",
      " [-23.16]\n",
      " [-22.45]\n",
      " [-22.99]\n",
      " [-24.04]\n",
      " [-22.25]\n",
      " [-21.55]\n",
      " [-23.61]\n",
      " [-22.59]\n",
      " [-22.33]\n",
      " [-23.59]\n",
      " [-22.22]\n",
      " [-22.22]\n",
      " [-21.76]\n",
      " [-22.05]\n",
      " [-22.84]\n",
      " [-22.24]\n",
      " [-21.35]\n",
      " [-22.88]\n",
      " [-23.19]\n",
      " [-21.45]\n",
      " [-23.38]\n",
      " [-21.2 ]\n",
      " [-21.33]\n",
      " [-23.38]\n",
      " [-23.38]\n",
      " [-22.  ]\n",
      " [-21.98]\n",
      " [-21.45]\n",
      " [-22.03]\n",
      " [-22.06]\n",
      " [-21.38]\n",
      " [-21.36]\n",
      " [-23.06]\n",
      " [-21.16]\n",
      " [-21.76]\n",
      " [-22.83]\n",
      " [-21.28]\n",
      " [-20.87]\n",
      " [-22.15]\n",
      " [-22.13]\n",
      " [-24.2 ]\n",
      " [-23.71]\n",
      " [-22.73]\n",
      " [-22.29]\n",
      " [-21.96]\n",
      " [-22.57]\n",
      " [-21.06]\n",
      " [-22.54]\n",
      " [-22.96]\n",
      " [-20.65]\n",
      " [-22.58]\n",
      " [-22.5 ]\n",
      " [-21.37]\n",
      " [-23.7 ]\n",
      " [-22.33]\n",
      " [-21.23]\n",
      " [-22.56]\n",
      " [-22.08]\n",
      " [-22.16]\n",
      " [-20.95]\n",
      " [-22.43]\n",
      " [-21.33]\n",
      " [-21.66]\n",
      " [-23.27]\n",
      " [-21.3 ]\n",
      " [-21.21]\n",
      " [-23.68]\n",
      " [-21.63]\n",
      " [-23.61]\n",
      " [-20.49]\n",
      " [-20.36]\n",
      " [-23.29]\n",
      " [-21.97]\n",
      " [-21.85]\n",
      " [-23.92]\n",
      " [-21.61]\n",
      " [-21.9 ]\n",
      " [-23.46]\n",
      " [-23.  ]\n",
      " [-21.04]\n",
      " [-21.92]\n",
      " [-23.69]\n",
      " [-22.63]\n",
      " [-21.62]\n",
      " [-21.65]\n",
      " [-22.21]\n",
      " [-21.33]\n",
      " [-22.77]\n",
      " [-21.36]\n",
      " [-22.13]\n",
      " [-23.85]\n",
      " [-21.66]\n",
      " [-22.52]\n",
      " [-23.79]\n",
      " [-22.1 ]\n",
      " [-21.44]\n",
      " [-22.41]\n",
      " [-20.95]\n",
      " [-22.64]\n",
      " [-21.61]\n",
      " [-21.44]\n",
      " [-20.89]\n",
      " [-22.99]\n",
      " [-23.26]\n",
      " [-21.64]\n",
      " [-20.91]\n",
      " [-24.  ]\n",
      " [-23.63]\n",
      " [-22.01]\n",
      " [-22.81]\n",
      " [-23.12]\n",
      " [-21.17]\n",
      " [-23.94]\n",
      " [-20.99]\n",
      " [-21.88]\n",
      " [-22.23]\n",
      " [-21.85]\n",
      " [-21.53]\n",
      " [-23.43]\n",
      " [-21.06]\n",
      " [-22.05]\n",
      " [-21.16]\n",
      " [-21.14]\n",
      " [-20.41]\n",
      " [-21.49]\n",
      " [-23.44]\n",
      " [-23.24]\n",
      " [-22.44]\n",
      " [-22.77]\n",
      " [-22.26]\n",
      " [-22.32]\n",
      " [-22.38]\n",
      " [-21.47]\n",
      " [-22.59]\n",
      " [-22.26]\n",
      " [-22.64]\n",
      " [-22.88]\n",
      " [-21.74]\n",
      " [-21.8 ]\n",
      " [-23.02]\n",
      " [-21.18]\n",
      " [-20.34]\n",
      " [-23.49]\n",
      " [-23.46]\n",
      " [-21.84]\n",
      " [-23.02]\n",
      " [-21.63]\n",
      " [-22.49]\n",
      " [-20.65]\n",
      " [-22.74]\n",
      " [-23.05]\n",
      " [-21.05]\n",
      " [-21.85]\n",
      " [-21.93]\n",
      " [-22.26]\n",
      " [-23.79]\n",
      " [-22.37]\n",
      " [-20.8 ]\n",
      " [-21.85]\n",
      " [-22.37]\n",
      " [-22.53]\n",
      " [-22.88]\n",
      " [-20.93]\n",
      " [-21.58]\n",
      " [-22.87]\n",
      " [-21.03]\n",
      " [-22.86]\n",
      " [-23.16]\n",
      " [-23.06]\n",
      " [-22.82]\n",
      " [-22.56]\n",
      " [-23.13]\n",
      " [-21.58]\n",
      " [-21.35]\n",
      " [-21.51]\n",
      " [-23.86]\n",
      " [-21.77]\n",
      " [-20.66]\n",
      " [-22.64]\n",
      " [-24.4 ]\n",
      " [-21.85]\n",
      " [-22.29]\n",
      " [-21.88]\n",
      " [-21.43]\n",
      " [-22.55]\n",
      " [-24.02]\n",
      " [-21.88]\n",
      " [-24.45]\n",
      " [-21.75]\n",
      " [-21.22]\n",
      " [-22.9 ]\n",
      " [-22.09]\n",
      " [-22.86]\n",
      " [-20.51]\n",
      " [-21.71]\n",
      " [-22.38]\n",
      " [-22.86]\n",
      " [-21.39]\n",
      " [-22.12]\n",
      " [-22.83]\n",
      " [-22.26]\n",
      " [-21.34]\n",
      " [-22.47]\n",
      " [-22.81]\n",
      " [-22.64]\n",
      " [-20.97]\n",
      " [-22.7 ]\n",
      " [-21.64]\n",
      " [-22.42]\n",
      " [-23.47]\n",
      " [-22.47]\n",
      " [-22.52]\n",
      " [-21.32]\n",
      " [-24.77]\n",
      " [-22.64]\n",
      " [-22.33]\n",
      " [-21.49]\n",
      " [-21.6 ]\n",
      " [-22.43]\n",
      " [-23.51]\n",
      " [-22.21]\n",
      " [-21.87]\n",
      " [-21.07]\n",
      " [-22.22]\n",
      " [-23.29]\n",
      " [-21.58]\n",
      " [-22.49]\n",
      " [-22.12]\n",
      " [-22.49]\n",
      " [-22.55]\n",
      " [-22.67]\n",
      " [-23.76]\n",
      " [-23.35]\n",
      " [-20.09]\n",
      " [-21.53]\n",
      " [-22.37]\n",
      " [-23.15]\n",
      " [-21.29]\n",
      " [-21.01]\n",
      " [-21.84]\n",
      " [-22.42]\n",
      " [-22.41]\n",
      " [-20.84]\n",
      " [-20.61]\n",
      " [-23.32]\n",
      " [-21.24]\n",
      " [-22.21]\n",
      " [-21.43]\n",
      " [-21.59]\n",
      " [-21.71]\n",
      " [-21.68]\n",
      " [-21.34]\n",
      " [-22.4 ]\n",
      " [-21.18]\n",
      " [-22.13]\n",
      " [-23.45]\n",
      " [-22.95]\n",
      " [-22.65]\n",
      " [-20.92]\n",
      " [-22.13]\n",
      " [-22.3 ]\n",
      " [-22.15]\n",
      " [-20.61]\n",
      " [-22.79]\n",
      " [-22.08]\n",
      " [-21.92]\n",
      " [-23.04]\n",
      " [-22.08]\n",
      " [-23.59]\n",
      " [-22.23]\n",
      " [-22.85]\n",
      " [-21.76]\n",
      " [-22.83]\n",
      " [-22.42]\n",
      " [-23.01]\n",
      " [-22.43]\n",
      " [-22.27]\n",
      " [-21.06]\n",
      " [-22.92]\n",
      " [-21.51]\n",
      " [-22.78]\n",
      " [-21.65]\n",
      " [-21.02]\n",
      " [-23.14]\n",
      " [-23.  ]\n",
      " [-22.01]\n",
      " [-21.91]\n",
      " [-22.47]\n",
      " [-22.09]\n",
      " [-21.91]\n",
      " [-21.91]\n",
      " [-21.37]\n",
      " [-21.66]\n",
      " [-21.84]\n",
      " [-23.3 ]\n",
      " [-21.52]\n",
      " [-20.68]\n",
      " [-20.57]\n",
      " [-23.14]\n",
      " [-21.57]\n",
      " [-23.1 ]\n",
      " [-21.67]\n",
      " [-21.56]\n",
      " [-20.57]\n",
      " [-21.83]\n",
      " [-22.39]\n",
      " [-21.24]\n",
      " [-22.1 ]\n",
      " [-21.59]\n",
      " [-21.75]\n",
      " [-22.51]\n",
      " [-23.18]\n",
      " [-23.77]\n",
      " [-21.88]\n",
      " [-21.53]\n",
      " [-20.62]\n",
      " [-22.61]\n",
      " [-21.71]\n",
      " [-22.41]\n",
      " [-23.85]\n",
      " [-23.68]\n",
      " [-21.63]\n",
      " [-21.28]\n",
      " [-20.79]\n",
      " [-20.97]\n",
      " [-20.84]\n",
      " [-22.59]\n",
      " [-21.34]\n",
      " [-22.63]\n",
      " [-22.12]\n",
      " [-21.88]\n",
      " [-21.09]\n",
      " [-23.23]\n",
      " [-21.8 ]\n",
      " [-21.79]\n",
      " [-20.95]\n",
      " [-20.87]\n",
      " [-21.97]\n",
      " [-22.68]\n",
      " [-21.31]\n",
      " [-23.05]\n",
      " [-22.34]\n",
      " [-21.38]\n",
      " [-21.62]\n",
      " [-22.02]\n",
      " [-21.54]\n",
      " [-20.84]\n",
      " [-22.99]\n",
      " [-22.65]\n",
      " [-22.7 ]\n",
      " [-22.5 ]\n",
      " [-21.75]\n",
      " [-22.38]\n",
      " [-20.75]\n",
      " [-19.96]\n",
      " [-22.12]\n",
      " [-21.9 ]\n",
      " [-22.98]\n",
      " [-20.83]\n",
      " [-21.72]\n",
      " [-20.93]\n",
      " [-23.86]\n",
      " [-22.09]\n",
      " [-22.01]\n",
      " [-20.93]\n",
      " [-22.39]\n",
      " [-22.53]\n",
      " [-22.51]\n",
      " [-20.74]\n",
      " [-21.76]\n",
      " [-21.78]\n",
      " [-22.58]\n",
      " [-22.11]\n",
      " [-23.22]\n",
      " [-22.66]\n",
      " [-20.62]\n",
      " [-21.46]\n",
      " [-22.35]\n",
      " [-21.07]\n",
      " [-20.86]\n",
      " [-22.93]\n",
      " [-21.61]\n",
      " [-22.21]\n",
      " [-22.97]\n",
      " [-21.44]\n",
      " [-21.23]\n",
      " [-22.55]\n",
      " [-21.82]\n",
      " [-21.28]\n",
      " [-22.24]\n",
      " [-22.15]\n",
      " [-23.66]\n",
      " [-23.36]\n",
      " [-21.01]\n",
      " [-21.39]\n",
      " [-21.4 ]\n",
      " [-22.36]\n",
      " [-21.34]\n",
      " [-22.08]\n",
      " [-22.38]\n",
      " [-22.98]\n",
      " [-21.02]\n",
      " [-21.61]\n",
      " [-21.44]\n",
      " [-21.87]\n",
      " [-22.84]\n",
      " [-20.9 ]\n",
      " [-21.14]\n",
      " [-21.54]\n",
      " [-21.88]\n",
      " [-21.98]\n",
      " [-22.16]\n",
      " [-23.32]\n",
      " [-21.86]\n",
      " [-20.88]\n",
      " [-22.63]\n",
      " [-22.32]\n",
      " [-22.03]\n",
      " [-22.57]\n",
      " [-25.13]\n",
      " [-22.71]\n",
      " [-21.78]\n",
      " [-22.99]\n",
      " [-21.94]\n",
      " [-22.  ]\n",
      " [-22.14]\n",
      " [-23.09]\n",
      " [-21.83]\n",
      " [-22.02]\n",
      " [-23.13]\n",
      " [-22.17]\n",
      " [-22.42]\n",
      " [-22.32]\n",
      " [-23.13]\n",
      " [-22.7 ]\n",
      " [-21.9 ]\n",
      " [-22.67]\n",
      " [-22.06]\n",
      " [-21.87]\n",
      " [-20.99]\n",
      " [-20.75]\n",
      " [-22.07]\n",
      " [-21.46]\n",
      " [-22.38]\n",
      " [-21.65]\n",
      " [-22.13]\n",
      " [-22.36]\n",
      " [-22.93]\n",
      " [-20.88]\n",
      " [-21.72]\n",
      " [-22.17]\n",
      " [-22.87]\n",
      " [-20.87]\n",
      " [-22.01]\n",
      " [-21.72]\n",
      " [-23.82]\n",
      " [-22.82]\n",
      " [-22.27]\n",
      " [-22.35]\n",
      " [-21.83]\n",
      " [-23.  ]\n",
      " [-23.33]\n",
      " [-21.77]\n",
      " [-22.38]\n",
      " [-23.67]\n",
      " [-23.23]\n",
      " [-21.68]\n",
      " [-23.78]]\n"
     ]
    }
   ],
   "source": [
    "num_trials = 100\n",
    "num_ep_per_trial = 1000\n",
    "alpha_t = 2**(-10)\n",
    "alpha_w = alpha_t*100\n",
    "\n",
    "rew3 = np.zeros((num_ep_per_trial,1))\n",
    "for i in tqdm(range(num_trials)):\n",
    "    a = REINFORCE_mc(shortGridWorld, num_episodes=num_ep_per_trial, alpha_t=alpha_t, y=1, max_ep_len=1000)    \n",
    "    a.mc()\n",
    "    rew3 += np.reshape(np.array(a.G), (num_ep_per_trial,1))\n",
    "    a.G = []\n",
    "    a.L = []\n",
    "    \n",
    "print(rew3/num_trials)"
   ]
  },
  {
   "cell_type": "code",
   "execution_count": 85,
   "metadata": {},
   "outputs": [
    {
     "data": {
      "text/plain": [
       "array([[1.58214365e-15],\n",
       "       [1.00000000e+00]])"
      ]
     },
     "execution_count": 85,
     "metadata": {},
     "output_type": "execute_result"
    }
   ],
   "source": [
    "a.get_policy_distribution()"
   ]
  },
  {
   "cell_type": "code",
   "execution_count": 87,
   "metadata": {},
   "outputs": [
    {
     "data": {
      "application/vnd.jupyter.widget-view+json": {
       "model_id": "a1b8ea619d8145128052d138a1053110",
       "version_major": 2,
       "version_minor": 0
      },
      "text/plain": [
       "HBox(children=(IntProgress(value=0), HTML(value='')))"
      ]
     },
     "metadata": {},
     "output_type": "display_data"
    },
    {
     "data": {
      "application/vnd.jupyter.widget-view+json": {
       "model_id": "5b29930a0b5a461393a3001d1dedeaef",
       "version_major": 2,
       "version_minor": 0
      },
      "text/plain": [
       "HBox(children=(IntProgress(value=0, max=1000), HTML(value='')))"
      ]
     },
     "metadata": {},
     "output_type": "display_data"
    },
    {
     "data": {
      "application/vnd.jupyter.widget-view+json": {
       "model_id": "272ab1112956414f9654d15d224dddee",
       "version_major": 2,
       "version_minor": 0
      },
      "text/plain": [
       "HBox(children=(IntProgress(value=0, max=1000), HTML(value='')))"
      ]
     },
     "metadata": {},
     "output_type": "display_data"
    },
    {
     "data": {
      "application/vnd.jupyter.widget-view+json": {
       "model_id": "b96a2049554f4170a4e6b7db9c1325c7",
       "version_major": 2,
       "version_minor": 0
      },
      "text/plain": [
       "HBox(children=(IntProgress(value=0, max=1000), HTML(value='')))"
      ]
     },
     "metadata": {},
     "output_type": "display_data"
    },
    {
     "data": {
      "application/vnd.jupyter.widget-view+json": {
       "model_id": "69e240aabd8645ac816dc98b724819dc",
       "version_major": 2,
       "version_minor": 0
      },
      "text/plain": [
       "HBox(children=(IntProgress(value=0, max=1000), HTML(value='')))"
      ]
     },
     "metadata": {},
     "output_type": "display_data"
    },
    {
     "data": {
      "application/vnd.jupyter.widget-view+json": {
       "model_id": "a2a267ef02844ee185a0615f038a1748",
       "version_major": 2,
       "version_minor": 0
      },
      "text/plain": [
       "HBox(children=(IntProgress(value=0, max=1000), HTML(value='')))"
      ]
     },
     "metadata": {},
     "output_type": "display_data"
    },
    {
     "data": {
      "application/vnd.jupyter.widget-view+json": {
       "model_id": "cd33948c036143cfb055becb9cbc791d",
       "version_major": 2,
       "version_minor": 0
      },
      "text/plain": [
       "HBox(children=(IntProgress(value=0, max=1000), HTML(value='')))"
      ]
     },
     "metadata": {},
     "output_type": "display_data"
    },
    {
     "data": {
      "application/vnd.jupyter.widget-view+json": {
       "model_id": "7b485c5531a24cac87aeb71aca9494c5",
       "version_major": 2,
       "version_minor": 0
      },
      "text/plain": [
       "HBox(children=(IntProgress(value=0, max=1000), HTML(value='')))"
      ]
     },
     "metadata": {},
     "output_type": "display_data"
    },
    {
     "data": {
      "application/vnd.jupyter.widget-view+json": {
       "model_id": "5884298ff316445ea7379444a18d3b81",
       "version_major": 2,
       "version_minor": 0
      },
      "text/plain": [
       "HBox(children=(IntProgress(value=0, max=1000), HTML(value='')))"
      ]
     },
     "metadata": {},
     "output_type": "display_data"
    },
    {
     "data": {
      "application/vnd.jupyter.widget-view+json": {
       "model_id": "47565d94063e470e92c49a9e19458864",
       "version_major": 2,
       "version_minor": 0
      },
      "text/plain": [
       "HBox(children=(IntProgress(value=0, max=1000), HTML(value='')))"
      ]
     },
     "metadata": {},
     "output_type": "display_data"
    },
    {
     "data": {
      "application/vnd.jupyter.widget-view+json": {
       "model_id": "0e7e7223cc7648d99069bb03c9e7c011",
       "version_major": 2,
       "version_minor": 0
      },
      "text/plain": [
       "HBox(children=(IntProgress(value=0, max=1000), HTML(value='')))"
      ]
     },
     "metadata": {},
     "output_type": "display_data"
    },
    {
     "data": {
      "application/vnd.jupyter.widget-view+json": {
       "model_id": "632dfa1d787147d9a23d7b3bddc4f224",
       "version_major": 2,
       "version_minor": 0
      },
      "text/plain": [
       "HBox(children=(IntProgress(value=0, max=1000), HTML(value='')))"
      ]
     },
     "metadata": {},
     "output_type": "display_data"
    },
    {
     "data": {
      "application/vnd.jupyter.widget-view+json": {
       "model_id": "502d71ea85774f3ab2634bb1c005ff66",
       "version_major": 2,
       "version_minor": 0
      },
      "text/plain": [
       "HBox(children=(IntProgress(value=0, max=1000), HTML(value='')))"
      ]
     },
     "metadata": {},
     "output_type": "display_data"
    },
    {
     "data": {
      "application/vnd.jupyter.widget-view+json": {
       "model_id": "09bd90a0ee784d4497734ea38a3e6401",
       "version_major": 2,
       "version_minor": 0
      },
      "text/plain": [
       "HBox(children=(IntProgress(value=0, max=1000), HTML(value='')))"
      ]
     },
     "metadata": {},
     "output_type": "display_data"
    },
    {
     "data": {
      "application/vnd.jupyter.widget-view+json": {
       "model_id": "eedff5ff64764c12b016ec86d6a7e41d",
       "version_major": 2,
       "version_minor": 0
      },
      "text/plain": [
       "HBox(children=(IntProgress(value=0, max=1000), HTML(value='')))"
      ]
     },
     "metadata": {},
     "output_type": "display_data"
    },
    {
     "data": {
      "application/vnd.jupyter.widget-view+json": {
       "model_id": "e495a0a13dec422ba858b8ff2f0ada57",
       "version_major": 2,
       "version_minor": 0
      },
      "text/plain": [
       "HBox(children=(IntProgress(value=0, max=1000), HTML(value='')))"
      ]
     },
     "metadata": {},
     "output_type": "display_data"
    },
    {
     "data": {
      "application/vnd.jupyter.widget-view+json": {
       "model_id": "47f5c6c9dfd747c4a349c310638200d1",
       "version_major": 2,
       "version_minor": 0
      },
      "text/plain": [
       "HBox(children=(IntProgress(value=0, max=1000), HTML(value='')))"
      ]
     },
     "metadata": {},
     "output_type": "display_data"
    },
    {
     "data": {
      "application/vnd.jupyter.widget-view+json": {
       "model_id": "2a9451b8b8c14910b1ba17ae194fb517",
       "version_major": 2,
       "version_minor": 0
      },
      "text/plain": [
       "HBox(children=(IntProgress(value=0, max=1000), HTML(value='')))"
      ]
     },
     "metadata": {},
     "output_type": "display_data"
    },
    {
     "data": {
      "application/vnd.jupyter.widget-view+json": {
       "model_id": "6b94a66b7c984fa0a80fab1284e34b8b",
       "version_major": 2,
       "version_minor": 0
      },
      "text/plain": [
       "HBox(children=(IntProgress(value=0, max=1000), HTML(value='')))"
      ]
     },
     "metadata": {},
     "output_type": "display_data"
    },
    {
     "data": {
      "application/vnd.jupyter.widget-view+json": {
       "model_id": "cfb8433dd9c549788317d01852d4736d",
       "version_major": 2,
       "version_minor": 0
      },
      "text/plain": [
       "HBox(children=(IntProgress(value=0, max=1000), HTML(value='')))"
      ]
     },
     "metadata": {},
     "output_type": "display_data"
    },
    {
     "data": {
      "application/vnd.jupyter.widget-view+json": {
       "model_id": "a1c73cc566ad449cafc4527ffc6ab707",
       "version_major": 2,
       "version_minor": 0
      },
      "text/plain": [
       "HBox(children=(IntProgress(value=0, max=1000), HTML(value='')))"
      ]
     },
     "metadata": {},
     "output_type": "display_data"
    },
    {
     "data": {
      "application/vnd.jupyter.widget-view+json": {
       "model_id": "4ffe8275de314bb8aa7ed282349006ab",
       "version_major": 2,
       "version_minor": 0
      },
      "text/plain": [
       "HBox(children=(IntProgress(value=0, max=1000), HTML(value='')))"
      ]
     },
     "metadata": {},
     "output_type": "display_data"
    },
    {
     "data": {
      "application/vnd.jupyter.widget-view+json": {
       "model_id": "cd97ccde93904e6ca17795431d33a947",
       "version_major": 2,
       "version_minor": 0
      },
      "text/plain": [
       "HBox(children=(IntProgress(value=0, max=1000), HTML(value='')))"
      ]
     },
     "metadata": {},
     "output_type": "display_data"
    },
    {
     "data": {
      "application/vnd.jupyter.widget-view+json": {
       "model_id": "38be88f0c5834e4b92cf39ec6831f8c3",
       "version_major": 2,
       "version_minor": 0
      },
      "text/plain": [
       "HBox(children=(IntProgress(value=0, max=1000), HTML(value='')))"
      ]
     },
     "metadata": {},
     "output_type": "display_data"
    },
    {
     "data": {
      "application/vnd.jupyter.widget-view+json": {
       "model_id": "a1d13cd5b1964246a33ee663fa461481",
       "version_major": 2,
       "version_minor": 0
      },
      "text/plain": [
       "HBox(children=(IntProgress(value=0, max=1000), HTML(value='')))"
      ]
     },
     "metadata": {},
     "output_type": "display_data"
    },
    {
     "data": {
      "application/vnd.jupyter.widget-view+json": {
       "model_id": "9873056690814d2e934a1ff7c15d1138",
       "version_major": 2,
       "version_minor": 0
      },
      "text/plain": [
       "HBox(children=(IntProgress(value=0, max=1000), HTML(value='')))"
      ]
     },
     "metadata": {},
     "output_type": "display_data"
    },
    {
     "data": {
      "application/vnd.jupyter.widget-view+json": {
       "model_id": "e983c923c94b40dbb55e3d1732baef79",
       "version_major": 2,
       "version_minor": 0
      },
      "text/plain": [
       "HBox(children=(IntProgress(value=0, max=1000), HTML(value='')))"
      ]
     },
     "metadata": {},
     "output_type": "display_data"
    },
    {
     "data": {
      "application/vnd.jupyter.widget-view+json": {
       "model_id": "758988316dbb4fa49e2a526d964c4efe",
       "version_major": 2,
       "version_minor": 0
      },
      "text/plain": [
       "HBox(children=(IntProgress(value=0, max=1000), HTML(value='')))"
      ]
     },
     "metadata": {},
     "output_type": "display_data"
    },
    {
     "data": {
      "application/vnd.jupyter.widget-view+json": {
       "model_id": "09b9ae3e29b8424bad621f762ee4df49",
       "version_major": 2,
       "version_minor": 0
      },
      "text/plain": [
       "HBox(children=(IntProgress(value=0, max=1000), HTML(value='')))"
      ]
     },
     "metadata": {},
     "output_type": "display_data"
    },
    {
     "data": {
      "application/vnd.jupyter.widget-view+json": {
       "model_id": "37cb9c7927d34d3f84cef8a5edc5b784",
       "version_major": 2,
       "version_minor": 0
      },
      "text/plain": [
       "HBox(children=(IntProgress(value=0, max=1000), HTML(value='')))"
      ]
     },
     "metadata": {},
     "output_type": "display_data"
    },
    {
     "data": {
      "application/vnd.jupyter.widget-view+json": {
       "model_id": "8567da682e384f6c9340b507a13e9c97",
       "version_major": 2,
       "version_minor": 0
      },
      "text/plain": [
       "HBox(children=(IntProgress(value=0, max=1000), HTML(value='')))"
      ]
     },
     "metadata": {},
     "output_type": "display_data"
    },
    {
     "data": {
      "application/vnd.jupyter.widget-view+json": {
       "model_id": "accb2b1906d345a698bd0845d12b039b",
       "version_major": 2,
       "version_minor": 0
      },
      "text/plain": [
       "HBox(children=(IntProgress(value=0, max=1000), HTML(value='')))"
      ]
     },
     "metadata": {},
     "output_type": "display_data"
    },
    {
     "data": {
      "application/vnd.jupyter.widget-view+json": {
       "model_id": "a3429e62f0924f9db3f7d0b890f557bf",
       "version_major": 2,
       "version_minor": 0
      },
      "text/plain": [
       "HBox(children=(IntProgress(value=0, max=1000), HTML(value='')))"
      ]
     },
     "metadata": {},
     "output_type": "display_data"
    },
    {
     "data": {
      "application/vnd.jupyter.widget-view+json": {
       "model_id": "fc20b2cac8514474a0034d44fe9ed89f",
       "version_major": 2,
       "version_minor": 0
      },
      "text/plain": [
       "HBox(children=(IntProgress(value=0, max=1000), HTML(value='')))"
      ]
     },
     "metadata": {},
     "output_type": "display_data"
    },
    {
     "data": {
      "application/vnd.jupyter.widget-view+json": {
       "model_id": "0106ef5a056943c4aeff593213b76964",
       "version_major": 2,
       "version_minor": 0
      },
      "text/plain": [
       "HBox(children=(IntProgress(value=0, max=1000), HTML(value='')))"
      ]
     },
     "metadata": {},
     "output_type": "display_data"
    },
    {
     "data": {
      "application/vnd.jupyter.widget-view+json": {
       "model_id": "2385b6999c3c4a68b7e1ebf9105852ae",
       "version_major": 2,
       "version_minor": 0
      },
      "text/plain": [
       "HBox(children=(IntProgress(value=0, max=1000), HTML(value='')))"
      ]
     },
     "metadata": {},
     "output_type": "display_data"
    },
    {
     "data": {
      "application/vnd.jupyter.widget-view+json": {
       "model_id": "e53d6e29f53e4d9290741702095918fe",
       "version_major": 2,
       "version_minor": 0
      },
      "text/plain": [
       "HBox(children=(IntProgress(value=0, max=1000), HTML(value='')))"
      ]
     },
     "metadata": {},
     "output_type": "display_data"
    },
    {
     "data": {
      "application/vnd.jupyter.widget-view+json": {
       "model_id": "243b0cebdbb349e1b70038f535c1212b",
       "version_major": 2,
       "version_minor": 0
      },
      "text/plain": [
       "HBox(children=(IntProgress(value=0, max=1000), HTML(value='')))"
      ]
     },
     "metadata": {},
     "output_type": "display_data"
    },
    {
     "data": {
      "application/vnd.jupyter.widget-view+json": {
       "model_id": "792ac6948e6e4e08850d7be1fdad5714",
       "version_major": 2,
       "version_minor": 0
      },
      "text/plain": [
       "HBox(children=(IntProgress(value=0, max=1000), HTML(value='')))"
      ]
     },
     "metadata": {},
     "output_type": "display_data"
    },
    {
     "data": {
      "application/vnd.jupyter.widget-view+json": {
       "model_id": "da8c48dade1342b6a691b722d70850e7",
       "version_major": 2,
       "version_minor": 0
      },
      "text/plain": [
       "HBox(children=(IntProgress(value=0, max=1000), HTML(value='')))"
      ]
     },
     "metadata": {},
     "output_type": "display_data"
    },
    {
     "data": {
      "application/vnd.jupyter.widget-view+json": {
       "model_id": "c88a5a59877f45ecb8a5586810e92e3a",
       "version_major": 2,
       "version_minor": 0
      },
      "text/plain": [
       "HBox(children=(IntProgress(value=0, max=1000), HTML(value='')))"
      ]
     },
     "metadata": {},
     "output_type": "display_data"
    },
    {
     "data": {
      "application/vnd.jupyter.widget-view+json": {
       "model_id": "6dc752dfa12d4efa99f185d9f091251c",
       "version_major": 2,
       "version_minor": 0
      },
      "text/plain": [
       "HBox(children=(IntProgress(value=0, max=1000), HTML(value='')))"
      ]
     },
     "metadata": {},
     "output_type": "display_data"
    },
    {
     "data": {
      "application/vnd.jupyter.widget-view+json": {
       "model_id": "add32153a22d4b8da126b03bd16c2e89",
       "version_major": 2,
       "version_minor": 0
      },
      "text/plain": [
       "HBox(children=(IntProgress(value=0, max=1000), HTML(value='')))"
      ]
     },
     "metadata": {},
     "output_type": "display_data"
    },
    {
     "data": {
      "application/vnd.jupyter.widget-view+json": {
       "model_id": "bb6d35e2ff89451ea1bd1f78e66bc82b",
       "version_major": 2,
       "version_minor": 0
      },
      "text/plain": [
       "HBox(children=(IntProgress(value=0, max=1000), HTML(value='')))"
      ]
     },
     "metadata": {},
     "output_type": "display_data"
    },
    {
     "data": {
      "application/vnd.jupyter.widget-view+json": {
       "model_id": "ec7c48f987a841dbb70b40620f4da3de",
       "version_major": 2,
       "version_minor": 0
      },
      "text/plain": [
       "HBox(children=(IntProgress(value=0, max=1000), HTML(value='')))"
      ]
     },
     "metadata": {},
     "output_type": "display_data"
    },
    {
     "data": {
      "application/vnd.jupyter.widget-view+json": {
       "model_id": "b4065915785c45a88f37e44fbe706d29",
       "version_major": 2,
       "version_minor": 0
      },
      "text/plain": [
       "HBox(children=(IntProgress(value=0, max=1000), HTML(value='')))"
      ]
     },
     "metadata": {},
     "output_type": "display_data"
    },
    {
     "data": {
      "application/vnd.jupyter.widget-view+json": {
       "model_id": "7e9a627e223a421fb5c31d3150a9a34c",
       "version_major": 2,
       "version_minor": 0
      },
      "text/plain": [
       "HBox(children=(IntProgress(value=0, max=1000), HTML(value='')))"
      ]
     },
     "metadata": {},
     "output_type": "display_data"
    },
    {
     "data": {
      "application/vnd.jupyter.widget-view+json": {
       "model_id": "0a03104efdb04760941242ae25093dda",
       "version_major": 2,
       "version_minor": 0
      },
      "text/plain": [
       "HBox(children=(IntProgress(value=0, max=1000), HTML(value='')))"
      ]
     },
     "metadata": {},
     "output_type": "display_data"
    },
    {
     "data": {
      "application/vnd.jupyter.widget-view+json": {
       "model_id": "1ec89241624b4636bec420c9b09ab886",
       "version_major": 2,
       "version_minor": 0
      },
      "text/plain": [
       "HBox(children=(IntProgress(value=0, max=1000), HTML(value='')))"
      ]
     },
     "metadata": {},
     "output_type": "display_data"
    },
    {
     "data": {
      "application/vnd.jupyter.widget-view+json": {
       "model_id": "d83e409811674aa284e6dd54f6b49e5b",
       "version_major": 2,
       "version_minor": 0
      },
      "text/plain": [
       "HBox(children=(IntProgress(value=0, max=1000), HTML(value='')))"
      ]
     },
     "metadata": {},
     "output_type": "display_data"
    },
    {
     "data": {
      "application/vnd.jupyter.widget-view+json": {
       "model_id": "fe8f8958525142999378e9707371d0bf",
       "version_major": 2,
       "version_minor": 0
      },
      "text/plain": [
       "HBox(children=(IntProgress(value=0, max=1000), HTML(value='')))"
      ]
     },
     "metadata": {},
     "output_type": "display_data"
    },
    {
     "data": {
      "application/vnd.jupyter.widget-view+json": {
       "model_id": "0f0d07cb9e8742de8f8648dca858e6e0",
       "version_major": 2,
       "version_minor": 0
      },
      "text/plain": [
       "HBox(children=(IntProgress(value=0, max=1000), HTML(value='')))"
      ]
     },
     "metadata": {},
     "output_type": "display_data"
    },
    {
     "data": {
      "application/vnd.jupyter.widget-view+json": {
       "model_id": "46e9a9ccb7f14464af78acbc2c78224b",
       "version_major": 2,
       "version_minor": 0
      },
      "text/plain": [
       "HBox(children=(IntProgress(value=0, max=1000), HTML(value='')))"
      ]
     },
     "metadata": {},
     "output_type": "display_data"
    },
    {
     "data": {
      "application/vnd.jupyter.widget-view+json": {
       "model_id": "c26f41be06de47df8668e95f8deff07e",
       "version_major": 2,
       "version_minor": 0
      },
      "text/plain": [
       "HBox(children=(IntProgress(value=0, max=1000), HTML(value='')))"
      ]
     },
     "metadata": {},
     "output_type": "display_data"
    },
    {
     "data": {
      "application/vnd.jupyter.widget-view+json": {
       "model_id": "c07e376365ba45daaa95a78b0471770e",
       "version_major": 2,
       "version_minor": 0
      },
      "text/plain": [
       "HBox(children=(IntProgress(value=0, max=1000), HTML(value='')))"
      ]
     },
     "metadata": {},
     "output_type": "display_data"
    },
    {
     "data": {
      "application/vnd.jupyter.widget-view+json": {
       "model_id": "f0c8545d1d364cd6a5afa91d2ed2634f",
       "version_major": 2,
       "version_minor": 0
      },
      "text/plain": [
       "HBox(children=(IntProgress(value=0, max=1000), HTML(value='')))"
      ]
     },
     "metadata": {},
     "output_type": "display_data"
    },
    {
     "data": {
      "application/vnd.jupyter.widget-view+json": {
       "model_id": "f049f6c3e08b45588161b236ef1f055b",
       "version_major": 2,
       "version_minor": 0
      },
      "text/plain": [
       "HBox(children=(IntProgress(value=0, max=1000), HTML(value='')))"
      ]
     },
     "metadata": {},
     "output_type": "display_data"
    },
    {
     "data": {
      "application/vnd.jupyter.widget-view+json": {
       "model_id": "c51c83469f564ee78219303255a25d30",
       "version_major": 2,
       "version_minor": 0
      },
      "text/plain": [
       "HBox(children=(IntProgress(value=0, max=1000), HTML(value='')))"
      ]
     },
     "metadata": {},
     "output_type": "display_data"
    },
    {
     "data": {
      "application/vnd.jupyter.widget-view+json": {
       "model_id": "0981e408a019454c9d33e8d71d4fdc9a",
       "version_major": 2,
       "version_minor": 0
      },
      "text/plain": [
       "HBox(children=(IntProgress(value=0, max=1000), HTML(value='')))"
      ]
     },
     "metadata": {},
     "output_type": "display_data"
    },
    {
     "data": {
      "application/vnd.jupyter.widget-view+json": {
       "model_id": "f61099c2bf1c48488e32bc6058d8ed85",
       "version_major": 2,
       "version_minor": 0
      },
      "text/plain": [
       "HBox(children=(IntProgress(value=0, max=1000), HTML(value='')))"
      ]
     },
     "metadata": {},
     "output_type": "display_data"
    },
    {
     "data": {
      "application/vnd.jupyter.widget-view+json": {
       "model_id": "0e07ca56fcab41c3b7cc89cbd577f665",
       "version_major": 2,
       "version_minor": 0
      },
      "text/plain": [
       "HBox(children=(IntProgress(value=0, max=1000), HTML(value='')))"
      ]
     },
     "metadata": {},
     "output_type": "display_data"
    },
    {
     "data": {
      "application/vnd.jupyter.widget-view+json": {
       "model_id": "999d811205794ad68a5601e715f5f328",
       "version_major": 2,
       "version_minor": 0
      },
      "text/plain": [
       "HBox(children=(IntProgress(value=0, max=1000), HTML(value='')))"
      ]
     },
     "metadata": {},
     "output_type": "display_data"
    },
    {
     "data": {
      "application/vnd.jupyter.widget-view+json": {
       "model_id": "c9fa93d1961d40e6a2a28ccb2491d216",
       "version_major": 2,
       "version_minor": 0
      },
      "text/plain": [
       "HBox(children=(IntProgress(value=0, max=1000), HTML(value='')))"
      ]
     },
     "metadata": {},
     "output_type": "display_data"
    },
    {
     "data": {
      "application/vnd.jupyter.widget-view+json": {
       "model_id": "5d108a3e36a54446a4d4731887ec4baf",
       "version_major": 2,
       "version_minor": 0
      },
      "text/plain": [
       "HBox(children=(IntProgress(value=0, max=1000), HTML(value='')))"
      ]
     },
     "metadata": {},
     "output_type": "display_data"
    },
    {
     "data": {
      "application/vnd.jupyter.widget-view+json": {
       "model_id": "37107cedcc6a4f14964f9dd5ecdafd3f",
       "version_major": 2,
       "version_minor": 0
      },
      "text/plain": [
       "HBox(children=(IntProgress(value=0, max=1000), HTML(value='')))"
      ]
     },
     "metadata": {},
     "output_type": "display_data"
    },
    {
     "data": {
      "application/vnd.jupyter.widget-view+json": {
       "model_id": "8f832e8c90744130938425a1df7cac38",
       "version_major": 2,
       "version_minor": 0
      },
      "text/plain": [
       "HBox(children=(IntProgress(value=0, max=1000), HTML(value='')))"
      ]
     },
     "metadata": {},
     "output_type": "display_data"
    },
    {
     "data": {
      "application/vnd.jupyter.widget-view+json": {
       "model_id": "b65c20dab6554c149252caa2591824aa",
       "version_major": 2,
       "version_minor": 0
      },
      "text/plain": [
       "HBox(children=(IntProgress(value=0, max=1000), HTML(value='')))"
      ]
     },
     "metadata": {},
     "output_type": "display_data"
    },
    {
     "data": {
      "application/vnd.jupyter.widget-view+json": {
       "model_id": "d8fbe0e3c27d410b862f0567084ac558",
       "version_major": 2,
       "version_minor": 0
      },
      "text/plain": [
       "HBox(children=(IntProgress(value=0, max=1000), HTML(value='')))"
      ]
     },
     "metadata": {},
     "output_type": "display_data"
    },
    {
     "data": {
      "application/vnd.jupyter.widget-view+json": {
       "model_id": "74569efd497547deb2ddb448e85e12e0",
       "version_major": 2,
       "version_minor": 0
      },
      "text/plain": [
       "HBox(children=(IntProgress(value=0, max=1000), HTML(value='')))"
      ]
     },
     "metadata": {},
     "output_type": "display_data"
    },
    {
     "data": {
      "application/vnd.jupyter.widget-view+json": {
       "model_id": "13dca04b018d48bcbaabaa53b5fb6ef0",
       "version_major": 2,
       "version_minor": 0
      },
      "text/plain": [
       "HBox(children=(IntProgress(value=0, max=1000), HTML(value='')))"
      ]
     },
     "metadata": {},
     "output_type": "display_data"
    },
    {
     "data": {
      "application/vnd.jupyter.widget-view+json": {
       "model_id": "4d056337130c4b8da423e28274423363",
       "version_major": 2,
       "version_minor": 0
      },
      "text/plain": [
       "HBox(children=(IntProgress(value=0, max=1000), HTML(value='')))"
      ]
     },
     "metadata": {},
     "output_type": "display_data"
    },
    {
     "data": {
      "application/vnd.jupyter.widget-view+json": {
       "model_id": "b7317d088e8542818814a8509cd7ebda",
       "version_major": 2,
       "version_minor": 0
      },
      "text/plain": [
       "HBox(children=(IntProgress(value=0, max=1000), HTML(value='')))"
      ]
     },
     "metadata": {},
     "output_type": "display_data"
    },
    {
     "data": {
      "application/vnd.jupyter.widget-view+json": {
       "model_id": "bd9247a409e145ae816519ff8f5c4fec",
       "version_major": 2,
       "version_minor": 0
      },
      "text/plain": [
       "HBox(children=(IntProgress(value=0, max=1000), HTML(value='')))"
      ]
     },
     "metadata": {},
     "output_type": "display_data"
    },
    {
     "data": {
      "application/vnd.jupyter.widget-view+json": {
       "model_id": "03f15bbbb4634944ac4aa8f215120047",
       "version_major": 2,
       "version_minor": 0
      },
      "text/plain": [
       "HBox(children=(IntProgress(value=0, max=1000), HTML(value='')))"
      ]
     },
     "metadata": {},
     "output_type": "display_data"
    },
    {
     "data": {
      "application/vnd.jupyter.widget-view+json": {
       "model_id": "73df5529c0104685ba62f39edfd31c90",
       "version_major": 2,
       "version_minor": 0
      },
      "text/plain": [
       "HBox(children=(IntProgress(value=0, max=1000), HTML(value='')))"
      ]
     },
     "metadata": {},
     "output_type": "display_data"
    },
    {
     "data": {
      "application/vnd.jupyter.widget-view+json": {
       "model_id": "97e1c7ec7a17499d9e78e2b60f64baf0",
       "version_major": 2,
       "version_minor": 0
      },
      "text/plain": [
       "HBox(children=(IntProgress(value=0, max=1000), HTML(value='')))"
      ]
     },
     "metadata": {},
     "output_type": "display_data"
    },
    {
     "data": {
      "application/vnd.jupyter.widget-view+json": {
       "model_id": "7fd40e37e4014196b5598dc490c44561",
       "version_major": 2,
       "version_minor": 0
      },
      "text/plain": [
       "HBox(children=(IntProgress(value=0, max=1000), HTML(value='')))"
      ]
     },
     "metadata": {},
     "output_type": "display_data"
    },
    {
     "data": {
      "application/vnd.jupyter.widget-view+json": {
       "model_id": "2c61f439d49240a7bd9a83a8f471fc74",
       "version_major": 2,
       "version_minor": 0
      },
      "text/plain": [
       "HBox(children=(IntProgress(value=0, max=1000), HTML(value='')))"
      ]
     },
     "metadata": {},
     "output_type": "display_data"
    },
    {
     "data": {
      "application/vnd.jupyter.widget-view+json": {
       "model_id": "a670ec43685f4b0eb9363eeea02ac788",
       "version_major": 2,
       "version_minor": 0
      },
      "text/plain": [
       "HBox(children=(IntProgress(value=0, max=1000), HTML(value='')))"
      ]
     },
     "metadata": {},
     "output_type": "display_data"
    },
    {
     "data": {
      "application/vnd.jupyter.widget-view+json": {
       "model_id": "c761f7ade0dd435dbd122c7a46b0ac0d",
       "version_major": 2,
       "version_minor": 0
      },
      "text/plain": [
       "HBox(children=(IntProgress(value=0, max=1000), HTML(value='')))"
      ]
     },
     "metadata": {},
     "output_type": "display_data"
    },
    {
     "data": {
      "application/vnd.jupyter.widget-view+json": {
       "model_id": "784e063cdcf1495a89efb06c8c6d6806",
       "version_major": 2,
       "version_minor": 0
      },
      "text/plain": [
       "HBox(children=(IntProgress(value=0, max=1000), HTML(value='')))"
      ]
     },
     "metadata": {},
     "output_type": "display_data"
    },
    {
     "data": {
      "application/vnd.jupyter.widget-view+json": {
       "model_id": "96391d6aa4de4ad7bd2bbd084c93b677",
       "version_major": 2,
       "version_minor": 0
      },
      "text/plain": [
       "HBox(children=(IntProgress(value=0, max=1000), HTML(value='')))"
      ]
     },
     "metadata": {},
     "output_type": "display_data"
    },
    {
     "data": {
      "application/vnd.jupyter.widget-view+json": {
       "model_id": "f5afdcb8331f4009b8dd5d163af4a0fb",
       "version_major": 2,
       "version_minor": 0
      },
      "text/plain": [
       "HBox(children=(IntProgress(value=0, max=1000), HTML(value='')))"
      ]
     },
     "metadata": {},
     "output_type": "display_data"
    },
    {
     "data": {
      "application/vnd.jupyter.widget-view+json": {
       "model_id": "d6c8b2e4a6bb4a2cb0967bb51df65b2a",
       "version_major": 2,
       "version_minor": 0
      },
      "text/plain": [
       "HBox(children=(IntProgress(value=0, max=1000), HTML(value='')))"
      ]
     },
     "metadata": {},
     "output_type": "display_data"
    },
    {
     "data": {
      "application/vnd.jupyter.widget-view+json": {
       "model_id": "302216586f22484baea5069722c9d732",
       "version_major": 2,
       "version_minor": 0
      },
      "text/plain": [
       "HBox(children=(IntProgress(value=0, max=1000), HTML(value='')))"
      ]
     },
     "metadata": {},
     "output_type": "display_data"
    },
    {
     "data": {
      "application/vnd.jupyter.widget-view+json": {
       "model_id": "1e222f0708db4383895a7289917c91b1",
       "version_major": 2,
       "version_minor": 0
      },
      "text/plain": [
       "HBox(children=(IntProgress(value=0, max=1000), HTML(value='')))"
      ]
     },
     "metadata": {},
     "output_type": "display_data"
    },
    {
     "data": {
      "application/vnd.jupyter.widget-view+json": {
       "model_id": "a6c9cf5592b245d6885abb32d78d98ef",
       "version_major": 2,
       "version_minor": 0
      },
      "text/plain": [
       "HBox(children=(IntProgress(value=0, max=1000), HTML(value='')))"
      ]
     },
     "metadata": {},
     "output_type": "display_data"
    },
    {
     "data": {
      "application/vnd.jupyter.widget-view+json": {
       "model_id": "b056b07ef1c14a2fb036ada80faae750",
       "version_major": 2,
       "version_minor": 0
      },
      "text/plain": [
       "HBox(children=(IntProgress(value=0, max=1000), HTML(value='')))"
      ]
     },
     "metadata": {},
     "output_type": "display_data"
    },
    {
     "data": {
      "application/vnd.jupyter.widget-view+json": {
       "model_id": "4ff8877a14d84f7b8c135d9130fdd735",
       "version_major": 2,
       "version_minor": 0
      },
      "text/plain": [
       "HBox(children=(IntProgress(value=0, max=1000), HTML(value='')))"
      ]
     },
     "metadata": {},
     "output_type": "display_data"
    },
    {
     "data": {
      "application/vnd.jupyter.widget-view+json": {
       "model_id": "3dee9b55bd9e4fe68ebdda12d6f3baa8",
       "version_major": 2,
       "version_minor": 0
      },
      "text/plain": [
       "HBox(children=(IntProgress(value=0, max=1000), HTML(value='')))"
      ]
     },
     "metadata": {},
     "output_type": "display_data"
    },
    {
     "data": {
      "application/vnd.jupyter.widget-view+json": {
       "model_id": "fe2487d143d143da8897346c8e74fef2",
       "version_major": 2,
       "version_minor": 0
      },
      "text/plain": [
       "HBox(children=(IntProgress(value=0, max=1000), HTML(value='')))"
      ]
     },
     "metadata": {},
     "output_type": "display_data"
    },
    {
     "data": {
      "application/vnd.jupyter.widget-view+json": {
       "model_id": "2760f26b982a43ac9c73bf1a5b9496f2",
       "version_major": 2,
       "version_minor": 0
      },
      "text/plain": [
       "HBox(children=(IntProgress(value=0, max=1000), HTML(value='')))"
      ]
     },
     "metadata": {},
     "output_type": "display_data"
    },
    {
     "data": {
      "application/vnd.jupyter.widget-view+json": {
       "model_id": "c998d3dfff9a4cfdaf2fcc03e1f16e90",
       "version_major": 2,
       "version_minor": 0
      },
      "text/plain": [
       "HBox(children=(IntProgress(value=0, max=1000), HTML(value='')))"
      ]
     },
     "metadata": {},
     "output_type": "display_data"
    },
    {
     "data": {
      "application/vnd.jupyter.widget-view+json": {
       "model_id": "22311344362a426b838dab3f4d3f47bd",
       "version_major": 2,
       "version_minor": 0
      },
      "text/plain": [
       "HBox(children=(IntProgress(value=0, max=1000), HTML(value='')))"
      ]
     },
     "metadata": {},
     "output_type": "display_data"
    },
    {
     "data": {
      "application/vnd.jupyter.widget-view+json": {
       "model_id": "6a258acddbc342fe859583586f938d9d",
       "version_major": 2,
       "version_minor": 0
      },
      "text/plain": [
       "HBox(children=(IntProgress(value=0, max=1000), HTML(value='')))"
      ]
     },
     "metadata": {},
     "output_type": "display_data"
    },
    {
     "data": {
      "application/vnd.jupyter.widget-view+json": {
       "model_id": "d4666fb9fd5a4f38b613c291eb4c7240",
       "version_major": 2,
       "version_minor": 0
      },
      "text/plain": [
       "HBox(children=(IntProgress(value=0, max=1000), HTML(value='')))"
      ]
     },
     "metadata": {},
     "output_type": "display_data"
    },
    {
     "data": {
      "application/vnd.jupyter.widget-view+json": {
       "model_id": "ca3e98f11f7a4f88bdeba7bc6e05c57c",
       "version_major": 2,
       "version_minor": 0
      },
      "text/plain": [
       "HBox(children=(IntProgress(value=0, max=1000), HTML(value='')))"
      ]
     },
     "metadata": {},
     "output_type": "display_data"
    },
    {
     "data": {
      "application/vnd.jupyter.widget-view+json": {
       "model_id": "c9a29cad6594487b8657d0da1283ede1",
       "version_major": 2,
       "version_minor": 0
      },
      "text/plain": [
       "HBox(children=(IntProgress(value=0, max=1000), HTML(value='')))"
      ]
     },
     "metadata": {},
     "output_type": "display_data"
    },
    {
     "data": {
      "application/vnd.jupyter.widget-view+json": {
       "model_id": "8a54ede941664a22b46bdf131f88fd5e",
       "version_major": 2,
       "version_minor": 0
      },
      "text/plain": [
       "HBox(children=(IntProgress(value=0, max=1000), HTML(value='')))"
      ]
     },
     "metadata": {},
     "output_type": "display_data"
    },
    {
     "data": {
      "application/vnd.jupyter.widget-view+json": {
       "model_id": "165151abc381460880fab8b22c19a561",
       "version_major": 2,
       "version_minor": 0
      },
      "text/plain": [
       "HBox(children=(IntProgress(value=0, max=1000), HTML(value='')))"
      ]
     },
     "metadata": {},
     "output_type": "display_data"
    },
    {
     "data": {
      "application/vnd.jupyter.widget-view+json": {
       "model_id": "1e53b25f65684d38ab76948f28c5dcbf",
       "version_major": 2,
       "version_minor": 0
      },
      "text/plain": [
       "HBox(children=(IntProgress(value=0, max=1000), HTML(value='')))"
      ]
     },
     "metadata": {},
     "output_type": "display_data"
    },
    {
     "name": "stdout",
     "output_type": "stream",
     "text": [
      "[[-67.34]\n",
      " [-42.51]\n",
      " [-41.25]\n",
      " [-33.69]\n",
      " [-37.68]\n",
      " [-31.25]\n",
      " [-25.85]\n",
      " [-30.05]\n",
      " [-28.1 ]\n",
      " [-22.68]\n",
      " [-23.05]\n",
      " [-19.96]\n",
      " [-22.77]\n",
      " [-21.72]\n",
      " [-17.48]\n",
      " [-17.47]\n",
      " [-16.23]\n",
      " [-15.73]\n",
      " [-15.03]\n",
      " [-16.12]\n",
      " [-15.63]\n",
      " [-13.77]\n",
      " [-12.25]\n",
      " [-12.94]\n",
      " [-11.71]\n",
      " [-10.88]\n",
      " [-12.2 ]\n",
      " [-11.49]\n",
      " [-11.5 ]\n",
      " [-11.55]\n",
      " [-11.24]\n",
      " [-10.85]\n",
      " [ -9.93]\n",
      " [ -9.55]\n",
      " [-10.79]\n",
      " [-11.25]\n",
      " [-10.86]\n",
      " [ -9.3 ]\n",
      " [-10.58]\n",
      " [ -9.94]\n",
      " [ -9.85]\n",
      " [ -8.66]\n",
      " [-10.19]\n",
      " [ -8.61]\n",
      " [ -9.29]\n",
      " [ -9.34]\n",
      " [ -9.05]\n",
      " [ -9.23]\n",
      " [ -9.02]\n",
      " [ -8.35]\n",
      " [ -9.28]\n",
      " [ -8.23]\n",
      " [ -8.23]\n",
      " [ -8.85]\n",
      " [ -7.99]\n",
      " [ -7.72]\n",
      " [ -8.49]\n",
      " [ -7.99]\n",
      " [ -7.86]\n",
      " [ -8.18]\n",
      " [ -8.68]\n",
      " [ -8.61]\n",
      " [ -8.57]\n",
      " [ -6.97]\n",
      " [ -8.42]\n",
      " [ -7.32]\n",
      " [ -7.78]\n",
      " [ -7.5 ]\n",
      " [ -8.18]\n",
      " [ -8.01]\n",
      " [ -8.13]\n",
      " [ -7.84]\n",
      " [ -7.75]\n",
      " [ -7.8 ]\n",
      " [ -7.28]\n",
      " [ -8.12]\n",
      " [ -8.71]\n",
      " [ -8.14]\n",
      " [ -7.7 ]\n",
      " [ -7.49]\n",
      " [ -7.54]\n",
      " [ -7.71]\n",
      " [ -7.06]\n",
      " [ -7.72]\n",
      " [ -7.07]\n",
      " [ -7.66]\n",
      " [ -7.91]\n",
      " [ -8.19]\n",
      " [ -7.43]\n",
      " [ -8.09]\n",
      " [ -7.88]\n",
      " [ -7.69]\n",
      " [ -8.09]\n",
      " [ -7.14]\n",
      " [ -8.08]\n",
      " [ -7.77]\n",
      " [ -8.58]\n",
      " [ -8.38]\n",
      " [ -7.77]\n",
      " [ -8.01]\n",
      " [ -7.58]\n",
      " [ -7.83]\n",
      " [ -8.24]\n",
      " [ -7.15]\n",
      " [ -8.24]\n",
      " [ -6.55]\n",
      " [ -8.34]\n",
      " [ -7.85]\n",
      " [ -7.58]\n",
      " [ -7.15]\n",
      " [ -7.5 ]\n",
      " [ -7.49]\n",
      " [ -7.52]\n",
      " [ -7.37]\n",
      " [ -7.1 ]\n",
      " [ -6.88]\n",
      " [ -7.46]\n",
      " [ -7.08]\n",
      " [ -7.29]\n",
      " [ -7.48]\n",
      " [ -8.03]\n",
      " [ -7.61]\n",
      " [ -7.06]\n",
      " [ -7.93]\n",
      " [ -7.58]\n",
      " [ -7.83]\n",
      " [ -7.53]\n",
      " [ -8.04]\n",
      " [ -7.35]\n",
      " [ -7.53]\n",
      " [ -7.24]\n",
      " [ -7.78]\n",
      " [ -7.76]\n",
      " [ -7.65]\n",
      " [ -8.4 ]\n",
      " [ -7.79]\n",
      " [ -7.89]\n",
      " [ -7.59]\n",
      " [ -7.66]\n",
      " [ -7.72]\n",
      " [ -7.18]\n",
      " [ -7.08]\n",
      " [ -6.92]\n",
      " [ -7.54]\n",
      " [ -7.99]\n",
      " [ -7.71]\n",
      " [ -7.57]\n",
      " [ -7.9 ]\n",
      " [ -7.13]\n",
      " [ -6.77]\n",
      " [ -7.33]\n",
      " [ -7.72]\n",
      " [ -7.11]\n",
      " [ -8.2 ]\n",
      " [ -7.51]\n",
      " [ -7.55]\n",
      " [ -7.78]\n",
      " [ -7.34]\n",
      " [ -6.69]\n",
      " [ -6.82]\n",
      " [ -7.64]\n",
      " [ -6.47]\n",
      " [ -7.7 ]\n",
      " [ -8.29]\n",
      " [ -8.99]\n",
      " [ -7.8 ]\n",
      " [ -7.94]\n",
      " [ -7.26]\n",
      " [ -7.72]\n",
      " [ -7.34]\n",
      " [ -8.09]\n",
      " [ -7.43]\n",
      " [ -8.97]\n",
      " [ -6.8 ]\n",
      " [ -7.25]\n",
      " [ -7.82]\n",
      " [ -7.83]\n",
      " [ -8.06]\n",
      " [ -7.21]\n",
      " [ -7.4 ]\n",
      " [ -7.34]\n",
      " [ -6.86]\n",
      " [ -7.73]\n",
      " [ -7.9 ]\n",
      " [ -6.77]\n",
      " [ -7.43]\n",
      " [ -7.32]\n",
      " [ -6.92]\n",
      " [ -7.68]\n",
      " [ -7.91]\n",
      " [ -6.73]\n",
      " [ -7.18]\n",
      " [ -7.87]\n",
      " [ -8.14]\n",
      " [ -7.72]\n",
      " [ -6.89]\n",
      " [ -7.62]\n",
      " [ -7.41]\n",
      " [ -6.86]\n",
      " [ -6.89]\n",
      " [ -8.11]\n",
      " [ -7.61]\n",
      " [ -7.6 ]\n",
      " [ -8.29]\n",
      " [ -8.53]\n",
      " [ -7.61]\n",
      " [ -7.75]\n",
      " [ -8.36]\n",
      " [ -7.87]\n",
      " [ -7.19]\n",
      " [ -7.46]\n",
      " [ -7.12]\n",
      " [ -7.4 ]\n",
      " [ -7.28]\n",
      " [ -7.92]\n",
      " [ -8.4 ]\n",
      " [ -8.07]\n",
      " [ -8.32]\n",
      " [ -7.14]\n",
      " [ -7.52]\n",
      " [ -7.9 ]\n",
      " [ -7.24]\n",
      " [ -7.55]\n",
      " [ -7.26]\n",
      " [ -7.19]\n",
      " [ -7.18]\n",
      " [ -7.31]\n",
      " [ -7.21]\n",
      " [ -7.84]\n",
      " [ -7.74]\n",
      " [ -8.33]\n",
      " [ -7.58]\n",
      " [ -6.85]\n",
      " [ -7.91]\n",
      " [ -7.51]\n",
      " [ -7.44]\n",
      " [ -7.61]\n",
      " [ -7.33]\n",
      " [ -7.16]\n",
      " [ -7.71]\n",
      " [ -7.02]\n",
      " [ -7.32]\n",
      " [ -7.3 ]\n",
      " [ -7.05]\n",
      " [ -7.29]\n",
      " [ -6.82]\n",
      " [ -7.69]\n",
      " [ -6.2 ]\n",
      " [ -7.67]\n",
      " [ -7.75]\n",
      " [ -7.67]\n",
      " [ -6.87]\n",
      " [ -7.14]\n",
      " [ -8.07]\n",
      " [ -7.16]\n",
      " [ -8.27]\n",
      " [ -7.39]\n",
      " [ -7.73]\n",
      " [ -7.78]\n",
      " [ -7.84]\n",
      " [ -8.11]\n",
      " [ -8.  ]\n",
      " [ -8.48]\n",
      " [ -6.55]\n",
      " [ -7.73]\n",
      " [ -7.97]\n",
      " [ -8.12]\n",
      " [ -7.09]\n",
      " [ -7.47]\n",
      " [ -7.48]\n",
      " [ -7.32]\n",
      " [ -7.35]\n",
      " [ -7.58]\n",
      " [ -7.39]\n",
      " [ -7.39]\n",
      " [ -7.05]\n",
      " [ -7.14]\n",
      " [ -8.1 ]\n",
      " [ -8.07]\n",
      " [ -8.1 ]\n",
      " [ -7.25]\n",
      " [ -7.77]\n",
      " [ -7.24]\n",
      " [ -7.4 ]\n",
      " [ -7.75]\n",
      " [ -6.43]\n",
      " [ -7.2 ]\n",
      " [ -7.17]\n",
      " [ -7.16]\n",
      " [ -8.04]\n",
      " [ -7.21]\n",
      " [ -7.69]\n",
      " [ -7.27]\n",
      " [ -7.16]\n",
      " [ -7.12]\n",
      " [ -6.91]\n",
      " [ -7.88]\n",
      " [ -7.35]\n",
      " [ -7.26]\n",
      " [ -6.73]\n",
      " [ -8.23]\n",
      " [ -7.7 ]\n",
      " [ -7.22]\n",
      " [ -8.04]\n",
      " [ -7.38]\n",
      " [ -7.43]\n",
      " [ -7.19]\n",
      " [ -7.64]\n",
      " [ -7.63]\n",
      " [ -8.07]\n",
      " [ -7.99]\n",
      " [ -7.18]\n",
      " [ -8.12]\n",
      " [ -7.38]\n",
      " [ -7.7 ]\n",
      " [ -7.07]\n",
      " [ -8.23]\n",
      " [ -7.05]\n",
      " [ -7.89]\n",
      " [ -8.14]\n",
      " [ -7.68]\n",
      " [ -7.  ]\n",
      " [ -7.3 ]\n",
      " [ -6.77]\n",
      " [ -7.36]\n",
      " [ -7.28]\n",
      " [ -7.8 ]\n",
      " [ -7.35]\n",
      " [ -8.05]\n",
      " [ -7.4 ]\n",
      " [ -6.88]\n",
      " [ -8.55]\n",
      " [ -7.75]\n",
      " [ -7.43]\n",
      " [ -7.86]\n",
      " [ -7.15]\n",
      " [ -6.89]\n",
      " [ -7.64]\n",
      " [ -8.2 ]\n",
      " [ -7.3 ]\n",
      " [ -7.96]\n",
      " [ -7.27]\n",
      " [ -7.53]\n",
      " [ -7.18]\n",
      " [ -6.96]\n",
      " [ -6.6 ]\n",
      " [ -7.28]\n",
      " [ -8.02]\n",
      " [ -7.65]\n",
      " [ -7.92]\n",
      " [ -7.82]\n",
      " [ -7.56]\n",
      " [ -7.5 ]\n",
      " [ -7.33]\n",
      " [ -7.83]\n",
      " [ -7.73]\n",
      " [ -7.66]\n",
      " [ -6.64]\n",
      " [ -8.22]\n",
      " [ -7.37]\n",
      " [ -7.2 ]\n",
      " [ -7.38]\n",
      " [ -7.82]\n",
      " [ -7.75]\n",
      " [ -7.35]\n",
      " [ -7.04]\n",
      " [ -7.55]\n",
      " [ -6.84]\n",
      " [ -7.33]\n",
      " [ -7.68]\n",
      " [ -7.57]\n",
      " [ -6.85]\n",
      " [ -7.12]\n",
      " [ -7.5 ]\n",
      " [ -8.07]\n",
      " [ -6.64]\n",
      " [ -7.92]\n",
      " [ -7.53]\n",
      " [ -7.76]\n",
      " [ -6.85]\n",
      " [ -6.86]\n",
      " [ -7.66]\n",
      " [ -7.53]\n",
      " [ -7.6 ]\n",
      " [ -7.4 ]\n",
      " [ -7.43]\n",
      " [ -7.17]\n",
      " [ -7.24]\n",
      " [ -7.43]\n",
      " [ -7.55]\n",
      " [ -7.04]\n",
      " [ -7.17]\n",
      " [ -7.69]\n",
      " [ -7.71]\n",
      " [ -7.21]\n",
      " [ -7.89]\n",
      " [ -7.74]\n",
      " [ -7.55]\n",
      " [ -8.03]\n",
      " [ -7.53]\n",
      " [ -7.33]\n",
      " [ -7.99]\n",
      " [ -7.54]\n",
      " [ -7.57]\n",
      " [ -7.3 ]\n",
      " [ -7.26]\n",
      " [ -8.7 ]\n",
      " [ -8.84]\n",
      " [ -8.73]\n",
      " [ -7.54]\n",
      " [ -7.62]\n",
      " [ -7.22]\n",
      " [ -7.33]\n",
      " [ -7.1 ]\n",
      " [ -8.04]\n",
      " [ -7.01]\n",
      " [ -7.56]\n",
      " [ -8.26]\n",
      " [ -8.18]\n",
      " [ -7.38]\n",
      " [ -7.7 ]\n",
      " [ -7.49]\n",
      " [ -7.87]\n",
      " [ -7.46]\n",
      " [ -7.45]\n",
      " [ -6.87]\n",
      " [ -7.75]\n",
      " [ -7.25]\n",
      " [ -7.08]\n",
      " [ -8.35]\n",
      " [ -8.21]\n",
      " [ -7.85]\n",
      " [ -7.98]\n",
      " [ -7.81]\n",
      " [ -7.54]\n",
      " [ -8.7 ]\n",
      " [ -6.68]\n",
      " [ -8.22]\n",
      " [ -7.77]\n",
      " [ -8.4 ]\n",
      " [ -6.9 ]\n",
      " [ -6.63]\n",
      " [ -8.09]\n",
      " [ -7.44]\n",
      " [ -7.61]\n",
      " [ -7.69]\n",
      " [ -7.55]\n",
      " [ -7.89]\n",
      " [ -6.29]\n",
      " [ -7.68]\n",
      " [ -8.1 ]\n",
      " [ -7.94]\n",
      " [ -7.86]\n",
      " [ -7.56]\n",
      " [ -7.39]\n",
      " [ -7.82]\n",
      " [ -7.94]\n",
      " [ -8.27]\n",
      " [ -6.68]\n",
      " [ -7.63]\n",
      " [ -7.47]\n",
      " [ -7.24]\n",
      " [ -7.11]\n",
      " [ -7.89]\n",
      " [ -7.12]\n",
      " [ -7.37]\n",
      " [ -8.22]\n",
      " [ -7.95]\n",
      " [ -7.6 ]\n",
      " [ -7.84]\n",
      " [ -6.93]\n",
      " [ -6.92]\n",
      " [ -7.77]\n",
      " [ -8.57]\n",
      " [ -7.29]\n",
      " [ -7.64]\n",
      " [ -8.5 ]\n",
      " [ -7.05]\n",
      " [ -7.78]\n",
      " [ -8.06]\n",
      " [ -7.6 ]\n",
      " [ -7.91]\n",
      " [ -8.1 ]\n",
      " [ -7.84]\n",
      " [ -8.06]\n",
      " [ -7.27]\n",
      " [ -7.71]\n",
      " [ -8.16]\n",
      " [ -7.82]\n",
      " [ -7.78]\n",
      " [ -8.03]\n",
      " [ -7.95]\n",
      " [ -7.6 ]\n",
      " [ -8.17]\n",
      " [ -6.52]\n",
      " [ -7.01]\n",
      " [ -8.4 ]\n",
      " [ -7.61]\n",
      " [ -7.3 ]\n",
      " [ -7.91]\n",
      " [ -7.82]\n",
      " [ -6.85]\n",
      " [ -7.26]\n",
      " [ -7.41]\n",
      " [ -7.22]\n",
      " [ -8.  ]\n",
      " [ -6.41]\n",
      " [ -7.71]\n",
      " [ -7.88]\n",
      " [ -7.28]\n",
      " [ -7.05]\n",
      " [ -7.33]\n",
      " [ -7.62]\n",
      " [ -7.  ]\n",
      " [ -7.54]\n",
      " [ -6.94]\n",
      " [ -7.55]\n",
      " [ -7.83]\n",
      " [ -7.89]\n",
      " [ -7.88]\n",
      " [ -7.26]\n",
      " [ -7.35]\n",
      " [ -7.05]\n",
      " [ -7.24]\n",
      " [ -6.83]\n",
      " [ -6.64]\n",
      " [ -7.62]\n",
      " [ -8.21]\n",
      " [ -7.85]\n",
      " [ -7.49]\n",
      " [ -7.97]\n",
      " [ -7.2 ]\n",
      " [ -7.02]\n",
      " [ -7.25]\n",
      " [ -8.08]\n",
      " [ -7.96]\n",
      " [ -8.02]\n",
      " [ -7.72]\n",
      " [ -6.67]\n",
      " [ -7.58]\n",
      " [ -7.38]\n",
      " [ -7.78]\n",
      " [ -7.46]\n",
      " [ -8.53]\n",
      " [ -7.51]\n",
      " [ -8.06]\n",
      " [ -7.64]\n",
      " [ -8.06]\n",
      " [ -6.99]\n",
      " [ -7.86]\n",
      " [ -7.99]\n",
      " [ -7.97]\n",
      " [ -8.3 ]\n",
      " [ -7.51]\n",
      " [ -7.62]\n",
      " [ -8.13]\n",
      " [ -8.45]\n",
      " [ -7.77]\n",
      " [ -7.66]\n",
      " [ -6.39]\n",
      " [ -7.35]\n",
      " [ -8.2 ]\n",
      " [ -8.25]\n",
      " [ -8.35]\n",
      " [ -7.52]\n",
      " [ -8.8 ]\n",
      " [ -7.47]\n",
      " [ -8.24]\n",
      " [ -7.09]\n",
      " [ -7.97]\n",
      " [ -7.15]\n",
      " [ -7.2 ]\n",
      " [ -7.91]\n",
      " [ -7.03]\n",
      " [ -7.37]\n",
      " [ -7.36]\n",
      " [ -7.86]\n",
      " [ -7.87]\n",
      " [ -7.33]\n",
      " [ -7.44]\n",
      " [ -7.17]\n",
      " [ -6.92]\n",
      " [ -7.61]\n",
      " [ -7.25]\n",
      " [ -7.74]\n",
      " [ -6.29]\n",
      " [ -7.98]\n",
      " [ -7.17]\n",
      " [ -8.45]\n",
      " [ -6.75]\n",
      " [ -7.51]\n",
      " [ -7.93]\n",
      " [ -7.62]\n",
      " [ -6.92]\n",
      " [ -7.31]\n",
      " [ -7.76]\n",
      " [ -7.46]\n",
      " [ -8.33]\n",
      " [ -8.21]\n",
      " [ -7.3 ]\n",
      " [ -7.72]\n",
      " [ -7.41]\n",
      " [ -8.31]\n",
      " [ -6.95]\n",
      " [ -7.69]\n",
      " [ -6.74]\n",
      " [ -7.51]\n",
      " [ -7.45]\n",
      " [ -7.48]\n",
      " [ -7.1 ]\n",
      " [ -7.38]\n",
      " [ -7.7 ]\n",
      " [ -7.99]\n",
      " [ -7.58]\n",
      " [ -8.94]\n",
      " [ -7.43]\n",
      " [ -7.64]\n",
      " [ -7.13]\n",
      " [ -7.36]\n",
      " [ -8.29]\n",
      " [ -7.67]\n",
      " [ -8.34]\n",
      " [ -8.29]\n",
      " [ -6.35]\n",
      " [ -8.09]\n",
      " [ -7.78]\n",
      " [ -8.55]\n",
      " [ -7.25]\n",
      " [ -7.42]\n",
      " [ -7.91]\n",
      " [ -7.96]\n",
      " [ -8.01]\n",
      " [ -8.74]\n",
      " [ -7.76]\n",
      " [ -6.95]\n",
      " [ -6.92]\n",
      " [ -8.33]\n",
      " [ -7.27]\n",
      " [ -7.9 ]\n",
      " [ -7.62]\n",
      " [ -7.6 ]\n",
      " [ -7.2 ]\n",
      " [ -7.78]\n",
      " [ -7.09]\n",
      " [ -7.85]\n",
      " [ -7.5 ]\n",
      " [ -8.22]\n",
      " [ -7.55]\n",
      " [ -6.88]\n",
      " [ -8.51]\n",
      " [ -6.37]\n",
      " [ -7.32]\n",
      " [ -7.24]\n",
      " [ -8.23]\n",
      " [ -7.12]\n",
      " [ -6.85]\n",
      " [ -7.55]\n",
      " [ -6.76]\n",
      " [ -7.32]\n",
      " [ -7.92]\n",
      " [ -7.9 ]\n",
      " [ -7.37]\n",
      " [ -7.05]\n",
      " [ -7.46]\n",
      " [ -7.83]\n",
      " [ -7.94]\n",
      " [ -7.69]\n",
      " [ -7.95]\n",
      " [ -7.53]\n",
      " [ -8.32]\n",
      " [ -7.08]\n",
      " [ -7.34]\n",
      " [ -7.4 ]\n",
      " [ -7.24]\n",
      " [ -7.29]\n",
      " [ -7.66]\n",
      " [ -8.49]\n",
      " [ -7.74]\n",
      " [ -7.01]\n",
      " [ -7.4 ]\n",
      " [ -7.31]\n",
      " [ -7.88]\n",
      " [ -7.22]\n",
      " [ -7.1 ]\n",
      " [ -8.15]\n",
      " [ -7.16]\n",
      " [ -8.02]\n",
      " [ -8.05]\n",
      " [ -7.58]\n",
      " [ -8.42]\n",
      " [ -7.83]\n",
      " [ -7.76]\n",
      " [ -7.33]\n",
      " [ -7.83]\n",
      " [ -7.7 ]\n",
      " [ -8.56]\n",
      " [ -7.3 ]\n",
      " [ -7.23]\n",
      " [ -7.94]\n",
      " [ -7.68]\n",
      " [ -7.45]\n",
      " [ -7.16]\n",
      " [ -7.26]\n",
      " [ -7.28]\n",
      " [ -7.32]\n",
      " [ -7.57]\n",
      " [ -7.56]\n",
      " [ -7.23]\n",
      " [ -7.46]\n",
      " [ -7.5 ]\n",
      " [ -6.57]\n",
      " [ -7.89]\n",
      " [ -6.96]\n",
      " [ -7.85]\n",
      " [ -7.87]\n",
      " [ -6.94]\n",
      " [ -7.59]\n",
      " [ -7.62]\n",
      " [ -8.12]\n",
      " [ -7.3 ]\n",
      " [ -7.27]\n",
      " [ -7.45]\n",
      " [ -7.19]\n",
      " [ -7.37]\n",
      " [ -6.9 ]\n",
      " [ -7.06]\n",
      " [ -6.96]\n",
      " [ -7.98]\n",
      " [ -7.22]\n",
      " [ -7.15]\n",
      " [ -7.47]\n",
      " [ -8.34]\n",
      " [ -7.95]\n",
      " [ -7.36]\n",
      " [ -7.39]\n",
      " [ -7.73]\n",
      " [ -8.13]\n",
      " [ -7.74]\n",
      " [ -7.47]\n",
      " [ -7.17]\n",
      " [ -7.68]\n",
      " [ -7.56]\n",
      " [ -6.88]\n",
      " [ -6.85]\n",
      " [ -7.47]\n",
      " [ -6.76]\n",
      " [ -6.34]\n",
      " [ -7.33]\n",
      " [ -7.97]\n",
      " [ -7.4 ]\n",
      " [ -8.49]\n",
      " [ -7.13]\n",
      " [ -7.35]\n",
      " [ -8.45]\n",
      " [ -7.11]\n",
      " [ -6.49]\n",
      " [ -6.64]\n",
      " [ -7.35]\n",
      " [ -8.09]\n",
      " [ -7.37]\n",
      " [ -8.59]\n",
      " [ -7.8 ]\n",
      " [ -6.66]\n",
      " [ -7.13]\n",
      " [ -7.53]\n",
      " [ -8.09]\n",
      " [ -7.35]\n",
      " [ -7.41]\n",
      " [ -8.02]\n",
      " [ -7.44]\n",
      " [ -7.78]\n",
      " [ -8.35]\n",
      " [ -7.35]\n",
      " [ -7.06]\n",
      " [ -7.37]\n",
      " [ -7.24]\n",
      " [ -6.89]\n",
      " [ -8.09]\n",
      " [ -8.08]\n",
      " [ -7.53]\n",
      " [ -7.56]\n",
      " [ -7.47]\n",
      " [ -7.71]\n",
      " [ -6.73]\n",
      " [ -8.09]\n",
      " [ -7.88]\n",
      " [ -7.04]\n",
      " [ -7.24]\n",
      " [ -7.28]\n",
      " [ -7.06]\n",
      " [ -7.32]\n",
      " [ -7.23]\n",
      " [ -7.81]\n",
      " [ -7.16]\n",
      " [ -7.59]\n",
      " [ -7.41]\n",
      " [ -7.45]\n",
      " [ -7.15]\n",
      " [ -8.39]\n",
      " [ -7.58]\n",
      " [ -6.83]\n",
      " [ -8.14]\n",
      " [ -7.37]\n",
      " [ -7.27]\n",
      " [ -7.24]\n",
      " [ -7.6 ]\n",
      " [ -7.13]\n",
      " [ -7.85]\n",
      " [ -7.41]\n",
      " [ -7.29]\n",
      " [ -7.96]\n",
      " [ -8.06]\n",
      " [ -8.18]\n",
      " [ -7.41]\n",
      " [ -7.55]\n",
      " [ -7.76]\n",
      " [ -7.32]\n",
      " [ -8.04]\n",
      " [ -7.59]\n",
      " [ -8.21]\n",
      " [ -7.39]\n",
      " [ -7.63]\n",
      " [ -6.86]\n",
      " [ -7.72]\n",
      " [ -8.15]\n",
      " [ -7.01]\n",
      " [ -6.79]\n",
      " [ -7.17]\n",
      " [ -7.33]\n",
      " [ -7.08]\n",
      " [ -7.82]\n",
      " [ -7.74]\n",
      " [ -7.22]\n",
      " [ -7.32]\n",
      " [ -7.86]\n",
      " [ -6.66]\n",
      " [ -8.09]\n",
      " [ -7.04]\n",
      " [ -7.47]\n",
      " [ -7.98]\n",
      " [ -7.23]\n",
      " [ -8.36]\n",
      " [ -7.49]\n",
      " [ -7.74]\n",
      " [ -7.53]\n",
      " [ -6.22]\n",
      " [ -7.29]\n",
      " [ -7.91]\n",
      " [ -8.22]\n",
      " [ -7.  ]\n",
      " [ -6.78]\n",
      " [ -7.18]\n",
      " [ -7.21]\n",
      " [ -8.23]\n",
      " [ -8.03]\n",
      " [ -7.32]\n",
      " [ -8.11]\n",
      " [ -7.2 ]\n",
      " [ -7.87]\n",
      " [ -7.43]\n",
      " [ -7.55]\n",
      " [ -7.77]\n",
      " [ -7.6 ]\n",
      " [ -7.33]\n",
      " [ -8.24]\n",
      " [ -7.53]\n",
      " [ -6.72]\n",
      " [ -7.32]\n",
      " [ -6.94]\n",
      " [ -7.84]\n",
      " [ -7.58]\n",
      " [ -6.67]\n",
      " [ -8.77]\n",
      " [ -6.7 ]\n",
      " [ -8.01]\n",
      " [ -7.56]\n",
      " [ -8.36]\n",
      " [ -8.1 ]\n",
      " [ -7.96]\n",
      " [ -7.87]\n",
      " [ -7.76]\n",
      " [ -8.04]\n",
      " [ -6.92]\n",
      " [ -7.13]\n",
      " [ -8.36]\n",
      " [ -7.26]\n",
      " [ -7.28]\n",
      " [ -6.6 ]\n",
      " [ -7.75]\n",
      " [ -7.53]\n",
      " [ -6.94]\n",
      " [ -7.8 ]\n",
      " [ -8.19]\n",
      " [ -6.89]\n",
      " [ -7.35]\n",
      " [ -7.12]\n",
      " [ -7.08]\n",
      " [ -7.54]\n",
      " [ -7.36]\n",
      " [ -7.78]\n",
      " [ -7.06]\n",
      " [ -7.18]\n",
      " [ -7.03]\n",
      " [ -7.04]\n",
      " [ -7.33]\n",
      " [ -7.18]\n",
      " [ -7.52]\n",
      " [ -7.88]\n",
      " [ -8.39]\n",
      " [ -7.35]\n",
      " [ -7.25]\n",
      " [ -7.17]\n",
      " [ -7.23]\n",
      " [ -7.33]\n",
      " [ -7.7 ]\n",
      " [ -7.53]\n",
      " [ -7.59]\n",
      " [ -7.7 ]\n",
      " [ -7.12]\n",
      " [ -7.54]\n",
      " [ -7.71]\n",
      " [ -8.1 ]\n",
      " [ -6.83]\n",
      " [ -6.59]\n",
      " [ -7.25]\n",
      " [ -7.6 ]\n",
      " [ -8.37]\n",
      " [ -7.17]\n",
      " [ -7.77]\n",
      " [ -7.24]\n",
      " [ -7.44]\n",
      " [ -7.98]\n",
      " [ -7.55]\n",
      " [ -7.01]\n",
      " [ -8.79]\n",
      " [ -7.96]\n",
      " [ -7.26]\n",
      " [ -7.06]\n",
      " [ -7.81]\n",
      " [ -7.79]\n",
      " [ -8.29]\n",
      " [ -7.77]\n",
      " [ -6.72]\n",
      " [ -7.36]\n",
      " [ -7.4 ]\n",
      " [ -7.46]\n",
      " [ -7.48]\n",
      " [ -7.33]\n",
      " [ -7.47]\n",
      " [ -7.22]\n",
      " [ -7.39]\n",
      " [ -7.23]\n",
      " [ -7.45]\n",
      " [ -7.35]\n",
      " [ -6.97]\n",
      " [ -8.26]\n",
      " [ -7.17]\n",
      " [ -6.92]\n",
      " [ -7.29]\n",
      " [ -7.23]\n",
      " [ -8.11]\n",
      " [ -8.03]\n",
      " [ -7.08]\n",
      " [ -6.89]\n",
      " [ -7.75]\n",
      " [ -7.31]\n",
      " [ -7.54]\n",
      " [ -7.1 ]\n",
      " [ -7.51]\n",
      " [ -7.04]\n",
      " [ -7.43]\n",
      " [ -7.59]\n",
      " [ -7.31]\n",
      " [ -7.49]\n",
      " [ -7.64]\n",
      " [ -7.53]\n",
      " [ -8.06]\n",
      " [ -7.17]\n",
      " [ -6.91]\n",
      " [ -7.8 ]\n",
      " [ -7.46]\n",
      " [ -6.78]\n",
      " [ -7.43]\n",
      " [ -7.19]\n",
      " [ -7.85]\n",
      " [ -8.05]\n",
      " [ -6.61]\n",
      " [ -8.06]\n",
      " [ -7.26]\n",
      " [ -7.85]\n",
      " [ -7.83]\n",
      " [ -7.39]\n",
      " [ -7.58]\n",
      " [ -7.31]\n",
      " [ -7.31]\n",
      " [ -7.24]\n",
      " [ -7.3 ]\n",
      " [ -7.93]\n",
      " [ -7.66]\n",
      " [ -7.5 ]]\n"
     ]
    }
   ],
   "source": [
    "# num_trials = 100\n",
    "# num_ep_per_trial = 1000\n",
    "alpha_t = 2**(-8)\n",
    "alpha_w = alpha_t*10\n",
    "\n",
    "rew2 = np.zeros((num_ep_per_trial,1))\n",
    "for i in tqdm(range(num_trials)):\n",
    "    a = REINFORCE_mc(shortGridWorld, num_episodes=num_ep_per_trial, alpha_t=alpha_t, alpha_w = alpha_w, y=1, max_ep_len=1000)    \n",
    "    a.mc_with_baseline()\n",
    "    rew2 += np.reshape(np.array(a.G), (num_ep_per_trial,1))\n",
    "    a.G = []\n",
    "    a.L = []\n",
    "    \n",
    "print(rew2/num_trials)"
   ]
  },
  {
   "cell_type": "code",
   "execution_count": 91,
   "metadata": {},
   "outputs": [
    {
     "data": {
      "application/javascript": [
       "/* Put everything inside the global mpl namespace */\n",
       "window.mpl = {};\n",
       "\n",
       "\n",
       "mpl.get_websocket_type = function() {\n",
       "    if (typeof(WebSocket) !== 'undefined') {\n",
       "        return WebSocket;\n",
       "    } else if (typeof(MozWebSocket) !== 'undefined') {\n",
       "        return MozWebSocket;\n",
       "    } else {\n",
       "        alert('Your browser does not have WebSocket support. ' +\n",
       "              'Please try Chrome, Safari or Firefox ≥ 6. ' +\n",
       "              'Firefox 4 and 5 are also supported but you ' +\n",
       "              'have to enable WebSockets in about:config.');\n",
       "    };\n",
       "}\n",
       "\n",
       "mpl.figure = function(figure_id, websocket, ondownload, parent_element) {\n",
       "    this.id = figure_id;\n",
       "\n",
       "    this.ws = websocket;\n",
       "\n",
       "    this.supports_binary = (this.ws.binaryType != undefined);\n",
       "\n",
       "    if (!this.supports_binary) {\n",
       "        var warnings = document.getElementById(\"mpl-warnings\");\n",
       "        if (warnings) {\n",
       "            warnings.style.display = 'block';\n",
       "            warnings.textContent = (\n",
       "                \"This browser does not support binary websocket messages. \" +\n",
       "                    \"Performance may be slow.\");\n",
       "        }\n",
       "    }\n",
       "\n",
       "    this.imageObj = new Image();\n",
       "\n",
       "    this.context = undefined;\n",
       "    this.message = undefined;\n",
       "    this.canvas = undefined;\n",
       "    this.rubberband_canvas = undefined;\n",
       "    this.rubberband_context = undefined;\n",
       "    this.format_dropdown = undefined;\n",
       "\n",
       "    this.image_mode = 'full';\n",
       "\n",
       "    this.root = $('<div/>');\n",
       "    this._root_extra_style(this.root)\n",
       "    this.root.attr('style', 'display: inline-block');\n",
       "\n",
       "    $(parent_element).append(this.root);\n",
       "\n",
       "    this._init_header(this);\n",
       "    this._init_canvas(this);\n",
       "    this._init_toolbar(this);\n",
       "\n",
       "    var fig = this;\n",
       "\n",
       "    this.waiting = false;\n",
       "\n",
       "    this.ws.onopen =  function () {\n",
       "            fig.send_message(\"supports_binary\", {value: fig.supports_binary});\n",
       "            fig.send_message(\"send_image_mode\", {});\n",
       "            if (mpl.ratio != 1) {\n",
       "                fig.send_message(\"set_dpi_ratio\", {'dpi_ratio': mpl.ratio});\n",
       "            }\n",
       "            fig.send_message(\"refresh\", {});\n",
       "        }\n",
       "\n",
       "    this.imageObj.onload = function() {\n",
       "            if (fig.image_mode == 'full') {\n",
       "                // Full images could contain transparency (where diff images\n",
       "                // almost always do), so we need to clear the canvas so that\n",
       "                // there is no ghosting.\n",
       "                fig.context.clearRect(0, 0, fig.canvas.width, fig.canvas.height);\n",
       "            }\n",
       "            fig.context.drawImage(fig.imageObj, 0, 0);\n",
       "        };\n",
       "\n",
       "    this.imageObj.onunload = function() {\n",
       "        fig.ws.close();\n",
       "    }\n",
       "\n",
       "    this.ws.onmessage = this._make_on_message_function(this);\n",
       "\n",
       "    this.ondownload = ondownload;\n",
       "}\n",
       "\n",
       "mpl.figure.prototype._init_header = function() {\n",
       "    var titlebar = $(\n",
       "        '<div class=\"ui-dialog-titlebar ui-widget-header ui-corner-all ' +\n",
       "        'ui-helper-clearfix\"/>');\n",
       "    var titletext = $(\n",
       "        '<div class=\"ui-dialog-title\" style=\"width: 100%; ' +\n",
       "        'text-align: center; padding: 3px;\"/>');\n",
       "    titlebar.append(titletext)\n",
       "    this.root.append(titlebar);\n",
       "    this.header = titletext[0];\n",
       "}\n",
       "\n",
       "\n",
       "\n",
       "mpl.figure.prototype._canvas_extra_style = function(canvas_div) {\n",
       "\n",
       "}\n",
       "\n",
       "\n",
       "mpl.figure.prototype._root_extra_style = function(canvas_div) {\n",
       "\n",
       "}\n",
       "\n",
       "mpl.figure.prototype._init_canvas = function() {\n",
       "    var fig = this;\n",
       "\n",
       "    var canvas_div = $('<div/>');\n",
       "\n",
       "    canvas_div.attr('style', 'position: relative; clear: both; outline: 0');\n",
       "\n",
       "    function canvas_keyboard_event(event) {\n",
       "        return fig.key_event(event, event['data']);\n",
       "    }\n",
       "\n",
       "    canvas_div.keydown('key_press', canvas_keyboard_event);\n",
       "    canvas_div.keyup('key_release', canvas_keyboard_event);\n",
       "    this.canvas_div = canvas_div\n",
       "    this._canvas_extra_style(canvas_div)\n",
       "    this.root.append(canvas_div);\n",
       "\n",
       "    var canvas = $('<canvas/>');\n",
       "    canvas.addClass('mpl-canvas');\n",
       "    canvas.attr('style', \"left: 0; top: 0; z-index: 0; outline: 0\")\n",
       "\n",
       "    this.canvas = canvas[0];\n",
       "    this.context = canvas[0].getContext(\"2d\");\n",
       "\n",
       "    var backingStore = this.context.backingStorePixelRatio ||\n",
       "\tthis.context.webkitBackingStorePixelRatio ||\n",
       "\tthis.context.mozBackingStorePixelRatio ||\n",
       "\tthis.context.msBackingStorePixelRatio ||\n",
       "\tthis.context.oBackingStorePixelRatio ||\n",
       "\tthis.context.backingStorePixelRatio || 1;\n",
       "\n",
       "    mpl.ratio = (window.devicePixelRatio || 1) / backingStore;\n",
       "\n",
       "    var rubberband = $('<canvas/>');\n",
       "    rubberband.attr('style', \"position: absolute; left: 0; top: 0; z-index: 1;\")\n",
       "\n",
       "    var pass_mouse_events = true;\n",
       "\n",
       "    canvas_div.resizable({\n",
       "        start: function(event, ui) {\n",
       "            pass_mouse_events = false;\n",
       "        },\n",
       "        resize: function(event, ui) {\n",
       "            fig.request_resize(ui.size.width, ui.size.height);\n",
       "        },\n",
       "        stop: function(event, ui) {\n",
       "            pass_mouse_events = true;\n",
       "            fig.request_resize(ui.size.width, ui.size.height);\n",
       "        },\n",
       "    });\n",
       "\n",
       "    function mouse_event_fn(event) {\n",
       "        if (pass_mouse_events)\n",
       "            return fig.mouse_event(event, event['data']);\n",
       "    }\n",
       "\n",
       "    rubberband.mousedown('button_press', mouse_event_fn);\n",
       "    rubberband.mouseup('button_release', mouse_event_fn);\n",
       "    // Throttle sequential mouse events to 1 every 20ms.\n",
       "    rubberband.mousemove('motion_notify', mouse_event_fn);\n",
       "\n",
       "    rubberband.mouseenter('figure_enter', mouse_event_fn);\n",
       "    rubberband.mouseleave('figure_leave', mouse_event_fn);\n",
       "\n",
       "    canvas_div.on(\"wheel\", function (event) {\n",
       "        event = event.originalEvent;\n",
       "        event['data'] = 'scroll'\n",
       "        if (event.deltaY < 0) {\n",
       "            event.step = 1;\n",
       "        } else {\n",
       "            event.step = -1;\n",
       "        }\n",
       "        mouse_event_fn(event);\n",
       "    });\n",
       "\n",
       "    canvas_div.append(canvas);\n",
       "    canvas_div.append(rubberband);\n",
       "\n",
       "    this.rubberband = rubberband;\n",
       "    this.rubberband_canvas = rubberband[0];\n",
       "    this.rubberband_context = rubberband[0].getContext(\"2d\");\n",
       "    this.rubberband_context.strokeStyle = \"#000000\";\n",
       "\n",
       "    this._resize_canvas = function(width, height) {\n",
       "        // Keep the size of the canvas, canvas container, and rubber band\n",
       "        // canvas in synch.\n",
       "        canvas_div.css('width', width)\n",
       "        canvas_div.css('height', height)\n",
       "\n",
       "        canvas.attr('width', width * mpl.ratio);\n",
       "        canvas.attr('height', height * mpl.ratio);\n",
       "        canvas.attr('style', 'width: ' + width + 'px; height: ' + height + 'px;');\n",
       "\n",
       "        rubberband.attr('width', width);\n",
       "        rubberband.attr('height', height);\n",
       "    }\n",
       "\n",
       "    // Set the figure to an initial 600x600px, this will subsequently be updated\n",
       "    // upon first draw.\n",
       "    this._resize_canvas(600, 600);\n",
       "\n",
       "    // Disable right mouse context menu.\n",
       "    $(this.rubberband_canvas).bind(\"contextmenu\",function(e){\n",
       "        return false;\n",
       "    });\n",
       "\n",
       "    function set_focus () {\n",
       "        canvas.focus();\n",
       "        canvas_div.focus();\n",
       "    }\n",
       "\n",
       "    window.setTimeout(set_focus, 100);\n",
       "}\n",
       "\n",
       "mpl.figure.prototype._init_toolbar = function() {\n",
       "    var fig = this;\n",
       "\n",
       "    var nav_element = $('<div/>');\n",
       "    nav_element.attr('style', 'width: 100%');\n",
       "    this.root.append(nav_element);\n",
       "\n",
       "    // Define a callback function for later on.\n",
       "    function toolbar_event(event) {\n",
       "        return fig.toolbar_button_onclick(event['data']);\n",
       "    }\n",
       "    function toolbar_mouse_event(event) {\n",
       "        return fig.toolbar_button_onmouseover(event['data']);\n",
       "    }\n",
       "\n",
       "    for(var toolbar_ind in mpl.toolbar_items) {\n",
       "        var name = mpl.toolbar_items[toolbar_ind][0];\n",
       "        var tooltip = mpl.toolbar_items[toolbar_ind][1];\n",
       "        var image = mpl.toolbar_items[toolbar_ind][2];\n",
       "        var method_name = mpl.toolbar_items[toolbar_ind][3];\n",
       "\n",
       "        if (!name) {\n",
       "            // put a spacer in here.\n",
       "            continue;\n",
       "        }\n",
       "        var button = $('<button/>');\n",
       "        button.addClass('ui-button ui-widget ui-state-default ui-corner-all ' +\n",
       "                        'ui-button-icon-only');\n",
       "        button.attr('role', 'button');\n",
       "        button.attr('aria-disabled', 'false');\n",
       "        button.click(method_name, toolbar_event);\n",
       "        button.mouseover(tooltip, toolbar_mouse_event);\n",
       "\n",
       "        var icon_img = $('<span/>');\n",
       "        icon_img.addClass('ui-button-icon-primary ui-icon');\n",
       "        icon_img.addClass(image);\n",
       "        icon_img.addClass('ui-corner-all');\n",
       "\n",
       "        var tooltip_span = $('<span/>');\n",
       "        tooltip_span.addClass('ui-button-text');\n",
       "        tooltip_span.html(tooltip);\n",
       "\n",
       "        button.append(icon_img);\n",
       "        button.append(tooltip_span);\n",
       "\n",
       "        nav_element.append(button);\n",
       "    }\n",
       "\n",
       "    var fmt_picker_span = $('<span/>');\n",
       "\n",
       "    var fmt_picker = $('<select/>');\n",
       "    fmt_picker.addClass('mpl-toolbar-option ui-widget ui-widget-content');\n",
       "    fmt_picker_span.append(fmt_picker);\n",
       "    nav_element.append(fmt_picker_span);\n",
       "    this.format_dropdown = fmt_picker[0];\n",
       "\n",
       "    for (var ind in mpl.extensions) {\n",
       "        var fmt = mpl.extensions[ind];\n",
       "        var option = $(\n",
       "            '<option/>', {selected: fmt === mpl.default_extension}).html(fmt);\n",
       "        fmt_picker.append(option);\n",
       "    }\n",
       "\n",
       "    // Add hover states to the ui-buttons\n",
       "    $( \".ui-button\" ).hover(\n",
       "        function() { $(this).addClass(\"ui-state-hover\");},\n",
       "        function() { $(this).removeClass(\"ui-state-hover\");}\n",
       "    );\n",
       "\n",
       "    var status_bar = $('<span class=\"mpl-message\"/>');\n",
       "    nav_element.append(status_bar);\n",
       "    this.message = status_bar[0];\n",
       "}\n",
       "\n",
       "mpl.figure.prototype.request_resize = function(x_pixels, y_pixels) {\n",
       "    // Request matplotlib to resize the figure. Matplotlib will then trigger a resize in the client,\n",
       "    // which will in turn request a refresh of the image.\n",
       "    this.send_message('resize', {'width': x_pixels, 'height': y_pixels});\n",
       "}\n",
       "\n",
       "mpl.figure.prototype.send_message = function(type, properties) {\n",
       "    properties['type'] = type;\n",
       "    properties['figure_id'] = this.id;\n",
       "    this.ws.send(JSON.stringify(properties));\n",
       "}\n",
       "\n",
       "mpl.figure.prototype.send_draw_message = function() {\n",
       "    if (!this.waiting) {\n",
       "        this.waiting = true;\n",
       "        this.ws.send(JSON.stringify({type: \"draw\", figure_id: this.id}));\n",
       "    }\n",
       "}\n",
       "\n",
       "\n",
       "mpl.figure.prototype.handle_save = function(fig, msg) {\n",
       "    var format_dropdown = fig.format_dropdown;\n",
       "    var format = format_dropdown.options[format_dropdown.selectedIndex].value;\n",
       "    fig.ondownload(fig, format);\n",
       "}\n",
       "\n",
       "\n",
       "mpl.figure.prototype.handle_resize = function(fig, msg) {\n",
       "    var size = msg['size'];\n",
       "    if (size[0] != fig.canvas.width || size[1] != fig.canvas.height) {\n",
       "        fig._resize_canvas(size[0], size[1]);\n",
       "        fig.send_message(\"refresh\", {});\n",
       "    };\n",
       "}\n",
       "\n",
       "mpl.figure.prototype.handle_rubberband = function(fig, msg) {\n",
       "    var x0 = msg['x0'] / mpl.ratio;\n",
       "    var y0 = (fig.canvas.height - msg['y0']) / mpl.ratio;\n",
       "    var x1 = msg['x1'] / mpl.ratio;\n",
       "    var y1 = (fig.canvas.height - msg['y1']) / mpl.ratio;\n",
       "    x0 = Math.floor(x0) + 0.5;\n",
       "    y0 = Math.floor(y0) + 0.5;\n",
       "    x1 = Math.floor(x1) + 0.5;\n",
       "    y1 = Math.floor(y1) + 0.5;\n",
       "    var min_x = Math.min(x0, x1);\n",
       "    var min_y = Math.min(y0, y1);\n",
       "    var width = Math.abs(x1 - x0);\n",
       "    var height = Math.abs(y1 - y0);\n",
       "\n",
       "    fig.rubberband_context.clearRect(\n",
       "        0, 0, fig.canvas.width, fig.canvas.height);\n",
       "\n",
       "    fig.rubberband_context.strokeRect(min_x, min_y, width, height);\n",
       "}\n",
       "\n",
       "mpl.figure.prototype.handle_figure_label = function(fig, msg) {\n",
       "    // Updates the figure title.\n",
       "    fig.header.textContent = msg['label'];\n",
       "}\n",
       "\n",
       "mpl.figure.prototype.handle_cursor = function(fig, msg) {\n",
       "    var cursor = msg['cursor'];\n",
       "    switch(cursor)\n",
       "    {\n",
       "    case 0:\n",
       "        cursor = 'pointer';\n",
       "        break;\n",
       "    case 1:\n",
       "        cursor = 'default';\n",
       "        break;\n",
       "    case 2:\n",
       "        cursor = 'crosshair';\n",
       "        break;\n",
       "    case 3:\n",
       "        cursor = 'move';\n",
       "        break;\n",
       "    }\n",
       "    fig.rubberband_canvas.style.cursor = cursor;\n",
       "}\n",
       "\n",
       "mpl.figure.prototype.handle_message = function(fig, msg) {\n",
       "    fig.message.textContent = msg['message'];\n",
       "}\n",
       "\n",
       "mpl.figure.prototype.handle_draw = function(fig, msg) {\n",
       "    // Request the server to send over a new figure.\n",
       "    fig.send_draw_message();\n",
       "}\n",
       "\n",
       "mpl.figure.prototype.handle_image_mode = function(fig, msg) {\n",
       "    fig.image_mode = msg['mode'];\n",
       "}\n",
       "\n",
       "mpl.figure.prototype.updated_canvas_event = function() {\n",
       "    // Called whenever the canvas gets updated.\n",
       "    this.send_message(\"ack\", {});\n",
       "}\n",
       "\n",
       "// A function to construct a web socket function for onmessage handling.\n",
       "// Called in the figure constructor.\n",
       "mpl.figure.prototype._make_on_message_function = function(fig) {\n",
       "    return function socket_on_message(evt) {\n",
       "        if (evt.data instanceof Blob) {\n",
       "            /* FIXME: We get \"Resource interpreted as Image but\n",
       "             * transferred with MIME type text/plain:\" errors on\n",
       "             * Chrome.  But how to set the MIME type?  It doesn't seem\n",
       "             * to be part of the websocket stream */\n",
       "            evt.data.type = \"image/png\";\n",
       "\n",
       "            /* Free the memory for the previous frames */\n",
       "            if (fig.imageObj.src) {\n",
       "                (window.URL || window.webkitURL).revokeObjectURL(\n",
       "                    fig.imageObj.src);\n",
       "            }\n",
       "\n",
       "            fig.imageObj.src = (window.URL || window.webkitURL).createObjectURL(\n",
       "                evt.data);\n",
       "            fig.updated_canvas_event();\n",
       "            fig.waiting = false;\n",
       "            return;\n",
       "        }\n",
       "        else if (typeof evt.data === 'string' && evt.data.slice(0, 21) == \"data:image/png;base64\") {\n",
       "            fig.imageObj.src = evt.data;\n",
       "            fig.updated_canvas_event();\n",
       "            fig.waiting = false;\n",
       "            return;\n",
       "        }\n",
       "\n",
       "        var msg = JSON.parse(evt.data);\n",
       "        var msg_type = msg['type'];\n",
       "\n",
       "        // Call the  \"handle_{type}\" callback, which takes\n",
       "        // the figure and JSON message as its only arguments.\n",
       "        try {\n",
       "            var callback = fig[\"handle_\" + msg_type];\n",
       "        } catch (e) {\n",
       "            console.log(\"No handler for the '\" + msg_type + \"' message type: \", msg);\n",
       "            return;\n",
       "        }\n",
       "\n",
       "        if (callback) {\n",
       "            try {\n",
       "                // console.log(\"Handling '\" + msg_type + \"' message: \", msg);\n",
       "                callback(fig, msg);\n",
       "            } catch (e) {\n",
       "                console.log(\"Exception inside the 'handler_\" + msg_type + \"' callback:\", e, e.stack, msg);\n",
       "            }\n",
       "        }\n",
       "    };\n",
       "}\n",
       "\n",
       "// from http://stackoverflow.com/questions/1114465/getting-mouse-location-in-canvas\n",
       "mpl.findpos = function(e) {\n",
       "    //this section is from http://www.quirksmode.org/js/events_properties.html\n",
       "    var targ;\n",
       "    if (!e)\n",
       "        e = window.event;\n",
       "    if (e.target)\n",
       "        targ = e.target;\n",
       "    else if (e.srcElement)\n",
       "        targ = e.srcElement;\n",
       "    if (targ.nodeType == 3) // defeat Safari bug\n",
       "        targ = targ.parentNode;\n",
       "\n",
       "    // jQuery normalizes the pageX and pageY\n",
       "    // pageX,Y are the mouse positions relative to the document\n",
       "    // offset() returns the position of the element relative to the document\n",
       "    var x = e.pageX - $(targ).offset().left;\n",
       "    var y = e.pageY - $(targ).offset().top;\n",
       "\n",
       "    return {\"x\": x, \"y\": y};\n",
       "};\n",
       "\n",
       "/*\n",
       " * return a copy of an object with only non-object keys\n",
       " * we need this to avoid circular references\n",
       " * http://stackoverflow.com/a/24161582/3208463\n",
       " */\n",
       "function simpleKeys (original) {\n",
       "  return Object.keys(original).reduce(function (obj, key) {\n",
       "    if (typeof original[key] !== 'object')\n",
       "        obj[key] = original[key]\n",
       "    return obj;\n",
       "  }, {});\n",
       "}\n",
       "\n",
       "mpl.figure.prototype.mouse_event = function(event, name) {\n",
       "    var canvas_pos = mpl.findpos(event)\n",
       "\n",
       "    if (name === 'button_press')\n",
       "    {\n",
       "        this.canvas.focus();\n",
       "        this.canvas_div.focus();\n",
       "    }\n",
       "\n",
       "    var x = canvas_pos.x * mpl.ratio;\n",
       "    var y = canvas_pos.y * mpl.ratio;\n",
       "\n",
       "    this.send_message(name, {x: x, y: y, button: event.button,\n",
       "                             step: event.step,\n",
       "                             guiEvent: simpleKeys(event)});\n",
       "\n",
       "    /* This prevents the web browser from automatically changing to\n",
       "     * the text insertion cursor when the button is pressed.  We want\n",
       "     * to control all of the cursor setting manually through the\n",
       "     * 'cursor' event from matplotlib */\n",
       "    event.preventDefault();\n",
       "    return false;\n",
       "}\n",
       "\n",
       "mpl.figure.prototype._key_event_extra = function(event, name) {\n",
       "    // Handle any extra behaviour associated with a key event\n",
       "}\n",
       "\n",
       "mpl.figure.prototype.key_event = function(event, name) {\n",
       "\n",
       "    // Prevent repeat events\n",
       "    if (name == 'key_press')\n",
       "    {\n",
       "        if (event.which === this._key)\n",
       "            return;\n",
       "        else\n",
       "            this._key = event.which;\n",
       "    }\n",
       "    if (name == 'key_release')\n",
       "        this._key = null;\n",
       "\n",
       "    var value = '';\n",
       "    if (event.ctrlKey && event.which != 17)\n",
       "        value += \"ctrl+\";\n",
       "    if (event.altKey && event.which != 18)\n",
       "        value += \"alt+\";\n",
       "    if (event.shiftKey && event.which != 16)\n",
       "        value += \"shift+\";\n",
       "\n",
       "    value += 'k';\n",
       "    value += event.which.toString();\n",
       "\n",
       "    this._key_event_extra(event, name);\n",
       "\n",
       "    this.send_message(name, {key: value,\n",
       "                             guiEvent: simpleKeys(event)});\n",
       "    return false;\n",
       "}\n",
       "\n",
       "mpl.figure.prototype.toolbar_button_onclick = function(name) {\n",
       "    if (name == 'download') {\n",
       "        this.handle_save(this, null);\n",
       "    } else {\n",
       "        this.send_message(\"toolbar_button\", {name: name});\n",
       "    }\n",
       "};\n",
       "\n",
       "mpl.figure.prototype.toolbar_button_onmouseover = function(tooltip) {\n",
       "    this.message.textContent = tooltip;\n",
       "};\n",
       "mpl.toolbar_items = [[\"Home\", \"Reset original view\", \"fa fa-home icon-home\", \"home\"], [\"Back\", \"Back to previous view\", \"fa fa-arrow-left icon-arrow-left\", \"back\"], [\"Forward\", \"Forward to next view\", \"fa fa-arrow-right icon-arrow-right\", \"forward\"], [\"\", \"\", \"\", \"\"], [\"Pan\", \"Pan axes with left mouse, zoom with right\", \"fa fa-arrows icon-move\", \"pan\"], [\"Zoom\", \"Zoom to rectangle\", \"fa fa-square-o icon-check-empty\", \"zoom\"], [\"\", \"\", \"\", \"\"], [\"Download\", \"Download plot\", \"fa fa-floppy-o icon-save\", \"download\"]];\n",
       "\n",
       "mpl.extensions = [\"eps\", \"pdf\", \"png\", \"ps\", \"raw\", \"svg\"];\n",
       "\n",
       "mpl.default_extension = \"png\";var comm_websocket_adapter = function(comm) {\n",
       "    // Create a \"websocket\"-like object which calls the given IPython comm\n",
       "    // object with the appropriate methods. Currently this is a non binary\n",
       "    // socket, so there is still some room for performance tuning.\n",
       "    var ws = {};\n",
       "\n",
       "    ws.close = function() {\n",
       "        comm.close()\n",
       "    };\n",
       "    ws.send = function(m) {\n",
       "        //console.log('sending', m);\n",
       "        comm.send(m);\n",
       "    };\n",
       "    // Register the callback with on_msg.\n",
       "    comm.on_msg(function(msg) {\n",
       "        //console.log('receiving', msg['content']['data'], msg);\n",
       "        // Pass the mpl event to the overridden (by mpl) onmessage function.\n",
       "        ws.onmessage(msg['content']['data'])\n",
       "    });\n",
       "    return ws;\n",
       "}\n",
       "\n",
       "mpl.mpl_figure_comm = function(comm, msg) {\n",
       "    // This is the function which gets called when the mpl process\n",
       "    // starts-up an IPython Comm through the \"matplotlib\" channel.\n",
       "\n",
       "    var id = msg.content.data.id;\n",
       "    // Get hold of the div created by the display call when the Comm\n",
       "    // socket was opened in Python.\n",
       "    var element = $(\"#\" + id);\n",
       "    var ws_proxy = comm_websocket_adapter(comm)\n",
       "\n",
       "    function ondownload(figure, format) {\n",
       "        window.open(figure.imageObj.src);\n",
       "    }\n",
       "\n",
       "    var fig = new mpl.figure(id, ws_proxy,\n",
       "                           ondownload,\n",
       "                           element.get(0));\n",
       "\n",
       "    // Call onopen now - mpl needs it, as it is assuming we've passed it a real\n",
       "    // web socket which is closed, not our websocket->open comm proxy.\n",
       "    ws_proxy.onopen();\n",
       "\n",
       "    fig.parent_element = element.get(0);\n",
       "    fig.cell_info = mpl.find_output_cell(\"<div id='\" + id + \"'></div>\");\n",
       "    if (!fig.cell_info) {\n",
       "        console.error(\"Failed to find cell for figure\", id, fig);\n",
       "        return;\n",
       "    }\n",
       "\n",
       "    var output_index = fig.cell_info[2]\n",
       "    var cell = fig.cell_info[0];\n",
       "\n",
       "};\n",
       "\n",
       "mpl.figure.prototype.handle_close = function(fig, msg) {\n",
       "    var width = fig.canvas.width/mpl.ratio\n",
       "    fig.root.unbind('remove')\n",
       "\n",
       "    // Update the output cell to use the data from the current canvas.\n",
       "    fig.push_to_output();\n",
       "    var dataURL = fig.canvas.toDataURL();\n",
       "    // Re-enable the keyboard manager in IPython - without this line, in FF,\n",
       "    // the notebook keyboard shortcuts fail.\n",
       "    IPython.keyboard_manager.enable()\n",
       "    $(fig.parent_element).html('<img src=\"' + dataURL + '\" width=\"' + width + '\">');\n",
       "    fig.close_ws(fig, msg);\n",
       "}\n",
       "\n",
       "mpl.figure.prototype.close_ws = function(fig, msg){\n",
       "    fig.send_message('closing', msg);\n",
       "    // fig.ws.close()\n",
       "}\n",
       "\n",
       "mpl.figure.prototype.push_to_output = function(remove_interactive) {\n",
       "    // Turn the data on the canvas into data in the output cell.\n",
       "    var width = this.canvas.width/mpl.ratio\n",
       "    var dataURL = this.canvas.toDataURL();\n",
       "    this.cell_info[1]['text/html'] = '<img src=\"' + dataURL + '\" width=\"' + width + '\">';\n",
       "}\n",
       "\n",
       "mpl.figure.prototype.updated_canvas_event = function() {\n",
       "    // Tell IPython that the notebook contents must change.\n",
       "    IPython.notebook.set_dirty(true);\n",
       "    this.send_message(\"ack\", {});\n",
       "    var fig = this;\n",
       "    // Wait a second, then push the new image to the DOM so\n",
       "    // that it is saved nicely (might be nice to debounce this).\n",
       "    setTimeout(function () { fig.push_to_output() }, 1000);\n",
       "}\n",
       "\n",
       "mpl.figure.prototype._init_toolbar = function() {\n",
       "    var fig = this;\n",
       "\n",
       "    var nav_element = $('<div/>');\n",
       "    nav_element.attr('style', 'width: 100%');\n",
       "    this.root.append(nav_element);\n",
       "\n",
       "    // Define a callback function for later on.\n",
       "    function toolbar_event(event) {\n",
       "        return fig.toolbar_button_onclick(event['data']);\n",
       "    }\n",
       "    function toolbar_mouse_event(event) {\n",
       "        return fig.toolbar_button_onmouseover(event['data']);\n",
       "    }\n",
       "\n",
       "    for(var toolbar_ind in mpl.toolbar_items){\n",
       "        var name = mpl.toolbar_items[toolbar_ind][0];\n",
       "        var tooltip = mpl.toolbar_items[toolbar_ind][1];\n",
       "        var image = mpl.toolbar_items[toolbar_ind][2];\n",
       "        var method_name = mpl.toolbar_items[toolbar_ind][3];\n",
       "\n",
       "        if (!name) { continue; };\n",
       "\n",
       "        var button = $('<button class=\"btn btn-default\" href=\"#\" title=\"' + name + '\"><i class=\"fa ' + image + ' fa-lg\"></i></button>');\n",
       "        button.click(method_name, toolbar_event);\n",
       "        button.mouseover(tooltip, toolbar_mouse_event);\n",
       "        nav_element.append(button);\n",
       "    }\n",
       "\n",
       "    // Add the status bar.\n",
       "    var status_bar = $('<span class=\"mpl-message\" style=\"text-align:right; float: right;\"/>');\n",
       "    nav_element.append(status_bar);\n",
       "    this.message = status_bar[0];\n",
       "\n",
       "    // Add the close button to the window.\n",
       "    var buttongrp = $('<div class=\"btn-group inline pull-right\"></div>');\n",
       "    var button = $('<button class=\"btn btn-mini btn-primary\" href=\"#\" title=\"Stop Interaction\"><i class=\"fa fa-power-off icon-remove icon-large\"></i></button>');\n",
       "    button.click(function (evt) { fig.handle_close(fig, {}); } );\n",
       "    button.mouseover('Stop Interaction', toolbar_mouse_event);\n",
       "    buttongrp.append(button);\n",
       "    var titlebar = this.root.find($('.ui-dialog-titlebar'));\n",
       "    titlebar.prepend(buttongrp);\n",
       "}\n",
       "\n",
       "mpl.figure.prototype._root_extra_style = function(el){\n",
       "    var fig = this\n",
       "    el.on(\"remove\", function(){\n",
       "\tfig.close_ws(fig, {});\n",
       "    });\n",
       "}\n",
       "\n",
       "mpl.figure.prototype._canvas_extra_style = function(el){\n",
       "    // this is important to make the div 'focusable\n",
       "    el.attr('tabindex', 0)\n",
       "    // reach out to IPython and tell the keyboard manager to turn it's self\n",
       "    // off when our div gets focus\n",
       "\n",
       "    // location in version 3\n",
       "    if (IPython.notebook.keyboard_manager) {\n",
       "        IPython.notebook.keyboard_manager.register_events(el);\n",
       "    }\n",
       "    else {\n",
       "        // location in version 2\n",
       "        IPython.keyboard_manager.register_events(el);\n",
       "    }\n",
       "\n",
       "}\n",
       "\n",
       "mpl.figure.prototype._key_event_extra = function(event, name) {\n",
       "    var manager = IPython.notebook.keyboard_manager;\n",
       "    if (!manager)\n",
       "        manager = IPython.keyboard_manager;\n",
       "\n",
       "    // Check for shift+enter\n",
       "    if (event.shiftKey && event.which == 13) {\n",
       "        this.canvas_div.blur();\n",
       "        event.shiftKey = false;\n",
       "        // Send a \"J\" for go to next cell\n",
       "        event.which = 74;\n",
       "        event.keyCode = 74;\n",
       "        manager.command_mode();\n",
       "        manager.handle_keydown(event);\n",
       "    }\n",
       "}\n",
       "\n",
       "mpl.figure.prototype.handle_save = function(fig, msg) {\n",
       "    fig.ondownload(fig, null);\n",
       "}\n",
       "\n",
       "\n",
       "mpl.find_output_cell = function(html_output) {\n",
       "    // Return the cell and output element which can be found *uniquely* in the notebook.\n",
       "    // Note - this is a bit hacky, but it is done because the \"notebook_saving.Notebook\"\n",
       "    // IPython event is triggered only after the cells have been serialised, which for\n",
       "    // our purposes (turning an active figure into a static one), is too late.\n",
       "    var cells = IPython.notebook.get_cells();\n",
       "    var ncells = cells.length;\n",
       "    for (var i=0; i<ncells; i++) {\n",
       "        var cell = cells[i];\n",
       "        if (cell.cell_type === 'code'){\n",
       "            for (var j=0; j<cell.output_area.outputs.length; j++) {\n",
       "                var data = cell.output_area.outputs[j];\n",
       "                if (data.data) {\n",
       "                    // IPython >= 3 moved mimebundle to data attribute of output\n",
       "                    data = data.data;\n",
       "                }\n",
       "                if (data['text/html'] == html_output) {\n",
       "                    return [cell, data, j];\n",
       "                }\n",
       "            }\n",
       "        }\n",
       "    }\n",
       "}\n",
       "\n",
       "// Register the function which deals with the matplotlib target/channel.\n",
       "// The kernel may be null if the page has been refreshed.\n",
       "if (IPython.notebook.kernel != null) {\n",
       "    IPython.notebook.kernel.comm_manager.register_target('matplotlib', mpl.mpl_figure_comm);\n",
       "}\n"
      ],
      "text/plain": [
       "<IPython.core.display.Javascript object>"
      ]
     },
     "metadata": {},
     "output_type": "display_data"
    },
    {
     "data": {
      "text/html": [
       "<img src=\"data:image/png;base64,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\" width=\"640\">"
      ],
      "text/plain": [
       "<IPython.core.display.HTML object>"
      ]
     },
     "metadata": {},
     "output_type": "display_data"
    }
   ],
   "source": [
    "plt.plot(rew/num_trials, label='mc11')\n",
    "plt.plot(rew2/num_trials, label='with_baseline')\n",
    "plt.plot(rew3/num_trials, label='mc10')\n",
    "plt.legend()\n",
    "plt.show()"
   ]
  },
  {
   "cell_type": "code",
   "execution_count": null,
   "metadata": {},
   "outputs": [],
   "source": []
  }
 ],
 "metadata": {
  "kernelspec": {
   "display_name": "rl",
   "language": "python",
   "name": "rl"
  },
  "language_info": {
   "codemirror_mode": {
    "name": "ipython",
    "version": 3
   },
   "file_extension": ".py",
   "mimetype": "text/x-python",
   "name": "python",
   "nbconvert_exporter": "python",
   "pygments_lexer": "ipython3",
   "version": "3.7.3"
  }
 },
 "nbformat": 4,
 "nbformat_minor": 2
}
