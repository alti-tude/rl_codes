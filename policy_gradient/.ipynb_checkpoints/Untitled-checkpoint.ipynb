{
 "cells": [
  {
   "cell_type": "code",
   "execution_count": 1,
   "metadata": {},
   "outputs": [],
   "source": [
    "import numpy as np"
   ]
  },
  {
   "cell_type": "code",
   "execution_count": 3,
   "metadata": {},
   "outputs": [],
   "source": [
    "class shortGridWorld():\n",
    "    def __init__(self, start_state):\n",
    "        self.next_state = start_state\n",
    "        self.reward = -1\n",
    "    \n",
    "    def take_action(self, action, state):\n",
    "        if state == 0 and  all(action == [1, 0]):\n",
    "            self.next_state = 0\n",
    "        elif state == 1:\n",
    "            if all(action == [1, 0]):\n",
    "                self.next_state = 2\n",
    "            else:\n",
    "                self.next_state = 1\n",
    "        elif state == 2:\n",
    "            if all(action ==[1,0]):\n",
    "                self.next_state = 1\n",
    "            else:\n",
    "                self.next_state = 3\n",
    "                \n",
    "        if state!=3:\n",
    "            self.reward = -1\n",
    "        else:\n",
    "            self.reward = 0  \n",
    "            \n",
    "    def is_terminal(self):\n",
    "        return self.next_state == 3        "
   ]
  },
  {
   "cell_type": "code",
   "execution_count": null,
   "metadata": {},
   "outputs": [],
   "source": []
  },
  {
   "cell_type": "code",
   "execution_count": null,
   "metadata": {},
   "outputs": [],
   "source": []
  }
 ],
 "metadata": {
  "kernelspec": {
   "display_name": "rl",
   "language": "python",
   "name": "rl"
  },
  "language_info": {
   "codemirror_mode": {
    "name": "ipython",
    "version": 3
   },
   "file_extension": ".py",
   "mimetype": "text/x-python",
   "name": "python",
   "nbconvert_exporter": "python",
   "pygments_lexer": "ipython3",
   "version": "3.7.3"
  }
 },
 "nbformat": 4,
 "nbformat_minor": 2
}
