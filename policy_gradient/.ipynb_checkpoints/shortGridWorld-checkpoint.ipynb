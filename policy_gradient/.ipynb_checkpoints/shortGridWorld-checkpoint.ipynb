{
 "cells": [
  {
   "cell_type": "code",
   "execution_count": 18,
   "metadata": {},
   "outputs": [],
   "source": [
    "%matplotlib notebook\n",
    "import numpy as np\n",
    "from tqdm import tqdm_notebook as tqdm\n",
    "from matplotlib import pyplot as plt\n"
   ]
  },
  {
   "cell_type": "code",
   "execution_count": 4,
   "metadata": {},
   "outputs": [],
   "source": [
    "class shortGridWorld():\n",
    "    def __init__(self, start_state):\n",
    "        self.state = start_state\n",
    "        self.reward = -1\n",
    "    \n",
    "    def take_action(self, state, action):\n",
    "        if state == 0:\n",
    "            if all(action == np.array([[0.], [1.]])):\n",
    "                self.state = 0\n",
    "            else:\n",
    "                self.state = 1\n",
    "        elif state == 1:\n",
    "            if all(action == np.array([[0.], [1.]])):\n",
    "                self.state = 2\n",
    "            else:\n",
    "                self.state = 1\n",
    "        elif state == 2:\n",
    "            if all(action ==np.array([[0.],[1.]])):\n",
    "                self.state = 1\n",
    "            else:\n",
    "                self.state = 3\n",
    "            \n",
    "    def is_terminal(self):\n",
    "        return self.state == 3        "
   ]
  },
  {
   "cell_type": "code",
   "execution_count": 38,
   "metadata": {},
   "outputs": [],
   "source": [
    "class REINFORCE_mc():\n",
    "    def __init__(self, Problem, num_episodes=100, alpha_t=2**(-13), alpha_w = 0.001, y=0.9, max_ep_len=1000):\n",
    "        self.Problem = Problem\n",
    "        self.num_episodes = num_episodes\n",
    "        self.y = y\n",
    "        self.theta = np.array([[-1.47], [1.47]])\n",
    "        self.w = 0\n",
    "        self.x = np.array([[1.,0.],[0.,1.]])\n",
    "        self.r = []\n",
    "        self.s = []\n",
    "        self.a = []\n",
    "        self.G = []\n",
    "        self.alpha_w = alpha_w\n",
    "        self.alpha_t = alpha_t\n",
    "        self.max_ep_len = max_ep_len\n",
    "        \n",
    "        self.I = []\n",
    "        self.L = []\n",
    "        \n",
    "    def get_policy_distribution(self):\n",
    "        return (np.exp(self.theta.T @ self.x)/np.sum(np.exp(self.theta.T @ self.x))).T\n",
    "    \n",
    "    def sample_from_distribution(self, P):\n",
    "        CP = np.cumsum(P)\n",
    "        rn = np.random.uniform()\n",
    "\n",
    "        for i in range(len(CP)):\n",
    "            if CP[i] >= rn:\n",
    "                return i\n",
    "    \n",
    "    def get_action(self):\n",
    "        action = np.zeros((2,1))\n",
    "\n",
    "        # maybe a separate functon to get the feature vector of action\n",
    "        action[self.sample_from_distribution(self.get_policy_distribution())] = 1 \n",
    "        return action\n",
    "    \n",
    "    def clear(self):\n",
    "        self.r = []\n",
    "        self.s = []\n",
    "        self.a = []\n",
    "        \n",
    "    def gen_episode(self,s0=0, max_len=1000):\n",
    "        self.clear()\n",
    "        problem = self.Problem(s0)\n",
    "        \n",
    "        state = s0\n",
    "        self.s.append(state)\n",
    "        \n",
    "        G = 0\n",
    "        I = 1\n",
    "        \n",
    "        while (not problem.is_terminal()) and max_len != 0:\n",
    "            action = self.get_action()\n",
    "            self.a.append(np.argmax(action))\n",
    "            \n",
    "            problem.take_action(state, action)\n",
    "            state = problem.state\n",
    "            self.s.append(state)\n",
    "            \n",
    "            self.r.append(problem.reward)\n",
    "            G += problem.reward * I\n",
    "            I *= self.y\n",
    "            \n",
    "            max_len -= 1\n",
    "        \n",
    "        self.G.append(G)\n",
    "        self.I.append(I)\n",
    "        self.L.append((len(self.a), self.G[-1]))\n",
    "        \n",
    "        return G\n",
    "    \n",
    "    def mc(self):\n",
    "        alpha = self.alpha_t\n",
    "        for i in tqdm(range(self.num_episodes)):\n",
    "            G = self.gen_episode(0, self.max_ep_len)\n",
    "            sub = 0\n",
    "            I = 1\n",
    "            \n",
    "            for t in range(len(self.s)-1):\n",
    "                G -= sub\n",
    "                delta_ln = np.copy(self.x[:,self.a[t], np.newaxis])\n",
    "                pi = self.get_policy_distribution()\n",
    "                delta_ln -= self.x @ pi\n",
    "    \n",
    "                # y^t is covered in G in this implementation. G is not strictly G, rather y^t*G\n",
    "                self.theta = self.theta + alpha*G*delta_ln \n",
    "                \n",
    "                sub = self.r[t]*I\n",
    "                I *= self.y\n",
    "                \n",
    "    def mc_with_baseline(self):\n",
    "        alpha = self.alpha_t\n",
    "        alpha_w = self.alpha_w\n",
    "        \n",
    "        for i in tqdm(range(self.num_episodes)):\n",
    "            G = self.gen_episode(0, self.max_ep_len)\n",
    "            sub = 0\n",
    "            I = 1\n",
    "            \n",
    "            for t in range(len(self.s)-1):\n",
    "                G -= sub # here G is the proper G, ie does not contain y^t\n",
    "                G /= I\n",
    "                delta = G - self.w\n",
    "                \n",
    "                self.w += alpha_w*delta\n",
    "                \n",
    "                delta_ln = np.copy(self.x[:,self.a[t], np.newaxis])\n",
    "                pi = self.get_policy_distribution()\n",
    "                delta_ln -= self.x @ pi\n",
    "                self.theta += alpha*I*delta*delta_ln \n",
    "                \n",
    "                sub = self.r[t]\n",
    "                I *= self.y\n",
    "                \n",
    "            "
   ]
  },
  {
   "cell_type": "code",
   "execution_count": 34,
   "metadata": {},
   "outputs": [
    {
     "data": {
      "application/vnd.jupyter.widget-view+json": {
       "model_id": "cacf38ed820b41b991ec504e654f3888",
       "version_major": 2,
       "version_minor": 0
      },
      "text/plain": [
       "HBox(children=(IntProgress(value=0), HTML(value='')))"
      ]
     },
     "metadata": {},
     "output_type": "display_data"
    },
    {
     "data": {
      "application/vnd.jupyter.widget-view+json": {
       "model_id": "606b924f5f8e41ca81f1f51bf1d44bd8",
       "version_major": 2,
       "version_minor": 0
      },
      "text/plain": [
       "HBox(children=(IntProgress(value=0, max=1000), HTML(value='')))"
      ]
     },
     "metadata": {},
     "output_type": "display_data"
    },
    {
     "data": {
      "application/vnd.jupyter.widget-view+json": {
       "model_id": "aa4588aa59de4f4f8cb0dfe073b9b21a",
       "version_major": 2,
       "version_minor": 0
      },
      "text/plain": [
       "HBox(children=(IntProgress(value=0, max=1000), HTML(value='')))"
      ]
     },
     "metadata": {},
     "output_type": "display_data"
    },
    {
     "data": {
      "application/vnd.jupyter.widget-view+json": {
       "model_id": "2734394a843d4f388635c05ef46b8683",
       "version_major": 2,
       "version_minor": 0
      },
      "text/plain": [
       "HBox(children=(IntProgress(value=0, max=1000), HTML(value='')))"
      ]
     },
     "metadata": {},
     "output_type": "display_data"
    },
    {
     "data": {
      "application/vnd.jupyter.widget-view+json": {
       "model_id": "706f9c81df204917a932f56edb727d71",
       "version_major": 2,
       "version_minor": 0
      },
      "text/plain": [
       "HBox(children=(IntProgress(value=0, max=1000), HTML(value='')))"
      ]
     },
     "metadata": {},
     "output_type": "display_data"
    },
    {
     "data": {
      "application/vnd.jupyter.widget-view+json": {
       "model_id": "30762da14dfb4ff3adea53064edf992c",
       "version_major": 2,
       "version_minor": 0
      },
      "text/plain": [
       "HBox(children=(IntProgress(value=0, max=1000), HTML(value='')))"
      ]
     },
     "metadata": {},
     "output_type": "display_data"
    },
    {
     "data": {
      "application/vnd.jupyter.widget-view+json": {
       "model_id": "f3aab72f28b04344ab59bcc4e66b86ee",
       "version_major": 2,
       "version_minor": 0
      },
      "text/plain": [
       "HBox(children=(IntProgress(value=0, max=1000), HTML(value='')))"
      ]
     },
     "metadata": {},
     "output_type": "display_data"
    },
    {
     "data": {
      "application/vnd.jupyter.widget-view+json": {
       "model_id": "f76a14e954984bb3a6499155e224ca51",
       "version_major": 2,
       "version_minor": 0
      },
      "text/plain": [
       "HBox(children=(IntProgress(value=0, max=1000), HTML(value='')))"
      ]
     },
     "metadata": {},
     "output_type": "display_data"
    },
    {
     "data": {
      "application/vnd.jupyter.widget-view+json": {
       "model_id": "8deeb99d95a24f6ba1491fd41dcafb75",
       "version_major": 2,
       "version_minor": 0
      },
      "text/plain": [
       "HBox(children=(IntProgress(value=0, max=1000), HTML(value='')))"
      ]
     },
     "metadata": {},
     "output_type": "display_data"
    },
    {
     "data": {
      "application/vnd.jupyter.widget-view+json": {
       "model_id": "ebc07a9b07044872bf3424f99fcf3360",
       "version_major": 2,
       "version_minor": 0
      },
      "text/plain": [
       "HBox(children=(IntProgress(value=0, max=1000), HTML(value='')))"
      ]
     },
     "metadata": {},
     "output_type": "display_data"
    },
    {
     "data": {
      "application/vnd.jupyter.widget-view+json": {
       "model_id": "2b8bdbb46c0e4ca2b2d97ef76f0b073d",
       "version_major": 2,
       "version_minor": 0
      },
      "text/plain": [
       "HBox(children=(IntProgress(value=0, max=1000), HTML(value='')))"
      ]
     },
     "metadata": {},
     "output_type": "display_data"
    },
    {
     "data": {
      "application/vnd.jupyter.widget-view+json": {
       "model_id": "5bc7d7972d9a41d6b738bf0632858294",
       "version_major": 2,
       "version_minor": 0
      },
      "text/plain": [
       "HBox(children=(IntProgress(value=0, max=1000), HTML(value='')))"
      ]
     },
     "metadata": {},
     "output_type": "display_data"
    },
    {
     "data": {
      "application/vnd.jupyter.widget-view+json": {
       "model_id": "20eecce4fd5e4eef8f50d78c7f587191",
       "version_major": 2,
       "version_minor": 0
      },
      "text/plain": [
       "HBox(children=(IntProgress(value=0, max=1000), HTML(value='')))"
      ]
     },
     "metadata": {},
     "output_type": "display_data"
    },
    {
     "data": {
      "application/vnd.jupyter.widget-view+json": {
       "model_id": "860b682fef9646fcad4756ad7c7129cd",
       "version_major": 2,
       "version_minor": 0
      },
      "text/plain": [
       "HBox(children=(IntProgress(value=0, max=1000), HTML(value='')))"
      ]
     },
     "metadata": {},
     "output_type": "display_data"
    },
    {
     "data": {
      "application/vnd.jupyter.widget-view+json": {
       "model_id": "55d9ff892b864878a353e55b9dbb1c08",
       "version_major": 2,
       "version_minor": 0
      },
      "text/plain": [
       "HBox(children=(IntProgress(value=0, max=1000), HTML(value='')))"
      ]
     },
     "metadata": {},
     "output_type": "display_data"
    },
    {
     "data": {
      "application/vnd.jupyter.widget-view+json": {
       "model_id": "692319e8227f49a0a0e3b3d639b13c7f",
       "version_major": 2,
       "version_minor": 0
      },
      "text/plain": [
       "HBox(children=(IntProgress(value=0, max=1000), HTML(value='')))"
      ]
     },
     "metadata": {},
     "output_type": "display_data"
    },
    {
     "data": {
      "application/vnd.jupyter.widget-view+json": {
       "model_id": "23009f64de5948b394f3e828648565ba",
       "version_major": 2,
       "version_minor": 0
      },
      "text/plain": [
       "HBox(children=(IntProgress(value=0, max=1000), HTML(value='')))"
      ]
     },
     "metadata": {},
     "output_type": "display_data"
    },
    {
     "data": {
      "application/vnd.jupyter.widget-view+json": {
       "model_id": "84cde8f62a324c37b4c3bf83ebe44465",
       "version_major": 2,
       "version_minor": 0
      },
      "text/plain": [
       "HBox(children=(IntProgress(value=0, max=1000), HTML(value='')))"
      ]
     },
     "metadata": {},
     "output_type": "display_data"
    },
    {
     "data": {
      "application/vnd.jupyter.widget-view+json": {
       "model_id": "bff159dab4aa45ca9b41d71bfbba034a",
       "version_major": 2,
       "version_minor": 0
      },
      "text/plain": [
       "HBox(children=(IntProgress(value=0, max=1000), HTML(value='')))"
      ]
     },
     "metadata": {},
     "output_type": "display_data"
    },
    {
     "data": {
      "application/vnd.jupyter.widget-view+json": {
       "model_id": "57a273a6768e454b8da42ddfccc4d79b",
       "version_major": 2,
       "version_minor": 0
      },
      "text/plain": [
       "HBox(children=(IntProgress(value=0, max=1000), HTML(value='')))"
      ]
     },
     "metadata": {},
     "output_type": "display_data"
    },
    {
     "data": {
      "application/vnd.jupyter.widget-view+json": {
       "model_id": "ed96b6e286d9405bb60bccd9b6ebfa21",
       "version_major": 2,
       "version_minor": 0
      },
      "text/plain": [
       "HBox(children=(IntProgress(value=0, max=1000), HTML(value='')))"
      ]
     },
     "metadata": {},
     "output_type": "display_data"
    },
    {
     "data": {
      "application/vnd.jupyter.widget-view+json": {
       "model_id": "8d13f54310f24d8c8b613894441daf8a",
       "version_major": 2,
       "version_minor": 0
      },
      "text/plain": [
       "HBox(children=(IntProgress(value=0, max=1000), HTML(value='')))"
      ]
     },
     "metadata": {},
     "output_type": "display_data"
    },
    {
     "data": {
      "application/vnd.jupyter.widget-view+json": {
       "model_id": "0241f2f6b7df4b18b37d0aaa6a8d2710",
       "version_major": 2,
       "version_minor": 0
      },
      "text/plain": [
       "HBox(children=(IntProgress(value=0, max=1000), HTML(value='')))"
      ]
     },
     "metadata": {},
     "output_type": "display_data"
    },
    {
     "data": {
      "application/vnd.jupyter.widget-view+json": {
       "model_id": "b30f7b66198b43a4b775cc24dfd319a4",
       "version_major": 2,
       "version_minor": 0
      },
      "text/plain": [
       "HBox(children=(IntProgress(value=0, max=1000), HTML(value='')))"
      ]
     },
     "metadata": {},
     "output_type": "display_data"
    },
    {
     "data": {
      "application/vnd.jupyter.widget-view+json": {
       "model_id": "8f41b4bee6914c4196c3f46bc6f95a95",
       "version_major": 2,
       "version_minor": 0
      },
      "text/plain": [
       "HBox(children=(IntProgress(value=0, max=1000), HTML(value='')))"
      ]
     },
     "metadata": {},
     "output_type": "display_data"
    },
    {
     "data": {
      "application/vnd.jupyter.widget-view+json": {
       "model_id": "9e8d5d4dbb0344ec85d1e964c08ce583",
       "version_major": 2,
       "version_minor": 0
      },
      "text/plain": [
       "HBox(children=(IntProgress(value=0, max=1000), HTML(value='')))"
      ]
     },
     "metadata": {},
     "output_type": "display_data"
    },
    {
     "data": {
      "application/vnd.jupyter.widget-view+json": {
       "model_id": "1769dbfa63754475b94fb3564bb777c5",
       "version_major": 2,
       "version_minor": 0
      },
      "text/plain": [
       "HBox(children=(IntProgress(value=0, max=1000), HTML(value='')))"
      ]
     },
     "metadata": {},
     "output_type": "display_data"
    },
    {
     "data": {
      "application/vnd.jupyter.widget-view+json": {
       "model_id": "b24ae534b30d4d8f8e81130e4aecd77f",
       "version_major": 2,
       "version_minor": 0
      },
      "text/plain": [
       "HBox(children=(IntProgress(value=0, max=1000), HTML(value='')))"
      ]
     },
     "metadata": {},
     "output_type": "display_data"
    },
    {
     "data": {
      "application/vnd.jupyter.widget-view+json": {
       "model_id": "deb5a155e28546bdb2656060a270376a",
       "version_major": 2,
       "version_minor": 0
      },
      "text/plain": [
       "HBox(children=(IntProgress(value=0, max=1000), HTML(value='')))"
      ]
     },
     "metadata": {},
     "output_type": "display_data"
    },
    {
     "data": {
      "application/vnd.jupyter.widget-view+json": {
       "model_id": "84a90ab800194649869d3a984f222361",
       "version_major": 2,
       "version_minor": 0
      },
      "text/plain": [
       "HBox(children=(IntProgress(value=0, max=1000), HTML(value='')))"
      ]
     },
     "metadata": {},
     "output_type": "display_data"
    },
    {
     "data": {
      "application/vnd.jupyter.widget-view+json": {
       "model_id": "b0787eff00294bae83945a0ba7724e0b",
       "version_major": 2,
       "version_minor": 0
      },
      "text/plain": [
       "HBox(children=(IntProgress(value=0, max=1000), HTML(value='')))"
      ]
     },
     "metadata": {},
     "output_type": "display_data"
    },
    {
     "data": {
      "application/vnd.jupyter.widget-view+json": {
       "model_id": "f377823618ec4bc1a10c8db440ddcffc",
       "version_major": 2,
       "version_minor": 0
      },
      "text/plain": [
       "HBox(children=(IntProgress(value=0, max=1000), HTML(value='')))"
      ]
     },
     "metadata": {},
     "output_type": "display_data"
    },
    {
     "data": {
      "application/vnd.jupyter.widget-view+json": {
       "model_id": "e285134304f343dcb714765fd57b6058",
       "version_major": 2,
       "version_minor": 0
      },
      "text/plain": [
       "HBox(children=(IntProgress(value=0, max=1000), HTML(value='')))"
      ]
     },
     "metadata": {},
     "output_type": "display_data"
    },
    {
     "data": {
      "application/vnd.jupyter.widget-view+json": {
       "model_id": "743ac3e9d3d04e25baf25262f3902844",
       "version_major": 2,
       "version_minor": 0
      },
      "text/plain": [
       "HBox(children=(IntProgress(value=0, max=1000), HTML(value='')))"
      ]
     },
     "metadata": {},
     "output_type": "display_data"
    },
    {
     "data": {
      "application/vnd.jupyter.widget-view+json": {
       "model_id": "738a013143754c62a43edf80d702c44c",
       "version_major": 2,
       "version_minor": 0
      },
      "text/plain": [
       "HBox(children=(IntProgress(value=0, max=1000), HTML(value='')))"
      ]
     },
     "metadata": {},
     "output_type": "display_data"
    },
    {
     "data": {
      "application/vnd.jupyter.widget-view+json": {
       "model_id": "f866944d651e464ea3ebea0eb1aa9c17",
       "version_major": 2,
       "version_minor": 0
      },
      "text/plain": [
       "HBox(children=(IntProgress(value=0, max=1000), HTML(value='')))"
      ]
     },
     "metadata": {},
     "output_type": "display_data"
    },
    {
     "data": {
      "application/vnd.jupyter.widget-view+json": {
       "model_id": "dbb74967280d40e284fdca1f77e4531a",
       "version_major": 2,
       "version_minor": 0
      },
      "text/plain": [
       "HBox(children=(IntProgress(value=0, max=1000), HTML(value='')))"
      ]
     },
     "metadata": {},
     "output_type": "display_data"
    },
    {
     "data": {
      "application/vnd.jupyter.widget-view+json": {
       "model_id": "d23d268da1b443c791900a0f24581631",
       "version_major": 2,
       "version_minor": 0
      },
      "text/plain": [
       "HBox(children=(IntProgress(value=0, max=1000), HTML(value='')))"
      ]
     },
     "metadata": {},
     "output_type": "display_data"
    },
    {
     "data": {
      "application/vnd.jupyter.widget-view+json": {
       "model_id": "2ea11a4ff83b48e78547648a391b2b9e",
       "version_major": 2,
       "version_minor": 0
      },
      "text/plain": [
       "HBox(children=(IntProgress(value=0, max=1000), HTML(value='')))"
      ]
     },
     "metadata": {},
     "output_type": "display_data"
    },
    {
     "data": {
      "application/vnd.jupyter.widget-view+json": {
       "model_id": "0dba4d344d75473ab530770acfac312b",
       "version_major": 2,
       "version_minor": 0
      },
      "text/plain": [
       "HBox(children=(IntProgress(value=0, max=1000), HTML(value='')))"
      ]
     },
     "metadata": {},
     "output_type": "display_data"
    },
    {
     "data": {
      "application/vnd.jupyter.widget-view+json": {
       "model_id": "629b9c8ad8424a3d90ce812bc4083d81",
       "version_major": 2,
       "version_minor": 0
      },
      "text/plain": [
       "HBox(children=(IntProgress(value=0, max=1000), HTML(value='')))"
      ]
     },
     "metadata": {},
     "output_type": "display_data"
    },
    {
     "data": {
      "application/vnd.jupyter.widget-view+json": {
       "model_id": "9359806043da4dd697a45e61c2753762",
       "version_major": 2,
       "version_minor": 0
      },
      "text/plain": [
       "HBox(children=(IntProgress(value=0, max=1000), HTML(value='')))"
      ]
     },
     "metadata": {},
     "output_type": "display_data"
    },
    {
     "data": {
      "application/vnd.jupyter.widget-view+json": {
       "model_id": "960c5f5c01fa418aba945b46b52a09b8",
       "version_major": 2,
       "version_minor": 0
      },
      "text/plain": [
       "HBox(children=(IntProgress(value=0, max=1000), HTML(value='')))"
      ]
     },
     "metadata": {},
     "output_type": "display_data"
    },
    {
     "data": {
      "application/vnd.jupyter.widget-view+json": {
       "model_id": "49dd063a1f1145c185ee66106d14c4cb",
       "version_major": 2,
       "version_minor": 0
      },
      "text/plain": [
       "HBox(children=(IntProgress(value=0, max=1000), HTML(value='')))"
      ]
     },
     "metadata": {},
     "output_type": "display_data"
    },
    {
     "data": {
      "application/vnd.jupyter.widget-view+json": {
       "model_id": "ef0061dddbf2463cb0be853df22319dd",
       "version_major": 2,
       "version_minor": 0
      },
      "text/plain": [
       "HBox(children=(IntProgress(value=0, max=1000), HTML(value='')))"
      ]
     },
     "metadata": {},
     "output_type": "display_data"
    },
    {
     "data": {
      "application/vnd.jupyter.widget-view+json": {
       "model_id": "20dc380088e048bfa280f2fdb337eadc",
       "version_major": 2,
       "version_minor": 0
      },
      "text/plain": [
       "HBox(children=(IntProgress(value=0, max=1000), HTML(value='')))"
      ]
     },
     "metadata": {},
     "output_type": "display_data"
    },
    {
     "data": {
      "application/vnd.jupyter.widget-view+json": {
       "model_id": "431111e1f6474aff9e09d351e84ba43b",
       "version_major": 2,
       "version_minor": 0
      },
      "text/plain": [
       "HBox(children=(IntProgress(value=0, max=1000), HTML(value='')))"
      ]
     },
     "metadata": {},
     "output_type": "display_data"
    },
    {
     "data": {
      "application/vnd.jupyter.widget-view+json": {
       "model_id": "7507044a7ee24e9c81a9f60ba5e4c371",
       "version_major": 2,
       "version_minor": 0
      },
      "text/plain": [
       "HBox(children=(IntProgress(value=0, max=1000), HTML(value='')))"
      ]
     },
     "metadata": {},
     "output_type": "display_data"
    },
    {
     "data": {
      "application/vnd.jupyter.widget-view+json": {
       "model_id": "9e7cfcf7464d41d88c2b54d81fe82d14",
       "version_major": 2,
       "version_minor": 0
      },
      "text/plain": [
       "HBox(children=(IntProgress(value=0, max=1000), HTML(value='')))"
      ]
     },
     "metadata": {},
     "output_type": "display_data"
    },
    {
     "data": {
      "application/vnd.jupyter.widget-view+json": {
       "model_id": "617c67be241f480a8f667d4c285988e0",
       "version_major": 2,
       "version_minor": 0
      },
      "text/plain": [
       "HBox(children=(IntProgress(value=0, max=1000), HTML(value='')))"
      ]
     },
     "metadata": {},
     "output_type": "display_data"
    },
    {
     "data": {
      "application/vnd.jupyter.widget-view+json": {
       "model_id": "0b72d3fb2a824887a16eddf81b934645",
       "version_major": 2,
       "version_minor": 0
      },
      "text/plain": [
       "HBox(children=(IntProgress(value=0, max=1000), HTML(value='')))"
      ]
     },
     "metadata": {},
     "output_type": "display_data"
    },
    {
     "data": {
      "application/vnd.jupyter.widget-view+json": {
       "model_id": "5878f1be799a42c798524565821fa6ea",
       "version_major": 2,
       "version_minor": 0
      },
      "text/plain": [
       "HBox(children=(IntProgress(value=0, max=1000), HTML(value='')))"
      ]
     },
     "metadata": {},
     "output_type": "display_data"
    },
    {
     "data": {
      "application/vnd.jupyter.widget-view+json": {
       "model_id": "ebb24762cc1d4031ae117fb77156a07d",
       "version_major": 2,
       "version_minor": 0
      },
      "text/plain": [
       "HBox(children=(IntProgress(value=0, max=1000), HTML(value='')))"
      ]
     },
     "metadata": {},
     "output_type": "display_data"
    },
    {
     "data": {
      "application/vnd.jupyter.widget-view+json": {
       "model_id": "331157b4eb564f0d813ab59f91362566",
       "version_major": 2,
       "version_minor": 0
      },
      "text/plain": [
       "HBox(children=(IntProgress(value=0, max=1000), HTML(value='')))"
      ]
     },
     "metadata": {},
     "output_type": "display_data"
    },
    {
     "data": {
      "application/vnd.jupyter.widget-view+json": {
       "model_id": "e91c05429f6648ba94bdfa182669d3bf",
       "version_major": 2,
       "version_minor": 0
      },
      "text/plain": [
       "HBox(children=(IntProgress(value=0, max=1000), HTML(value='')))"
      ]
     },
     "metadata": {},
     "output_type": "display_data"
    },
    {
     "data": {
      "application/vnd.jupyter.widget-view+json": {
       "model_id": "3896544679174052922affc680c86242",
       "version_major": 2,
       "version_minor": 0
      },
      "text/plain": [
       "HBox(children=(IntProgress(value=0, max=1000), HTML(value='')))"
      ]
     },
     "metadata": {},
     "output_type": "display_data"
    },
    {
     "data": {
      "application/vnd.jupyter.widget-view+json": {
       "model_id": "46f909da3b58450e90a6cbc0308f6121",
       "version_major": 2,
       "version_minor": 0
      },
      "text/plain": [
       "HBox(children=(IntProgress(value=0, max=1000), HTML(value='')))"
      ]
     },
     "metadata": {},
     "output_type": "display_data"
    },
    {
     "data": {
      "application/vnd.jupyter.widget-view+json": {
       "model_id": "ff102c480ca74b0c971d8beb01e88acf",
       "version_major": 2,
       "version_minor": 0
      },
      "text/plain": [
       "HBox(children=(IntProgress(value=0, max=1000), HTML(value='')))"
      ]
     },
     "metadata": {},
     "output_type": "display_data"
    },
    {
     "data": {
      "application/vnd.jupyter.widget-view+json": {
       "model_id": "14e1edf92b5a45fd9e4a91803e64c355",
       "version_major": 2,
       "version_minor": 0
      },
      "text/plain": [
       "HBox(children=(IntProgress(value=0, max=1000), HTML(value='')))"
      ]
     },
     "metadata": {},
     "output_type": "display_data"
    },
    {
     "data": {
      "application/vnd.jupyter.widget-view+json": {
       "model_id": "164e7938e7de4d57b7044da910b74c20",
       "version_major": 2,
       "version_minor": 0
      },
      "text/plain": [
       "HBox(children=(IntProgress(value=0, max=1000), HTML(value='')))"
      ]
     },
     "metadata": {},
     "output_type": "display_data"
    },
    {
     "data": {
      "application/vnd.jupyter.widget-view+json": {
       "model_id": "9b87b783c05841dda06775cabb23c093",
       "version_major": 2,
       "version_minor": 0
      },
      "text/plain": [
       "HBox(children=(IntProgress(value=0, max=1000), HTML(value='')))"
      ]
     },
     "metadata": {},
     "output_type": "display_data"
    },
    {
     "data": {
      "application/vnd.jupyter.widget-view+json": {
       "model_id": "f5e2c35f385e41abb2592f5095c72465",
       "version_major": 2,
       "version_minor": 0
      },
      "text/plain": [
       "HBox(children=(IntProgress(value=0, max=1000), HTML(value='')))"
      ]
     },
     "metadata": {},
     "output_type": "display_data"
    },
    {
     "data": {
      "application/vnd.jupyter.widget-view+json": {
       "model_id": "ae280c5b4cef45d3880f9fcf90135503",
       "version_major": 2,
       "version_minor": 0
      },
      "text/plain": [
       "HBox(children=(IntProgress(value=0, max=1000), HTML(value='')))"
      ]
     },
     "metadata": {},
     "output_type": "display_data"
    },
    {
     "data": {
      "application/vnd.jupyter.widget-view+json": {
       "model_id": "cab5e70a09f7441b89bcd6e33bbf68a6",
       "version_major": 2,
       "version_minor": 0
      },
      "text/plain": [
       "HBox(children=(IntProgress(value=0, max=1000), HTML(value='')))"
      ]
     },
     "metadata": {},
     "output_type": "display_data"
    },
    {
     "data": {
      "application/vnd.jupyter.widget-view+json": {
       "model_id": "7569f6292eb740689e0598d44a9f6a20",
       "version_major": 2,
       "version_minor": 0
      },
      "text/plain": [
       "HBox(children=(IntProgress(value=0, max=1000), HTML(value='')))"
      ]
     },
     "metadata": {},
     "output_type": "display_data"
    },
    {
     "data": {
      "application/vnd.jupyter.widget-view+json": {
       "model_id": "1a6af4358eae46e1a9cb95b80512b8e9",
       "version_major": 2,
       "version_minor": 0
      },
      "text/plain": [
       "HBox(children=(IntProgress(value=0, max=1000), HTML(value='')))"
      ]
     },
     "metadata": {},
     "output_type": "display_data"
    },
    {
     "data": {
      "application/vnd.jupyter.widget-view+json": {
       "model_id": "e212cb6b5ac94955b2c0f4466163ef9a",
       "version_major": 2,
       "version_minor": 0
      },
      "text/plain": [
       "HBox(children=(IntProgress(value=0, max=1000), HTML(value='')))"
      ]
     },
     "metadata": {},
     "output_type": "display_data"
    },
    {
     "data": {
      "application/vnd.jupyter.widget-view+json": {
       "model_id": "8e84807ac6894b0baaee4f77a6856969",
       "version_major": 2,
       "version_minor": 0
      },
      "text/plain": [
       "HBox(children=(IntProgress(value=0, max=1000), HTML(value='')))"
      ]
     },
     "metadata": {},
     "output_type": "display_data"
    },
    {
     "data": {
      "application/vnd.jupyter.widget-view+json": {
       "model_id": "254a32fb6fb7456b9642b9a0f9e03305",
       "version_major": 2,
       "version_minor": 0
      },
      "text/plain": [
       "HBox(children=(IntProgress(value=0, max=1000), HTML(value='')))"
      ]
     },
     "metadata": {},
     "output_type": "display_data"
    },
    {
     "data": {
      "application/vnd.jupyter.widget-view+json": {
       "model_id": "e7e3bd6899e84417af115887e87c4284",
       "version_major": 2,
       "version_minor": 0
      },
      "text/plain": [
       "HBox(children=(IntProgress(value=0, max=1000), HTML(value='')))"
      ]
     },
     "metadata": {},
     "output_type": "display_data"
    },
    {
     "data": {
      "application/vnd.jupyter.widget-view+json": {
       "model_id": "37208ab11ebd4fc89b11fda8d477fa31",
       "version_major": 2,
       "version_minor": 0
      },
      "text/plain": [
       "HBox(children=(IntProgress(value=0, max=1000), HTML(value='')))"
      ]
     },
     "metadata": {},
     "output_type": "display_data"
    },
    {
     "data": {
      "application/vnd.jupyter.widget-view+json": {
       "model_id": "fb9d3aecfbbb44a39528f7b1e936638c",
       "version_major": 2,
       "version_minor": 0
      },
      "text/plain": [
       "HBox(children=(IntProgress(value=0, max=1000), HTML(value='')))"
      ]
     },
     "metadata": {},
     "output_type": "display_data"
    },
    {
     "data": {
      "application/vnd.jupyter.widget-view+json": {
       "model_id": "07f4fae641704e1d8051deefcca83150",
       "version_major": 2,
       "version_minor": 0
      },
      "text/plain": [
       "HBox(children=(IntProgress(value=0, max=1000), HTML(value='')))"
      ]
     },
     "metadata": {},
     "output_type": "display_data"
    },
    {
     "data": {
      "application/vnd.jupyter.widget-view+json": {
       "model_id": "409a2e74b91f45ba88f393468aab83a7",
       "version_major": 2,
       "version_minor": 0
      },
      "text/plain": [
       "HBox(children=(IntProgress(value=0, max=1000), HTML(value='')))"
      ]
     },
     "metadata": {},
     "output_type": "display_data"
    },
    {
     "data": {
      "application/vnd.jupyter.widget-view+json": {
       "model_id": "795dcab695a249f79bc82ed6ed910cfb",
       "version_major": 2,
       "version_minor": 0
      },
      "text/plain": [
       "HBox(children=(IntProgress(value=0, max=1000), HTML(value='')))"
      ]
     },
     "metadata": {},
     "output_type": "display_data"
    },
    {
     "data": {
      "application/vnd.jupyter.widget-view+json": {
       "model_id": "b91a6657b7024ba19ad44389e0bd4aaf",
       "version_major": 2,
       "version_minor": 0
      },
      "text/plain": [
       "HBox(children=(IntProgress(value=0, max=1000), HTML(value='')))"
      ]
     },
     "metadata": {},
     "output_type": "display_data"
    },
    {
     "data": {
      "application/vnd.jupyter.widget-view+json": {
       "model_id": "db5bf8fae1a94b17b55e53f1197d90a8",
       "version_major": 2,
       "version_minor": 0
      },
      "text/plain": [
       "HBox(children=(IntProgress(value=0, max=1000), HTML(value='')))"
      ]
     },
     "metadata": {},
     "output_type": "display_data"
    },
    {
     "data": {
      "application/vnd.jupyter.widget-view+json": {
       "model_id": "c833a00cbfc94fe0bbb6284f7031150b",
       "version_major": 2,
       "version_minor": 0
      },
      "text/plain": [
       "HBox(children=(IntProgress(value=0, max=1000), HTML(value='')))"
      ]
     },
     "metadata": {},
     "output_type": "display_data"
    },
    {
     "data": {
      "application/vnd.jupyter.widget-view+json": {
       "model_id": "d176ff20371a48d0aeed8988ca9215b5",
       "version_major": 2,
       "version_minor": 0
      },
      "text/plain": [
       "HBox(children=(IntProgress(value=0, max=1000), HTML(value='')))"
      ]
     },
     "metadata": {},
     "output_type": "display_data"
    },
    {
     "data": {
      "application/vnd.jupyter.widget-view+json": {
       "model_id": "4abb193411184cd9b6db5d6913f69826",
       "version_major": 2,
       "version_minor": 0
      },
      "text/plain": [
       "HBox(children=(IntProgress(value=0, max=1000), HTML(value='')))"
      ]
     },
     "metadata": {},
     "output_type": "display_data"
    },
    {
     "data": {
      "application/vnd.jupyter.widget-view+json": {
       "model_id": "5b1beabfa3624a0eb36350b4eee67779",
       "version_major": 2,
       "version_minor": 0
      },
      "text/plain": [
       "HBox(children=(IntProgress(value=0, max=1000), HTML(value='')))"
      ]
     },
     "metadata": {},
     "output_type": "display_data"
    },
    {
     "data": {
      "application/vnd.jupyter.widget-view+json": {
       "model_id": "151fccb988ad48a58b1d5b28d0828a29",
       "version_major": 2,
       "version_minor": 0
      },
      "text/plain": [
       "HBox(children=(IntProgress(value=0, max=1000), HTML(value='')))"
      ]
     },
     "metadata": {},
     "output_type": "display_data"
    },
    {
     "data": {
      "application/vnd.jupyter.widget-view+json": {
       "model_id": "f04f3e7a58384fa0a18eebafa73b2e95",
       "version_major": 2,
       "version_minor": 0
      },
      "text/plain": [
       "HBox(children=(IntProgress(value=0, max=1000), HTML(value='')))"
      ]
     },
     "metadata": {},
     "output_type": "display_data"
    },
    {
     "data": {
      "application/vnd.jupyter.widget-view+json": {
       "model_id": "3f411dd87b154f63bd43288dbea04c5a",
       "version_major": 2,
       "version_minor": 0
      },
      "text/plain": [
       "HBox(children=(IntProgress(value=0, max=1000), HTML(value='')))"
      ]
     },
     "metadata": {},
     "output_type": "display_data"
    },
    {
     "data": {
      "application/vnd.jupyter.widget-view+json": {
       "model_id": "08f7b67f067845b79379f16bbf3b249a",
       "version_major": 2,
       "version_minor": 0
      },
      "text/plain": [
       "HBox(children=(IntProgress(value=0, max=1000), HTML(value='')))"
      ]
     },
     "metadata": {},
     "output_type": "display_data"
    },
    {
     "data": {
      "application/vnd.jupyter.widget-view+json": {
       "model_id": "b4885df1458c4d7eb3f6407fcf83b0ce",
       "version_major": 2,
       "version_minor": 0
      },
      "text/plain": [
       "HBox(children=(IntProgress(value=0, max=1000), HTML(value='')))"
      ]
     },
     "metadata": {},
     "output_type": "display_data"
    },
    {
     "data": {
      "application/vnd.jupyter.widget-view+json": {
       "model_id": "90993099f73c414688d194cdd59220a2",
       "version_major": 2,
       "version_minor": 0
      },
      "text/plain": [
       "HBox(children=(IntProgress(value=0, max=1000), HTML(value='')))"
      ]
     },
     "metadata": {},
     "output_type": "display_data"
    },
    {
     "data": {
      "application/vnd.jupyter.widget-view+json": {
       "model_id": "d7939a8c9ed4443cb5b5355a07274120",
       "version_major": 2,
       "version_minor": 0
      },
      "text/plain": [
       "HBox(children=(IntProgress(value=0, max=1000), HTML(value='')))"
      ]
     },
     "metadata": {},
     "output_type": "display_data"
    },
    {
     "data": {
      "application/vnd.jupyter.widget-view+json": {
       "model_id": "5ebe0b5150e9434aa44d627cb4d9d6bf",
       "version_major": 2,
       "version_minor": 0
      },
      "text/plain": [
       "HBox(children=(IntProgress(value=0, max=1000), HTML(value='')))"
      ]
     },
     "metadata": {},
     "output_type": "display_data"
    },
    {
     "data": {
      "application/vnd.jupyter.widget-view+json": {
       "model_id": "735a2a61a4a5446a834217637cfe2d9e",
       "version_major": 2,
       "version_minor": 0
      },
      "text/plain": [
       "HBox(children=(IntProgress(value=0, max=1000), HTML(value='')))"
      ]
     },
     "metadata": {},
     "output_type": "display_data"
    },
    {
     "data": {
      "application/vnd.jupyter.widget-view+json": {
       "model_id": "b491553c8ae247c2bba9cbf413526e12",
       "version_major": 2,
       "version_minor": 0
      },
      "text/plain": [
       "HBox(children=(IntProgress(value=0, max=1000), HTML(value='')))"
      ]
     },
     "metadata": {},
     "output_type": "display_data"
    },
    {
     "data": {
      "application/vnd.jupyter.widget-view+json": {
       "model_id": "05fd24d7e2db4203b92839c9b6742068",
       "version_major": 2,
       "version_minor": 0
      },
      "text/plain": [
       "HBox(children=(IntProgress(value=0, max=1000), HTML(value='')))"
      ]
     },
     "metadata": {},
     "output_type": "display_data"
    },
    {
     "data": {
      "application/vnd.jupyter.widget-view+json": {
       "model_id": "775068be5e454544b25bcb7ff64fee3a",
       "version_major": 2,
       "version_minor": 0
      },
      "text/plain": [
       "HBox(children=(IntProgress(value=0, max=1000), HTML(value='')))"
      ]
     },
     "metadata": {},
     "output_type": "display_data"
    },
    {
     "data": {
      "application/vnd.jupyter.widget-view+json": {
       "model_id": "060e258eeece43a3a43e3513732cf8f0",
       "version_major": 2,
       "version_minor": 0
      },
      "text/plain": [
       "HBox(children=(IntProgress(value=0, max=1000), HTML(value='')))"
      ]
     },
     "metadata": {},
     "output_type": "display_data"
    },
    {
     "data": {
      "application/vnd.jupyter.widget-view+json": {
       "model_id": "bb88532dfafd49b2b6f6580d2eb0ad11",
       "version_major": 2,
       "version_minor": 0
      },
      "text/plain": [
       "HBox(children=(IntProgress(value=0, max=1000), HTML(value='')))"
      ]
     },
     "metadata": {},
     "output_type": "display_data"
    },
    {
     "data": {
      "application/vnd.jupyter.widget-view+json": {
       "model_id": "81f3f0f0e29f49f39de47407367b197e",
       "version_major": 2,
       "version_minor": 0
      },
      "text/plain": [
       "HBox(children=(IntProgress(value=0, max=1000), HTML(value='')))"
      ]
     },
     "metadata": {},
     "output_type": "display_data"
    },
    {
     "data": {
      "application/vnd.jupyter.widget-view+json": {
       "model_id": "2ecebee638404ebebb5681c22cf87bf6",
       "version_major": 2,
       "version_minor": 0
      },
      "text/plain": [
       "HBox(children=(IntProgress(value=0, max=1000), HTML(value='')))"
      ]
     },
     "metadata": {},
     "output_type": "display_data"
    },
    {
     "data": {
      "application/vnd.jupyter.widget-view+json": {
       "model_id": "0f114ecb058f4f869681920c09dc6441",
       "version_major": 2,
       "version_minor": 0
      },
      "text/plain": [
       "HBox(children=(IntProgress(value=0, max=1000), HTML(value='')))"
      ]
     },
     "metadata": {},
     "output_type": "display_data"
    },
    {
     "data": {
      "application/vnd.jupyter.widget-view+json": {
       "model_id": "2eccfded2d204fe4ad346e41b25fda4a",
       "version_major": 2,
       "version_minor": 0
      },
      "text/plain": [
       "HBox(children=(IntProgress(value=0, max=1000), HTML(value='')))"
      ]
     },
     "metadata": {},
     "output_type": "display_data"
    },
    {
     "data": {
      "application/vnd.jupyter.widget-view+json": {
       "model_id": "bce0970f2d4341839160df6ea93dc626",
       "version_major": 2,
       "version_minor": 0
      },
      "text/plain": [
       "HBox(children=(IntProgress(value=0, max=1000), HTML(value='')))"
      ]
     },
     "metadata": {},
     "output_type": "display_data"
    },
    {
     "data": {
      "application/vnd.jupyter.widget-view+json": {
       "model_id": "ad51f575421b4bed876fb6c06e5001ca",
       "version_major": 2,
       "version_minor": 0
      },
      "text/plain": [
       "HBox(children=(IntProgress(value=0, max=1000), HTML(value='')))"
      ]
     },
     "metadata": {},
     "output_type": "display_data"
    },
    {
     "name": "stdout",
     "output_type": "stream",
     "text": [
      "[[-61.3 ]\n",
      " [-63.58]\n",
      " [-61.66]\n",
      " [-55.48]\n",
      " [-50.5 ]\n",
      " [-57.78]\n",
      " [-50.14]\n",
      " [-47.79]\n",
      " [-54.91]\n",
      " [-45.06]\n",
      " [-41.97]\n",
      " [-41.13]\n",
      " [-45.32]\n",
      " [-40.94]\n",
      " [-51.11]\n",
      " [-39.93]\n",
      " [-38.15]\n",
      " [-44.43]\n",
      " [-45.62]\n",
      " [-38.31]\n",
      " [-37.9 ]\n",
      " [-40.21]\n",
      " [-37.27]\n",
      " [-34.33]\n",
      " [-38.11]\n",
      " [-39.88]\n",
      " [-32.15]\n",
      " [-38.31]\n",
      " [-31.7 ]\n",
      " [-33.6 ]\n",
      " [-34.79]\n",
      " [-35.  ]\n",
      " [-33.28]\n",
      " [-28.01]\n",
      " [-34.19]\n",
      " [-32.81]\n",
      " [-28.66]\n",
      " [-30.27]\n",
      " [-32.95]\n",
      " [-32.18]\n",
      " [-27.62]\n",
      " [-30.87]\n",
      " [-25.45]\n",
      " [-30.2 ]\n",
      " [-32.86]\n",
      " [-31.  ]\n",
      " [-28.16]\n",
      " [-29.14]\n",
      " [-25.41]\n",
      " [-24.77]\n",
      " [-26.29]\n",
      " [-27.15]\n",
      " [-27.58]\n",
      " [-28.71]\n",
      " [-24.53]\n",
      " [-26.92]\n",
      " [-23.94]\n",
      " [-24.84]\n",
      " [-28.6 ]\n",
      " [-24.34]\n",
      " [-27.27]\n",
      " [-21.97]\n",
      " [-26.81]\n",
      " [-23.88]\n",
      " [-24.  ]\n",
      " [-24.83]\n",
      " [-24.21]\n",
      " [-21.78]\n",
      " [-22.41]\n",
      " [-23.83]\n",
      " [-23.58]\n",
      " [-22.79]\n",
      " [-22.84]\n",
      " [-22.58]\n",
      " [-22.46]\n",
      " [-19.65]\n",
      " [-24.42]\n",
      " [-21.94]\n",
      " [-22.27]\n",
      " [-24.41]\n",
      " [-21.77]\n",
      " [-23.27]\n",
      " [-20.42]\n",
      " [-20.46]\n",
      " [-19.65]\n",
      " [-20.4 ]\n",
      " [-20.72]\n",
      " [-20.82]\n",
      " [-21.31]\n",
      " [-22.04]\n",
      " [-18.85]\n",
      " [-18.88]\n",
      " [-21.43]\n",
      " [-19.56]\n",
      " [-18.45]\n",
      " [-17.31]\n",
      " [-17.38]\n",
      " [-18.53]\n",
      " [-17.54]\n",
      " [-20.8 ]\n",
      " [-18.76]\n",
      " [-16.41]\n",
      " [-19.03]\n",
      " [-17.6 ]\n",
      " [-20.19]\n",
      " [-17.4 ]\n",
      " [-16.59]\n",
      " [-16.98]\n",
      " [-20.25]\n",
      " [-16.1 ]\n",
      " [-17.3 ]\n",
      " [-18.22]\n",
      " [-17.53]\n",
      " [-16.64]\n",
      " [-18.65]\n",
      " [-17.55]\n",
      " [-17.49]\n",
      " [-17.45]\n",
      " [-17.68]\n",
      " [-15.93]\n",
      " [-17.12]\n",
      " [-17.21]\n",
      " [-15.77]\n",
      " [-17.52]\n",
      " [-16.05]\n",
      " [-16.09]\n",
      " [-16.1 ]\n",
      " [-16.58]\n",
      " [-16.39]\n",
      " [-16.85]\n",
      " [-15.37]\n",
      " [-16.54]\n",
      " [-16.96]\n",
      " [-15.53]\n",
      " [-14.84]\n",
      " [-15.96]\n",
      " [-13.92]\n",
      " [-15.3 ]\n",
      " [-14.54]\n",
      " [-13.09]\n",
      " [-13.27]\n",
      " [-12.64]\n",
      " [-14.62]\n",
      " [-16.33]\n",
      " [-15.73]\n",
      " [-14.77]\n",
      " [-13.16]\n",
      " [-15.38]\n",
      " [-14.75]\n",
      " [-14.19]\n",
      " [-14.83]\n",
      " [-14.56]\n",
      " [-13.24]\n",
      " [-15.36]\n",
      " [-12.64]\n",
      " [-11.85]\n",
      " [-15.18]\n",
      " [-14.34]\n",
      " [-13.95]\n",
      " [-15.2 ]\n",
      " [-13.96]\n",
      " [-13.64]\n",
      " [-13.44]\n",
      " [-14.07]\n",
      " [-12.79]\n",
      " [-14.64]\n",
      " [-13.4 ]\n",
      " [-13.07]\n",
      " [-14.44]\n",
      " [-15.56]\n",
      " [-13.78]\n",
      " [-13.71]\n",
      " [-13.75]\n",
      " [-13.94]\n",
      " [-15.43]\n",
      " [-13.89]\n",
      " [-13.27]\n",
      " [-12.75]\n",
      " [-14.1 ]\n",
      " [-13.76]\n",
      " [-13.14]\n",
      " [-12.25]\n",
      " [-12.36]\n",
      " [-15.42]\n",
      " [-11.17]\n",
      " [-12.16]\n",
      " [-12.76]\n",
      " [-12.36]\n",
      " [-13.99]\n",
      " [-12.79]\n",
      " [-12.28]\n",
      " [-13.05]\n",
      " [-14.23]\n",
      " [-14.44]\n",
      " [-13.39]\n",
      " [-13.63]\n",
      " [-12.49]\n",
      " [-10.66]\n",
      " [-11.36]\n",
      " [-12.91]\n",
      " [-14.21]\n",
      " [-12.85]\n",
      " [-13.05]\n",
      " [-11.42]\n",
      " [-12.25]\n",
      " [-12.51]\n",
      " [-13.77]\n",
      " [-12.29]\n",
      " [-13.4 ]\n",
      " [-11.64]\n",
      " [-12.65]\n",
      " [-10.78]\n",
      " [-13.25]\n",
      " [-12.01]\n",
      " [-13.04]\n",
      " [-11.88]\n",
      " [-11.08]\n",
      " [-11.82]\n",
      " [-12.19]\n",
      " [-13.74]\n",
      " [-11.12]\n",
      " [-11.33]\n",
      " [-12.44]\n",
      " [-13.35]\n",
      " [-12.08]\n",
      " [-11.5 ]\n",
      " [-10.31]\n",
      " [-10.93]\n",
      " [-12.74]\n",
      " [-12.64]\n",
      " [-11.01]\n",
      " [-12.29]\n",
      " [-12.12]\n",
      " [-11.23]\n",
      " [-12.33]\n",
      " [-10.92]\n",
      " [-11.72]\n",
      " [-11.81]\n",
      " [-13.13]\n",
      " [-12.37]\n",
      " [-11.53]\n",
      " [-11.6 ]\n",
      " [-12.39]\n",
      " [-11.31]\n",
      " [-12.33]\n",
      " [-12.14]\n",
      " [-12.48]\n",
      " [-12.01]\n",
      " [-10.85]\n",
      " [-10.73]\n",
      " [-11.55]\n",
      " [-11.02]\n",
      " [-11.01]\n",
      " [-11.02]\n",
      " [-11.24]\n",
      " [-10.48]\n",
      " [-11.01]\n",
      " [-11.26]\n",
      " [-11.44]\n",
      " [-11.05]\n",
      " [-10.37]\n",
      " [-11.15]\n",
      " [-10.51]\n",
      " [-10.53]\n",
      " [ -9.91]\n",
      " [-10.3 ]\n",
      " [-10.68]\n",
      " [-10.5 ]\n",
      " [-11.88]\n",
      " [-10.76]\n",
      " [-10.67]\n",
      " [ -9.64]\n",
      " [-11.21]\n",
      " [-10.87]\n",
      " [-11.06]\n",
      " [-12.14]\n",
      " [ -9.43]\n",
      " [-11.38]\n",
      " [-12.5 ]\n",
      " [-11.33]\n",
      " [-11.55]\n",
      " [-10.91]\n",
      " [-11.36]\n",
      " [-10.83]\n",
      " [-10.44]\n",
      " [-11.19]\n",
      " [-10.2 ]\n",
      " [-10.56]\n",
      " [-10.74]\n",
      " [-10.55]\n",
      " [-10.93]\n",
      " [-11.17]\n",
      " [-10.61]\n",
      " [-10.34]\n",
      " [-11.62]\n",
      " [-11.08]\n",
      " [-10.38]\n",
      " [-10.38]\n",
      " [ -9.85]\n",
      " [-10.98]\n",
      " [-10.28]\n",
      " [-10.36]\n",
      " [-10.53]\n",
      " [ -9.73]\n",
      " [-10.37]\n",
      " [-10.96]\n",
      " [-10.97]\n",
      " [-11.06]\n",
      " [ -9.69]\n",
      " [ -9.89]\n",
      " [-11.14]\n",
      " [ -9.71]\n",
      " [-10.29]\n",
      " [-10.61]\n",
      " [-10.52]\n",
      " [ -8.9 ]\n",
      " [-10.35]\n",
      " [ -9.63]\n",
      " [ -9.25]\n",
      " [-10.08]\n",
      " [-10.36]\n",
      " [ -9.58]\n",
      " [ -9.78]\n",
      " [-10.58]\n",
      " [-10.69]\n",
      " [-10.14]\n",
      " [ -9.8 ]\n",
      " [ -9.39]\n",
      " [ -9.5 ]\n",
      " [ -9.68]\n",
      " [ -9.8 ]\n",
      " [-10.11]\n",
      " [ -9.73]\n",
      " [ -9.69]\n",
      " [-10.16]\n",
      " [ -9.42]\n",
      " [ -9.26]\n",
      " [ -9.52]\n",
      " [ -9.92]\n",
      " [-10.25]\n",
      " [-10.09]\n",
      " [-10.31]\n",
      " [ -9.91]\n",
      " [-10.46]\n",
      " [-10.66]\n",
      " [-10.64]\n",
      " [-10.23]\n",
      " [ -9.97]\n",
      " [ -8.97]\n",
      " [ -9.88]\n",
      " [ -8.5 ]\n",
      " [-10.56]\n",
      " [ -9.04]\n",
      " [ -9.2 ]\n",
      " [ -9.51]\n",
      " [-10.25]\n",
      " [-10.13]\n",
      " [ -9.33]\n",
      " [ -9.98]\n",
      " [ -8.91]\n",
      " [ -9.57]\n",
      " [ -9.2 ]\n",
      " [-10.04]\n",
      " [-10.37]\n",
      " [ -9.71]\n",
      " [-10.07]\n",
      " [-10.05]\n",
      " [ -9.28]\n",
      " [ -9.35]\n",
      " [ -9.75]\n",
      " [-10.07]\n",
      " [-10.72]\n",
      " [ -9.53]\n",
      " [ -9.65]\n",
      " [ -9.59]\n",
      " [ -9.37]\n",
      " [-10.18]\n",
      " [ -9.78]\n",
      " [ -9.62]\n",
      " [-11.04]\n",
      " [ -9.52]\n",
      " [ -9.02]\n",
      " [ -9.16]\n",
      " [ -8.4 ]\n",
      " [ -9.55]\n",
      " [ -9.41]\n",
      " [ -9.77]\n",
      " [ -8.31]\n",
      " [ -8.72]\n",
      " [ -8.8 ]\n",
      " [ -9.  ]\n",
      " [ -9.75]\n",
      " [ -9.52]\n",
      " [ -9.46]\n",
      " [ -9.  ]\n",
      " [-10.04]\n",
      " [ -8.93]\n",
      " [ -8.98]\n",
      " [ -9.7 ]\n",
      " [-10.44]\n",
      " [ -9.75]\n",
      " [ -9.51]\n",
      " [ -8.58]\n",
      " [ -9.44]\n",
      " [-10.08]\n",
      " [ -8.36]\n",
      " [ -9.15]\n",
      " [ -8.95]\n",
      " [ -9.5 ]\n",
      " [ -8.86]\n",
      " [ -9.72]\n",
      " [ -9.19]\n",
      " [ -9.26]\n",
      " [ -9.41]\n",
      " [ -9.8 ]\n",
      " [-10.19]\n",
      " [-10.86]\n",
      " [ -9.11]\n",
      " [ -9.76]\n",
      " [ -9.21]\n",
      " [ -8.91]\n",
      " [ -9.2 ]\n",
      " [ -8.25]\n",
      " [ -8.96]\n",
      " [ -8.78]\n",
      " [ -9.18]\n",
      " [ -9.17]\n",
      " [ -9.  ]\n",
      " [ -9.24]\n",
      " [ -9.58]\n",
      " [ -8.31]\n",
      " [ -9.74]\n",
      " [ -9.13]\n",
      " [ -8.65]\n",
      " [ -8.62]\n",
      " [ -9.77]\n",
      " [ -8.79]\n",
      " [ -8.99]\n",
      " [ -9.51]\n",
      " [ -8.81]\n",
      " [ -8.33]\n",
      " [ -8.73]\n",
      " [ -8.71]\n",
      " [ -8.58]\n",
      " [ -9.85]\n",
      " [ -9.52]\n",
      " [ -8.23]\n",
      " [ -9.67]\n",
      " [ -8.48]\n",
      " [ -9.15]\n",
      " [ -8.48]\n",
      " [ -8.13]\n",
      " [ -8.6 ]\n",
      " [ -9.08]\n",
      " [ -9.62]\n",
      " [ -8.63]\n",
      " [ -8.24]\n",
      " [ -9.12]\n",
      " [ -8.54]\n",
      " [ -8.25]\n",
      " [ -8.79]\n",
      " [ -8.27]\n",
      " [ -8.74]\n",
      " [-10.23]\n",
      " [ -9.33]\n",
      " [ -9.3 ]\n",
      " [ -9.91]\n",
      " [ -8.26]\n",
      " [ -7.94]\n",
      " [-10.2 ]\n",
      " [ -8.7 ]\n",
      " [ -8.8 ]\n",
      " [ -8.86]\n",
      " [ -8.93]\n",
      " [ -8.76]\n",
      " [ -9.32]\n",
      " [ -9.3 ]\n",
      " [ -8.17]\n",
      " [ -8.47]\n",
      " [ -9.2 ]\n",
      " [ -7.89]\n",
      " [ -8.72]\n",
      " [ -7.62]\n",
      " [ -9.8 ]\n",
      " [ -8.53]\n",
      " [ -8.48]\n",
      " [ -7.53]\n",
      " [ -9.28]\n",
      " [ -9.48]\n",
      " [ -9.14]\n",
      " [ -8.62]\n",
      " [ -8.25]\n",
      " [ -9.18]\n",
      " [ -7.94]\n",
      " [ -8.02]\n",
      " [ -7.79]\n",
      " [ -8.79]\n",
      " [ -8.1 ]\n",
      " [ -8.38]\n",
      " [ -8.25]\n",
      " [ -8.92]\n",
      " [ -8.83]\n",
      " [ -9.83]\n",
      " [ -8.86]\n",
      " [ -9.22]\n",
      " [ -8.65]\n",
      " [ -8.19]\n",
      " [ -9.89]\n",
      " [ -8.69]\n",
      " [ -9.15]\n",
      " [ -8.9 ]\n",
      " [ -9.36]\n",
      " [ -8.11]\n",
      " [ -8.75]\n",
      " [ -8.9 ]\n",
      " [ -8.4 ]\n",
      " [ -8.65]\n",
      " [ -8.31]\n",
      " [ -8.86]\n",
      " [ -7.95]\n",
      " [ -8.92]\n",
      " [ -8.81]\n",
      " [ -9.21]\n",
      " [ -7.88]\n",
      " [ -9.05]\n",
      " [ -8.37]\n",
      " [ -8.5 ]\n",
      " [ -8.7 ]\n",
      " [ -7.95]\n",
      " [ -8.79]\n",
      " [ -8.67]\n",
      " [ -8.41]\n",
      " [ -7.99]\n",
      " [ -8.76]\n",
      " [ -8.85]\n",
      " [ -9.15]\n",
      " [ -8.52]\n",
      " [ -7.97]\n",
      " [ -8.24]\n",
      " [ -7.69]\n",
      " [ -7.46]\n",
      " [ -8.8 ]\n",
      " [ -9.11]\n",
      " [ -7.53]\n",
      " [ -7.67]\n",
      " [ -8.33]\n",
      " [ -9.24]\n",
      " [ -7.98]\n",
      " [ -9.39]\n",
      " [ -8.89]\n",
      " [ -7.43]\n",
      " [ -7.6 ]\n",
      " [ -9.05]\n",
      " [ -9.  ]\n",
      " [ -8.92]\n",
      " [ -8.11]\n",
      " [ -8.29]\n",
      " [ -8.78]\n",
      " [ -8.68]\n",
      " [ -8.47]\n",
      " [ -8.59]\n",
      " [ -7.89]\n",
      " [ -8.19]\n",
      " [ -8.19]\n",
      " [ -8.69]\n",
      " [ -8.62]\n",
      " [ -8.51]\n",
      " [ -8.49]\n",
      " [ -8.59]\n",
      " [ -8.99]\n",
      " [ -9.18]\n",
      " [ -8.61]\n",
      " [ -8.68]\n",
      " [ -8.  ]\n",
      " [ -8.8 ]\n",
      " [ -7.72]\n",
      " [ -8.01]\n",
      " [ -7.93]\n",
      " [ -7.9 ]\n",
      " [ -8.65]\n",
      " [ -8.68]\n",
      " [ -8.15]\n",
      " [ -8.57]\n",
      " [ -8.74]\n",
      " [ -7.52]\n",
      " [ -7.35]\n",
      " [ -9.58]\n",
      " [ -8.59]\n",
      " [ -8.77]\n",
      " [ -9.47]\n",
      " [ -7.7 ]\n",
      " [ -8.43]\n",
      " [ -8.45]\n",
      " [ -8.58]\n",
      " [ -8.12]\n",
      " [ -8.05]\n",
      " [ -8.43]\n",
      " [ -9.24]\n",
      " [ -8.61]\n",
      " [ -8.99]\n",
      " [ -8.2 ]\n",
      " [ -8.45]\n",
      " [ -8.85]\n",
      " [ -9.18]\n",
      " [ -8.53]\n",
      " [ -8.02]\n",
      " [ -8.93]\n",
      " [ -8.98]\n",
      " [ -8.63]\n",
      " [ -8.44]\n",
      " [ -7.13]\n",
      " [ -7.28]\n",
      " [ -7.69]\n",
      " [ -7.48]\n",
      " [ -8.78]\n",
      " [ -8.12]\n",
      " [ -8.34]\n",
      " [ -8.85]\n",
      " [ -8.54]\n",
      " [ -8.45]\n",
      " [ -8.4 ]\n",
      " [ -7.53]\n",
      " [ -8.35]\n",
      " [ -8.5 ]\n",
      " [ -7.81]\n",
      " [ -8.76]\n",
      " [ -8.03]\n",
      " [ -7.69]\n",
      " [ -8.15]\n",
      " [ -7.99]\n",
      " [ -7.69]\n",
      " [ -7.76]\n",
      " [ -9.07]\n",
      " [ -7.91]\n",
      " [ -8.1 ]\n",
      " [ -8.42]\n",
      " [ -8.36]\n",
      " [ -7.33]\n",
      " [ -8.  ]\n",
      " [ -7.59]\n",
      " [ -8.15]\n",
      " [ -9.01]\n",
      " [ -8.36]\n",
      " [ -9.29]\n",
      " [ -8.63]\n",
      " [ -8.46]\n",
      " [ -8.28]\n",
      " [ -8.23]\n",
      " [ -8.65]\n",
      " [ -7.77]\n",
      " [ -7.15]\n",
      " [ -8.77]\n",
      " [ -7.56]\n",
      " [ -7.58]\n",
      " [ -6.92]\n",
      " [ -8.59]\n",
      " [ -8.29]\n",
      " [ -8.43]\n",
      " [ -9.01]\n",
      " [ -8.05]\n",
      " [ -7.65]\n",
      " [ -9.05]\n",
      " [ -8.19]\n",
      " [ -7.63]\n",
      " [ -7.6 ]\n",
      " [ -7.79]\n",
      " [ -8.81]\n",
      " [ -7.78]\n",
      " [ -8.51]\n",
      " [ -7.77]\n",
      " [ -7.89]\n",
      " [ -8.14]\n",
      " [ -7.94]\n",
      " [ -8.13]\n",
      " [ -7.83]\n",
      " [ -8.73]\n",
      " [ -8.25]\n",
      " [ -8.4 ]\n",
      " [ -7.34]\n",
      " [ -7.98]\n",
      " [ -8.13]\n",
      " [ -7.71]\n",
      " [ -7.65]\n",
      " [ -7.36]\n",
      " [ -7.92]\n",
      " [ -8.74]\n",
      " [ -7.62]\n",
      " [ -8.19]\n",
      " [ -8.54]\n",
      " [ -8.79]\n",
      " [ -7.87]\n",
      " [ -8.3 ]\n",
      " [ -7.94]\n",
      " [ -7.66]\n",
      " [ -7.51]\n",
      " [ -7.87]\n",
      " [ -7.15]\n",
      " [ -7.7 ]\n",
      " [ -7.4 ]\n",
      " [ -7.25]\n",
      " [ -8.47]\n",
      " [ -7.62]\n",
      " [ -7.21]\n",
      " [ -7.89]\n",
      " [ -8.06]\n",
      " [ -8.16]\n",
      " [ -8.87]\n",
      " [ -7.65]\n",
      " [ -8.53]\n",
      " [ -8.43]\n",
      " [ -8.45]\n",
      " [ -6.86]\n",
      " [ -7.65]\n",
      " [ -8.21]\n",
      " [ -7.83]\n",
      " [ -8.99]\n",
      " [ -7.96]\n",
      " [ -8.27]\n",
      " [ -8.37]\n",
      " [ -8.69]\n",
      " [ -7.29]\n",
      " [ -7.84]\n",
      " [ -8.03]\n",
      " [ -8.36]\n",
      " [ -8.28]\n",
      " [ -8.07]\n",
      " [ -7.48]\n",
      " [ -8.49]\n",
      " [ -7.53]\n",
      " [ -7.62]\n",
      " [ -8.22]\n",
      " [ -8.13]\n",
      " [ -7.57]\n",
      " [ -8.37]\n",
      " [ -7.61]\n",
      " [ -8.56]\n",
      " [ -8.08]\n",
      " [ -7.96]\n",
      " [ -8.11]\n",
      " [ -8.29]\n",
      " [ -8.03]\n",
      " [ -7.54]\n",
      " [ -8.12]\n",
      " [ -7.62]\n",
      " [ -8.62]\n",
      " [ -7.62]\n",
      " [ -8.05]\n",
      " [ -8.58]\n",
      " [ -7.52]\n",
      " [ -7.84]\n",
      " [ -7.45]\n",
      " [ -8.18]\n",
      " [ -8.84]\n",
      " [ -7.96]\n",
      " [ -8.42]\n",
      " [ -8.22]\n",
      " [ -7.4 ]\n",
      " [ -8.1 ]\n",
      " [ -7.43]\n",
      " [ -7.8 ]\n",
      " [ -7.53]\n",
      " [ -7.52]\n",
      " [ -8.36]\n",
      " [ -8.26]\n",
      " [ -7.7 ]\n",
      " [ -7.28]\n",
      " [ -6.91]\n",
      " [ -8.53]\n",
      " [ -7.77]\n",
      " [ -7.61]\n",
      " [ -6.92]\n",
      " [ -7.8 ]\n",
      " [ -7.48]\n",
      " [ -6.97]\n",
      " [ -8.63]\n",
      " [ -8.44]\n",
      " [ -7.96]\n",
      " [ -7.57]\n",
      " [ -7.99]\n",
      " [ -7.94]\n",
      " [ -9.03]\n",
      " [ -7.51]\n",
      " [ -7.1 ]\n",
      " [ -8.28]\n",
      " [ -7.44]\n",
      " [ -7.11]\n",
      " [ -7.88]\n",
      " [ -7.8 ]\n",
      " [ -7.61]\n",
      " [ -8.53]\n",
      " [ -8.3 ]\n",
      " [ -7.9 ]\n",
      " [ -7.5 ]\n",
      " [ -8.13]\n",
      " [ -7.76]\n",
      " [ -8.71]\n",
      " [ -6.95]\n",
      " [ -7.95]\n",
      " [ -7.75]\n",
      " [ -7.68]\n",
      " [ -8.21]\n",
      " [ -8.34]\n",
      " [ -7.8 ]\n",
      " [ -8.  ]\n",
      " [ -7.36]\n",
      " [ -8.59]\n",
      " [ -6.79]\n",
      " [ -7.63]\n",
      " [ -7.9 ]\n",
      " [ -8.15]\n",
      " [ -7.51]\n",
      " [ -7.84]\n",
      " [ -7.57]\n",
      " [ -7.68]\n",
      " [ -7.97]\n",
      " [ -7.09]\n",
      " [ -7.94]\n",
      " [ -8.22]\n",
      " [ -7.93]\n",
      " [ -7.93]\n",
      " [ -8.48]\n",
      " [ -7.34]\n",
      " [ -7.5 ]\n",
      " [ -8.84]\n",
      " [ -8.15]\n",
      " [ -7.85]\n",
      " [ -7.4 ]\n",
      " [ -8.23]\n",
      " [ -7.16]\n",
      " [ -7.91]\n",
      " [ -8.04]\n",
      " [ -8.31]\n",
      " [ -8.59]\n",
      " [ -7.96]\n",
      " [ -7.86]\n",
      " [ -7.99]\n",
      " [ -8.46]\n",
      " [ -7.73]\n",
      " [ -7.28]\n",
      " [ -7.97]\n",
      " [ -8.66]\n",
      " [ -7.96]\n",
      " [ -7.97]\n",
      " [ -8.4 ]\n",
      " [ -7.79]\n",
      " [ -7.68]\n",
      " [ -7.71]\n",
      " [ -7.55]\n",
      " [ -8.24]\n",
      " [ -8.1 ]\n",
      " [ -7.42]\n",
      " [ -7.66]\n",
      " [ -7.57]\n",
      " [ -8.45]\n",
      " [ -7.57]\n",
      " [ -7.45]\n",
      " [ -7.33]\n",
      " [ -8.98]\n",
      " [ -8.56]\n",
      " [ -7.47]\n",
      " [ -7.41]\n",
      " [ -8.19]\n",
      " [ -7.06]\n",
      " [ -7.73]\n",
      " [ -7.76]\n",
      " [ -7.18]\n",
      " [ -6.91]\n",
      " [ -7.36]\n",
      " [ -7.49]\n",
      " [ -7.63]\n",
      " [ -8.07]\n",
      " [ -8.46]\n",
      " [ -7.89]\n",
      " [ -7.54]\n",
      " [ -8.56]\n",
      " [ -7.74]\n",
      " [ -7.65]\n",
      " [ -7.23]\n",
      " [ -7.01]\n",
      " [ -8.14]\n",
      " [ -7.72]\n",
      " [ -7.62]\n",
      " [ -8.07]\n",
      " [ -7.39]\n",
      " [ -7.13]\n",
      " [ -7.68]\n",
      " [ -7.82]\n",
      " [ -7.6 ]\n",
      " [ -8.3 ]\n",
      " [ -8.22]\n",
      " [ -7.94]\n",
      " [ -7.85]\n",
      " [ -7.85]\n",
      " [ -7.61]\n",
      " [ -8.4 ]\n",
      " [ -9.06]\n",
      " [ -6.76]\n",
      " [ -7.74]\n",
      " [ -7.44]\n",
      " [ -7.89]\n",
      " [ -7.59]\n",
      " [ -7.91]\n",
      " [ -7.49]\n",
      " [ -7.65]\n",
      " [ -7.13]\n",
      " [ -7.3 ]\n",
      " [ -8.12]\n",
      " [ -8.3 ]\n",
      " [ -7.63]\n",
      " [ -7.74]\n",
      " [ -8.33]\n",
      " [ -7.15]\n",
      " [ -7.87]\n",
      " [ -8.24]\n",
      " [ -7.79]\n",
      " [ -8.34]\n",
      " [ -7.36]\n",
      " [ -8.75]\n",
      " [ -9.37]\n",
      " [ -8.06]\n",
      " [ -8.2 ]\n",
      " [ -7.79]\n",
      " [ -7.92]\n",
      " [ -8.  ]\n",
      " [ -7.9 ]\n",
      " [ -8.5 ]\n",
      " [ -7.45]\n",
      " [ -7.85]\n",
      " [ -7.43]\n",
      " [ -7.83]\n",
      " [ -7.82]\n",
      " [ -8.1 ]\n",
      " [ -7.15]\n",
      " [ -7.8 ]\n",
      " [ -7.94]\n",
      " [ -7.25]\n",
      " [ -7.76]\n",
      " [ -8.46]\n",
      " [ -7.51]\n",
      " [ -7.67]\n",
      " [ -7.96]\n",
      " [ -7.85]\n",
      " [ -8.16]\n",
      " [ -8.7 ]\n",
      " [ -7.46]\n",
      " [ -7.28]\n",
      " [ -7.79]\n",
      " [ -7.62]\n",
      " [ -7.92]\n",
      " [ -6.76]\n",
      " [ -8.14]\n",
      " [ -8.37]\n",
      " [ -6.87]\n",
      " [ -8.15]\n",
      " [ -8.  ]\n",
      " [ -7.39]\n",
      " [ -8.69]\n",
      " [ -7.72]\n",
      " [ -8.09]\n",
      " [ -7.82]\n",
      " [ -7.88]\n",
      " [ -6.57]\n",
      " [ -8.35]\n",
      " [ -7.48]\n",
      " [ -7.92]\n",
      " [ -7.42]\n",
      " [ -7.23]\n",
      " [ -7.8 ]\n",
      " [ -7.88]\n",
      " [ -7.23]\n",
      " [ -7.54]\n",
      " [ -7.34]\n",
      " [ -7.26]\n",
      " [ -7.62]\n",
      " [ -7.56]\n",
      " [ -7.75]\n",
      " [ -7.35]\n",
      " [ -7.5 ]\n",
      " [ -7.7 ]\n",
      " [ -7.82]\n",
      " [ -6.93]\n",
      " [ -6.77]\n",
      " [ -7.54]\n",
      " [ -7.77]\n",
      " [ -7.49]\n",
      " [ -7.94]\n",
      " [ -7.95]\n",
      " [ -7.6 ]\n",
      " [ -8.35]\n",
      " [ -7.11]\n",
      " [ -7.16]\n",
      " [ -7.63]\n",
      " [ -7.55]\n",
      " [ -7.84]\n",
      " [ -7.87]\n",
      " [ -7.89]\n",
      " [ -8.25]\n",
      " [ -7.73]\n",
      " [ -8.36]\n",
      " [ -7.26]]\n"
     ]
    }
   ],
   "source": [
    "num_trials = 100\n",
    "num_ep_per_trial = 1000\n",
    "\n",
    "rew = np.zeros((num_ep_per_trial,1))\n",
    "for i in tqdm(range(num_trials)):\n",
    "    a = REINFORCE_mc(shortGridWorld, num_episodes=num_ep_per_trial, alpha_t=2**(-12), y=1, max_ep_len=1000)    \n",
    "    a.mc()\n",
    "    rew += np.reshape(np.array(a.G), (num_ep_per_trial,1))\n",
    "    a.G = []\n",
    "    a.L = []\n",
    "    \n",
    "print(rew/num_trials)"
   ]
  },
  {
   "cell_type": "code",
   "execution_count": 35,
   "metadata": {},
   "outputs": [
    {
     "data": {
      "text/plain": [
       "array([[0.55244391],\n",
       "       [0.44755609]])"
      ]
     },
     "execution_count": 35,
     "metadata": {},
     "output_type": "execute_result"
    }
   ],
   "source": [
    "a.get_policy_distribution()"
   ]
  },
  {
   "cell_type": "code",
   "execution_count": 36,
   "metadata": {},
   "outputs": [
    {
     "data": {
      "text/plain": [
       "0"
      ]
     },
     "execution_count": 36,
     "metadata": {},
     "output_type": "execute_result"
    }
   ],
   "source": [
    "a.w"
   ]
  },
  {
   "cell_type": "code",
   "execution_count": 42,
   "metadata": {},
   "outputs": [
    {
     "data": {
      "application/vnd.jupyter.widget-view+json": {
       "model_id": "d0112cd0cd3544a680fccafa413a348f",
       "version_major": 2,
       "version_minor": 0
      },
      "text/plain": [
       "HBox(children=(IntProgress(value=0), HTML(value='')))"
      ]
     },
     "metadata": {},
     "output_type": "display_data"
    },
    {
     "data": {
      "application/vnd.jupyter.widget-view+json": {
       "model_id": "6b8fd48206094b08924ab32ede4723c0",
       "version_major": 2,
       "version_minor": 0
      },
      "text/plain": [
       "HBox(children=(IntProgress(value=0, max=1000), HTML(value='')))"
      ]
     },
     "metadata": {},
     "output_type": "display_data"
    },
    {
     "data": {
      "application/vnd.jupyter.widget-view+json": {
       "model_id": "2e1c8784a31a4a9b822fab76caab9fbe",
       "version_major": 2,
       "version_minor": 0
      },
      "text/plain": [
       "HBox(children=(IntProgress(value=0, max=1000), HTML(value='')))"
      ]
     },
     "metadata": {},
     "output_type": "display_data"
    },
    {
     "data": {
      "application/vnd.jupyter.widget-view+json": {
       "model_id": "422aac7246714ee49e7f0fd8feec0373",
       "version_major": 2,
       "version_minor": 0
      },
      "text/plain": [
       "HBox(children=(IntProgress(value=0, max=1000), HTML(value='')))"
      ]
     },
     "metadata": {},
     "output_type": "display_data"
    },
    {
     "data": {
      "application/vnd.jupyter.widget-view+json": {
       "model_id": "f2e5184f009e4acaa483f07ee41553ab",
       "version_major": 2,
       "version_minor": 0
      },
      "text/plain": [
       "HBox(children=(IntProgress(value=0, max=1000), HTML(value='')))"
      ]
     },
     "metadata": {},
     "output_type": "display_data"
    },
    {
     "data": {
      "application/vnd.jupyter.widget-view+json": {
       "model_id": "269a046c6d274c4792438753994d5bef",
       "version_major": 2,
       "version_minor": 0
      },
      "text/plain": [
       "HBox(children=(IntProgress(value=0, max=1000), HTML(value='')))"
      ]
     },
     "metadata": {},
     "output_type": "display_data"
    },
    {
     "data": {
      "application/vnd.jupyter.widget-view+json": {
       "model_id": "b8b8515934cd49059c0a08f20ed707fa",
       "version_major": 2,
       "version_minor": 0
      },
      "text/plain": [
       "HBox(children=(IntProgress(value=0, max=1000), HTML(value='')))"
      ]
     },
     "metadata": {},
     "output_type": "display_data"
    },
    {
     "data": {
      "application/vnd.jupyter.widget-view+json": {
       "model_id": "e080e851fcee4d1bb3988fe4bf641c34",
       "version_major": 2,
       "version_minor": 0
      },
      "text/plain": [
       "HBox(children=(IntProgress(value=0, max=1000), HTML(value='')))"
      ]
     },
     "metadata": {},
     "output_type": "display_data"
    },
    {
     "data": {
      "application/vnd.jupyter.widget-view+json": {
       "model_id": "c785f918c4684db9acd65a8cac05c76a",
       "version_major": 2,
       "version_minor": 0
      },
      "text/plain": [
       "HBox(children=(IntProgress(value=0, max=1000), HTML(value='')))"
      ]
     },
     "metadata": {},
     "output_type": "display_data"
    },
    {
     "data": {
      "application/vnd.jupyter.widget-view+json": {
       "model_id": "24e1d8e73fe24d9f8319046abe0b0186",
       "version_major": 2,
       "version_minor": 0
      },
      "text/plain": [
       "HBox(children=(IntProgress(value=0, max=1000), HTML(value='')))"
      ]
     },
     "metadata": {},
     "output_type": "display_data"
    },
    {
     "ename": "KeyboardInterrupt",
     "evalue": "",
     "output_type": "error",
     "traceback": [
      "\u001b[0;31m---------------------------------------------------------------------------\u001b[0m",
      "\u001b[0;31mKeyboardInterrupt\u001b[0m                         Traceback (most recent call last)",
      "\u001b[0;32m<ipython-input-42-b8c343f793a9>\u001b[0m in \u001b[0;36m<module>\u001b[0;34m\u001b[0m\n\u001b[1;32m      5\u001b[0m \u001b[0;32mfor\u001b[0m \u001b[0mi\u001b[0m \u001b[0;32min\u001b[0m \u001b[0mtqdm\u001b[0m\u001b[0;34m(\u001b[0m\u001b[0mrange\u001b[0m\u001b[0;34m(\u001b[0m\u001b[0mnum_trials\u001b[0m\u001b[0;34m)\u001b[0m\u001b[0;34m)\u001b[0m\u001b[0;34m:\u001b[0m\u001b[0;34m\u001b[0m\u001b[0;34m\u001b[0m\u001b[0m\n\u001b[1;32m      6\u001b[0m     \u001b[0ma\u001b[0m \u001b[0;34m=\u001b[0m \u001b[0mREINFORCE_mc\u001b[0m\u001b[0;34m(\u001b[0m\u001b[0mshortGridWorld\u001b[0m\u001b[0;34m,\u001b[0m \u001b[0mnum_episodes\u001b[0m\u001b[0;34m=\u001b[0m\u001b[0mnum_ep_per_trial\u001b[0m\u001b[0;34m,\u001b[0m \u001b[0malpha_t\u001b[0m\u001b[0;34m=\u001b[0m\u001b[0;36m2\u001b[0m\u001b[0;34m**\u001b[0m\u001b[0;34m(\u001b[0m\u001b[0;34m-\u001b[0m\u001b[0;36m12\u001b[0m\u001b[0;34m)\u001b[0m\u001b[0;34m,\u001b[0m \u001b[0malpha_w\u001b[0m \u001b[0;34m=\u001b[0m \u001b[0;36m0.0001\u001b[0m\u001b[0;34m,\u001b[0m \u001b[0my\u001b[0m\u001b[0;34m=\u001b[0m\u001b[0;36m1\u001b[0m\u001b[0;34m,\u001b[0m \u001b[0mmax_ep_len\u001b[0m\u001b[0;34m=\u001b[0m\u001b[0;36m1000\u001b[0m\u001b[0;34m)\u001b[0m\u001b[0;34m\u001b[0m\u001b[0;34m\u001b[0m\u001b[0m\n\u001b[0;32m----> 7\u001b[0;31m     \u001b[0ma\u001b[0m\u001b[0;34m.\u001b[0m\u001b[0mmc_with_baseline\u001b[0m\u001b[0;34m(\u001b[0m\u001b[0;34m)\u001b[0m\u001b[0;34m\u001b[0m\u001b[0;34m\u001b[0m\u001b[0m\n\u001b[0m\u001b[1;32m      8\u001b[0m     \u001b[0mrew2\u001b[0m \u001b[0;34m+=\u001b[0m \u001b[0mnp\u001b[0m\u001b[0;34m.\u001b[0m\u001b[0mreshape\u001b[0m\u001b[0;34m(\u001b[0m\u001b[0mnp\u001b[0m\u001b[0;34m.\u001b[0m\u001b[0marray\u001b[0m\u001b[0;34m(\u001b[0m\u001b[0ma\u001b[0m\u001b[0;34m.\u001b[0m\u001b[0mG\u001b[0m\u001b[0;34m)\u001b[0m\u001b[0;34m,\u001b[0m \u001b[0;34m(\u001b[0m\u001b[0mnum_ep_per_trial\u001b[0m\u001b[0;34m,\u001b[0m\u001b[0;36m1\u001b[0m\u001b[0;34m)\u001b[0m\u001b[0;34m)\u001b[0m\u001b[0;34m\u001b[0m\u001b[0;34m\u001b[0m\u001b[0m\n\u001b[1;32m      9\u001b[0m     \u001b[0ma\u001b[0m\u001b[0;34m.\u001b[0m\u001b[0mG\u001b[0m \u001b[0;34m=\u001b[0m \u001b[0;34m[\u001b[0m\u001b[0;34m]\u001b[0m\u001b[0;34m\u001b[0m\u001b[0;34m\u001b[0m\u001b[0m\n",
      "\u001b[0;32m<ipython-input-38-9e6e7eda3fcf>\u001b[0m in \u001b[0;36mmc_with_baseline\u001b[0;34m(self)\u001b[0m\n\u001b[1;32m     95\u001b[0m \u001b[0;34m\u001b[0m\u001b[0m\n\u001b[1;32m     96\u001b[0m         \u001b[0;32mfor\u001b[0m \u001b[0mi\u001b[0m \u001b[0;32min\u001b[0m \u001b[0mtqdm\u001b[0m\u001b[0;34m(\u001b[0m\u001b[0mrange\u001b[0m\u001b[0;34m(\u001b[0m\u001b[0mself\u001b[0m\u001b[0;34m.\u001b[0m\u001b[0mnum_episodes\u001b[0m\u001b[0;34m)\u001b[0m\u001b[0;34m)\u001b[0m\u001b[0;34m:\u001b[0m\u001b[0;34m\u001b[0m\u001b[0;34m\u001b[0m\u001b[0m\n\u001b[0;32m---> 97\u001b[0;31m             \u001b[0mG\u001b[0m \u001b[0;34m=\u001b[0m \u001b[0mself\u001b[0m\u001b[0;34m.\u001b[0m\u001b[0mgen_episode\u001b[0m\u001b[0;34m(\u001b[0m\u001b[0;36m0\u001b[0m\u001b[0;34m,\u001b[0m \u001b[0mself\u001b[0m\u001b[0;34m.\u001b[0m\u001b[0mmax_ep_len\u001b[0m\u001b[0;34m)\u001b[0m\u001b[0;34m\u001b[0m\u001b[0;34m\u001b[0m\u001b[0m\n\u001b[0m\u001b[1;32m     98\u001b[0m             \u001b[0msub\u001b[0m \u001b[0;34m=\u001b[0m \u001b[0;36m0\u001b[0m\u001b[0;34m\u001b[0m\u001b[0;34m\u001b[0m\u001b[0m\n\u001b[1;32m     99\u001b[0m             \u001b[0mI\u001b[0m \u001b[0;34m=\u001b[0m \u001b[0;36m1\u001b[0m\u001b[0;34m\u001b[0m\u001b[0;34m\u001b[0m\u001b[0m\n",
      "\u001b[0;32m<ipython-input-38-9e6e7eda3fcf>\u001b[0m in \u001b[0;36mgen_episode\u001b[0;34m(self, s0, max_len)\u001b[0m\n\u001b[1;32m     52\u001b[0m \u001b[0;34m\u001b[0m\u001b[0m\n\u001b[1;32m     53\u001b[0m         \u001b[0;32mwhile\u001b[0m \u001b[0;34m(\u001b[0m\u001b[0;32mnot\u001b[0m \u001b[0mproblem\u001b[0m\u001b[0;34m.\u001b[0m\u001b[0mis_terminal\u001b[0m\u001b[0;34m(\u001b[0m\u001b[0;34m)\u001b[0m\u001b[0;34m)\u001b[0m \u001b[0;32mand\u001b[0m \u001b[0mmax_len\u001b[0m \u001b[0;34m!=\u001b[0m \u001b[0;36m0\u001b[0m\u001b[0;34m:\u001b[0m\u001b[0;34m\u001b[0m\u001b[0;34m\u001b[0m\u001b[0m\n\u001b[0;32m---> 54\u001b[0;31m             \u001b[0maction\u001b[0m \u001b[0;34m=\u001b[0m \u001b[0mself\u001b[0m\u001b[0;34m.\u001b[0m\u001b[0mget_action\u001b[0m\u001b[0;34m(\u001b[0m\u001b[0;34m)\u001b[0m\u001b[0;34m\u001b[0m\u001b[0;34m\u001b[0m\u001b[0m\n\u001b[0m\u001b[1;32m     55\u001b[0m             \u001b[0mself\u001b[0m\u001b[0;34m.\u001b[0m\u001b[0ma\u001b[0m\u001b[0;34m.\u001b[0m\u001b[0mappend\u001b[0m\u001b[0;34m(\u001b[0m\u001b[0mnp\u001b[0m\u001b[0;34m.\u001b[0m\u001b[0margmax\u001b[0m\u001b[0;34m(\u001b[0m\u001b[0maction\u001b[0m\u001b[0;34m)\u001b[0m\u001b[0;34m)\u001b[0m\u001b[0;34m\u001b[0m\u001b[0;34m\u001b[0m\u001b[0m\n\u001b[1;32m     56\u001b[0m \u001b[0;34m\u001b[0m\u001b[0m\n",
      "\u001b[0;32m<ipython-input-38-9e6e7eda3fcf>\u001b[0m in \u001b[0;36mget_action\u001b[0;34m(self)\u001b[0m\n\u001b[1;32m     33\u001b[0m \u001b[0;34m\u001b[0m\u001b[0m\n\u001b[1;32m     34\u001b[0m         \u001b[0;31m# maybe a separate functon to get the feature vector of action\u001b[0m\u001b[0;34m\u001b[0m\u001b[0;34m\u001b[0m\u001b[0;34m\u001b[0m\u001b[0m\n\u001b[0;32m---> 35\u001b[0;31m         \u001b[0maction\u001b[0m\u001b[0;34m[\u001b[0m\u001b[0mself\u001b[0m\u001b[0;34m.\u001b[0m\u001b[0msample_from_distribution\u001b[0m\u001b[0;34m(\u001b[0m\u001b[0mself\u001b[0m\u001b[0;34m.\u001b[0m\u001b[0mget_policy_distribution\u001b[0m\u001b[0;34m(\u001b[0m\u001b[0;34m)\u001b[0m\u001b[0;34m)\u001b[0m\u001b[0;34m]\u001b[0m \u001b[0;34m=\u001b[0m \u001b[0;36m1\u001b[0m\u001b[0;34m\u001b[0m\u001b[0;34m\u001b[0m\u001b[0m\n\u001b[0m\u001b[1;32m     36\u001b[0m         \u001b[0;32mreturn\u001b[0m \u001b[0maction\u001b[0m\u001b[0;34m\u001b[0m\u001b[0;34m\u001b[0m\u001b[0m\n\u001b[1;32m     37\u001b[0m \u001b[0;34m\u001b[0m\u001b[0m\n",
      "\u001b[0;32m<ipython-input-38-9e6e7eda3fcf>\u001b[0m in \u001b[0;36msample_from_distribution\u001b[0;34m(self, P)\u001b[0m\n\u001b[1;32m     22\u001b[0m \u001b[0;34m\u001b[0m\u001b[0m\n\u001b[1;32m     23\u001b[0m     \u001b[0;32mdef\u001b[0m \u001b[0msample_from_distribution\u001b[0m\u001b[0;34m(\u001b[0m\u001b[0mself\u001b[0m\u001b[0;34m,\u001b[0m \u001b[0mP\u001b[0m\u001b[0;34m)\u001b[0m\u001b[0;34m:\u001b[0m\u001b[0;34m\u001b[0m\u001b[0;34m\u001b[0m\u001b[0m\n\u001b[0;32m---> 24\u001b[0;31m         \u001b[0mCP\u001b[0m \u001b[0;34m=\u001b[0m \u001b[0mnp\u001b[0m\u001b[0;34m.\u001b[0m\u001b[0mcumsum\u001b[0m\u001b[0;34m(\u001b[0m\u001b[0mP\u001b[0m\u001b[0;34m)\u001b[0m\u001b[0;34m\u001b[0m\u001b[0;34m\u001b[0m\u001b[0m\n\u001b[0m\u001b[1;32m     25\u001b[0m         \u001b[0mrn\u001b[0m \u001b[0;34m=\u001b[0m \u001b[0mnp\u001b[0m\u001b[0;34m.\u001b[0m\u001b[0mrandom\u001b[0m\u001b[0;34m.\u001b[0m\u001b[0muniform\u001b[0m\u001b[0;34m(\u001b[0m\u001b[0;34m)\u001b[0m\u001b[0;34m\u001b[0m\u001b[0;34m\u001b[0m\u001b[0m\n\u001b[1;32m     26\u001b[0m \u001b[0;34m\u001b[0m\u001b[0m\n",
      "\u001b[0;31mKeyboardInterrupt\u001b[0m: "
     ]
    }
   ],
   "source": [
    "# num_trials = 100\n",
    "# num_ep_per_trial = 1000\n",
    "\n",
    "rew2 = np.zeros((num_ep_per_trial,1))\n",
    "for i in tqdm(range(num_trials)):\n",
    "    a = REINFORCE_mc(shortGridWorld, num_episodes=num_ep_per_trial, alpha_t=2**(-12), alpha_w = 0.0001, y=1, max_ep_len=1000)    \n",
    "    a.mc_with_baseline()\n",
    "    rew2 += np.reshape(np.array(a.G), (num_ep_per_trial,1))\n",
    "    a.G = []\n",
    "    a.L = []\n",
    "    \n",
    "print(rew2/num_trials)"
   ]
  },
  {
   "cell_type": "code",
   "execution_count": 43,
   "metadata": {},
   "outputs": [
    {
     "data": {
      "application/javascript": [
       "/* Put everything inside the global mpl namespace */\n",
       "window.mpl = {};\n",
       "\n",
       "\n",
       "mpl.get_websocket_type = function() {\n",
       "    if (typeof(WebSocket) !== 'undefined') {\n",
       "        return WebSocket;\n",
       "    } else if (typeof(MozWebSocket) !== 'undefined') {\n",
       "        return MozWebSocket;\n",
       "    } else {\n",
       "        alert('Your browser does not have WebSocket support. ' +\n",
       "              'Please try Chrome, Safari or Firefox ≥ 6. ' +\n",
       "              'Firefox 4 and 5 are also supported but you ' +\n",
       "              'have to enable WebSockets in about:config.');\n",
       "    };\n",
       "}\n",
       "\n",
       "mpl.figure = function(figure_id, websocket, ondownload, parent_element) {\n",
       "    this.id = figure_id;\n",
       "\n",
       "    this.ws = websocket;\n",
       "\n",
       "    this.supports_binary = (this.ws.binaryType != undefined);\n",
       "\n",
       "    if (!this.supports_binary) {\n",
       "        var warnings = document.getElementById(\"mpl-warnings\");\n",
       "        if (warnings) {\n",
       "            warnings.style.display = 'block';\n",
       "            warnings.textContent = (\n",
       "                \"This browser does not support binary websocket messages. \" +\n",
       "                    \"Performance may be slow.\");\n",
       "        }\n",
       "    }\n",
       "\n",
       "    this.imageObj = new Image();\n",
       "\n",
       "    this.context = undefined;\n",
       "    this.message = undefined;\n",
       "    this.canvas = undefined;\n",
       "    this.rubberband_canvas = undefined;\n",
       "    this.rubberband_context = undefined;\n",
       "    this.format_dropdown = undefined;\n",
       "\n",
       "    this.image_mode = 'full';\n",
       "\n",
       "    this.root = $('<div/>');\n",
       "    this._root_extra_style(this.root)\n",
       "    this.root.attr('style', 'display: inline-block');\n",
       "\n",
       "    $(parent_element).append(this.root);\n",
       "\n",
       "    this._init_header(this);\n",
       "    this._init_canvas(this);\n",
       "    this._init_toolbar(this);\n",
       "\n",
       "    var fig = this;\n",
       "\n",
       "    this.waiting = false;\n",
       "\n",
       "    this.ws.onopen =  function () {\n",
       "            fig.send_message(\"supports_binary\", {value: fig.supports_binary});\n",
       "            fig.send_message(\"send_image_mode\", {});\n",
       "            if (mpl.ratio != 1) {\n",
       "                fig.send_message(\"set_dpi_ratio\", {'dpi_ratio': mpl.ratio});\n",
       "            }\n",
       "            fig.send_message(\"refresh\", {});\n",
       "        }\n",
       "\n",
       "    this.imageObj.onload = function() {\n",
       "            if (fig.image_mode == 'full') {\n",
       "                // Full images could contain transparency (where diff images\n",
       "                // almost always do), so we need to clear the canvas so that\n",
       "                // there is no ghosting.\n",
       "                fig.context.clearRect(0, 0, fig.canvas.width, fig.canvas.height);\n",
       "            }\n",
       "            fig.context.drawImage(fig.imageObj, 0, 0);\n",
       "        };\n",
       "\n",
       "    this.imageObj.onunload = function() {\n",
       "        fig.ws.close();\n",
       "    }\n",
       "\n",
       "    this.ws.onmessage = this._make_on_message_function(this);\n",
       "\n",
       "    this.ondownload = ondownload;\n",
       "}\n",
       "\n",
       "mpl.figure.prototype._init_header = function() {\n",
       "    var titlebar = $(\n",
       "        '<div class=\"ui-dialog-titlebar ui-widget-header ui-corner-all ' +\n",
       "        'ui-helper-clearfix\"/>');\n",
       "    var titletext = $(\n",
       "        '<div class=\"ui-dialog-title\" style=\"width: 100%; ' +\n",
       "        'text-align: center; padding: 3px;\"/>');\n",
       "    titlebar.append(titletext)\n",
       "    this.root.append(titlebar);\n",
       "    this.header = titletext[0];\n",
       "}\n",
       "\n",
       "\n",
       "\n",
       "mpl.figure.prototype._canvas_extra_style = function(canvas_div) {\n",
       "\n",
       "}\n",
       "\n",
       "\n",
       "mpl.figure.prototype._root_extra_style = function(canvas_div) {\n",
       "\n",
       "}\n",
       "\n",
       "mpl.figure.prototype._init_canvas = function() {\n",
       "    var fig = this;\n",
       "\n",
       "    var canvas_div = $('<div/>');\n",
       "\n",
       "    canvas_div.attr('style', 'position: relative; clear: both; outline: 0');\n",
       "\n",
       "    function canvas_keyboard_event(event) {\n",
       "        return fig.key_event(event, event['data']);\n",
       "    }\n",
       "\n",
       "    canvas_div.keydown('key_press', canvas_keyboard_event);\n",
       "    canvas_div.keyup('key_release', canvas_keyboard_event);\n",
       "    this.canvas_div = canvas_div\n",
       "    this._canvas_extra_style(canvas_div)\n",
       "    this.root.append(canvas_div);\n",
       "\n",
       "    var canvas = $('<canvas/>');\n",
       "    canvas.addClass('mpl-canvas');\n",
       "    canvas.attr('style', \"left: 0; top: 0; z-index: 0; outline: 0\")\n",
       "\n",
       "    this.canvas = canvas[0];\n",
       "    this.context = canvas[0].getContext(\"2d\");\n",
       "\n",
       "    var backingStore = this.context.backingStorePixelRatio ||\n",
       "\tthis.context.webkitBackingStorePixelRatio ||\n",
       "\tthis.context.mozBackingStorePixelRatio ||\n",
       "\tthis.context.msBackingStorePixelRatio ||\n",
       "\tthis.context.oBackingStorePixelRatio ||\n",
       "\tthis.context.backingStorePixelRatio || 1;\n",
       "\n",
       "    mpl.ratio = (window.devicePixelRatio || 1) / backingStore;\n",
       "\n",
       "    var rubberband = $('<canvas/>');\n",
       "    rubberband.attr('style', \"position: absolute; left: 0; top: 0; z-index: 1;\")\n",
       "\n",
       "    var pass_mouse_events = true;\n",
       "\n",
       "    canvas_div.resizable({\n",
       "        start: function(event, ui) {\n",
       "            pass_mouse_events = false;\n",
       "        },\n",
       "        resize: function(event, ui) {\n",
       "            fig.request_resize(ui.size.width, ui.size.height);\n",
       "        },\n",
       "        stop: function(event, ui) {\n",
       "            pass_mouse_events = true;\n",
       "            fig.request_resize(ui.size.width, ui.size.height);\n",
       "        },\n",
       "    });\n",
       "\n",
       "    function mouse_event_fn(event) {\n",
       "        if (pass_mouse_events)\n",
       "            return fig.mouse_event(event, event['data']);\n",
       "    }\n",
       "\n",
       "    rubberband.mousedown('button_press', mouse_event_fn);\n",
       "    rubberband.mouseup('button_release', mouse_event_fn);\n",
       "    // Throttle sequential mouse events to 1 every 20ms.\n",
       "    rubberband.mousemove('motion_notify', mouse_event_fn);\n",
       "\n",
       "    rubberband.mouseenter('figure_enter', mouse_event_fn);\n",
       "    rubberband.mouseleave('figure_leave', mouse_event_fn);\n",
       "\n",
       "    canvas_div.on(\"wheel\", function (event) {\n",
       "        event = event.originalEvent;\n",
       "        event['data'] = 'scroll'\n",
       "        if (event.deltaY < 0) {\n",
       "            event.step = 1;\n",
       "        } else {\n",
       "            event.step = -1;\n",
       "        }\n",
       "        mouse_event_fn(event);\n",
       "    });\n",
       "\n",
       "    canvas_div.append(canvas);\n",
       "    canvas_div.append(rubberband);\n",
       "\n",
       "    this.rubberband = rubberband;\n",
       "    this.rubberband_canvas = rubberband[0];\n",
       "    this.rubberband_context = rubberband[0].getContext(\"2d\");\n",
       "    this.rubberband_context.strokeStyle = \"#000000\";\n",
       "\n",
       "    this._resize_canvas = function(width, height) {\n",
       "        // Keep the size of the canvas, canvas container, and rubber band\n",
       "        // canvas in synch.\n",
       "        canvas_div.css('width', width)\n",
       "        canvas_div.css('height', height)\n",
       "\n",
       "        canvas.attr('width', width * mpl.ratio);\n",
       "        canvas.attr('height', height * mpl.ratio);\n",
       "        canvas.attr('style', 'width: ' + width + 'px; height: ' + height + 'px;');\n",
       "\n",
       "        rubberband.attr('width', width);\n",
       "        rubberband.attr('height', height);\n",
       "    }\n",
       "\n",
       "    // Set the figure to an initial 600x600px, this will subsequently be updated\n",
       "    // upon first draw.\n",
       "    this._resize_canvas(600, 600);\n",
       "\n",
       "    // Disable right mouse context menu.\n",
       "    $(this.rubberband_canvas).bind(\"contextmenu\",function(e){\n",
       "        return false;\n",
       "    });\n",
       "\n",
       "    function set_focus () {\n",
       "        canvas.focus();\n",
       "        canvas_div.focus();\n",
       "    }\n",
       "\n",
       "    window.setTimeout(set_focus, 100);\n",
       "}\n",
       "\n",
       "mpl.figure.prototype._init_toolbar = function() {\n",
       "    var fig = this;\n",
       "\n",
       "    var nav_element = $('<div/>');\n",
       "    nav_element.attr('style', 'width: 100%');\n",
       "    this.root.append(nav_element);\n",
       "\n",
       "    // Define a callback function for later on.\n",
       "    function toolbar_event(event) {\n",
       "        return fig.toolbar_button_onclick(event['data']);\n",
       "    }\n",
       "    function toolbar_mouse_event(event) {\n",
       "        return fig.toolbar_button_onmouseover(event['data']);\n",
       "    }\n",
       "\n",
       "    for(var toolbar_ind in mpl.toolbar_items) {\n",
       "        var name = mpl.toolbar_items[toolbar_ind][0];\n",
       "        var tooltip = mpl.toolbar_items[toolbar_ind][1];\n",
       "        var image = mpl.toolbar_items[toolbar_ind][2];\n",
       "        var method_name = mpl.toolbar_items[toolbar_ind][3];\n",
       "\n",
       "        if (!name) {\n",
       "            // put a spacer in here.\n",
       "            continue;\n",
       "        }\n",
       "        var button = $('<button/>');\n",
       "        button.addClass('ui-button ui-widget ui-state-default ui-corner-all ' +\n",
       "                        'ui-button-icon-only');\n",
       "        button.attr('role', 'button');\n",
       "        button.attr('aria-disabled', 'false');\n",
       "        button.click(method_name, toolbar_event);\n",
       "        button.mouseover(tooltip, toolbar_mouse_event);\n",
       "\n",
       "        var icon_img = $('<span/>');\n",
       "        icon_img.addClass('ui-button-icon-primary ui-icon');\n",
       "        icon_img.addClass(image);\n",
       "        icon_img.addClass('ui-corner-all');\n",
       "\n",
       "        var tooltip_span = $('<span/>');\n",
       "        tooltip_span.addClass('ui-button-text');\n",
       "        tooltip_span.html(tooltip);\n",
       "\n",
       "        button.append(icon_img);\n",
       "        button.append(tooltip_span);\n",
       "\n",
       "        nav_element.append(button);\n",
       "    }\n",
       "\n",
       "    var fmt_picker_span = $('<span/>');\n",
       "\n",
       "    var fmt_picker = $('<select/>');\n",
       "    fmt_picker.addClass('mpl-toolbar-option ui-widget ui-widget-content');\n",
       "    fmt_picker_span.append(fmt_picker);\n",
       "    nav_element.append(fmt_picker_span);\n",
       "    this.format_dropdown = fmt_picker[0];\n",
       "\n",
       "    for (var ind in mpl.extensions) {\n",
       "        var fmt = mpl.extensions[ind];\n",
       "        var option = $(\n",
       "            '<option/>', {selected: fmt === mpl.default_extension}).html(fmt);\n",
       "        fmt_picker.append(option);\n",
       "    }\n",
       "\n",
       "    // Add hover states to the ui-buttons\n",
       "    $( \".ui-button\" ).hover(\n",
       "        function() { $(this).addClass(\"ui-state-hover\");},\n",
       "        function() { $(this).removeClass(\"ui-state-hover\");}\n",
       "    );\n",
       "\n",
       "    var status_bar = $('<span class=\"mpl-message\"/>');\n",
       "    nav_element.append(status_bar);\n",
       "    this.message = status_bar[0];\n",
       "}\n",
       "\n",
       "mpl.figure.prototype.request_resize = function(x_pixels, y_pixels) {\n",
       "    // Request matplotlib to resize the figure. Matplotlib will then trigger a resize in the client,\n",
       "    // which will in turn request a refresh of the image.\n",
       "    this.send_message('resize', {'width': x_pixels, 'height': y_pixels});\n",
       "}\n",
       "\n",
       "mpl.figure.prototype.send_message = function(type, properties) {\n",
       "    properties['type'] = type;\n",
       "    properties['figure_id'] = this.id;\n",
       "    this.ws.send(JSON.stringify(properties));\n",
       "}\n",
       "\n",
       "mpl.figure.prototype.send_draw_message = function() {\n",
       "    if (!this.waiting) {\n",
       "        this.waiting = true;\n",
       "        this.ws.send(JSON.stringify({type: \"draw\", figure_id: this.id}));\n",
       "    }\n",
       "}\n",
       "\n",
       "\n",
       "mpl.figure.prototype.handle_save = function(fig, msg) {\n",
       "    var format_dropdown = fig.format_dropdown;\n",
       "    var format = format_dropdown.options[format_dropdown.selectedIndex].value;\n",
       "    fig.ondownload(fig, format);\n",
       "}\n",
       "\n",
       "\n",
       "mpl.figure.prototype.handle_resize = function(fig, msg) {\n",
       "    var size = msg['size'];\n",
       "    if (size[0] != fig.canvas.width || size[1] != fig.canvas.height) {\n",
       "        fig._resize_canvas(size[0], size[1]);\n",
       "        fig.send_message(\"refresh\", {});\n",
       "    };\n",
       "}\n",
       "\n",
       "mpl.figure.prototype.handle_rubberband = function(fig, msg) {\n",
       "    var x0 = msg['x0'] / mpl.ratio;\n",
       "    var y0 = (fig.canvas.height - msg['y0']) / mpl.ratio;\n",
       "    var x1 = msg['x1'] / mpl.ratio;\n",
       "    var y1 = (fig.canvas.height - msg['y1']) / mpl.ratio;\n",
       "    x0 = Math.floor(x0) + 0.5;\n",
       "    y0 = Math.floor(y0) + 0.5;\n",
       "    x1 = Math.floor(x1) + 0.5;\n",
       "    y1 = Math.floor(y1) + 0.5;\n",
       "    var min_x = Math.min(x0, x1);\n",
       "    var min_y = Math.min(y0, y1);\n",
       "    var width = Math.abs(x1 - x0);\n",
       "    var height = Math.abs(y1 - y0);\n",
       "\n",
       "    fig.rubberband_context.clearRect(\n",
       "        0, 0, fig.canvas.width, fig.canvas.height);\n",
       "\n",
       "    fig.rubberband_context.strokeRect(min_x, min_y, width, height);\n",
       "}\n",
       "\n",
       "mpl.figure.prototype.handle_figure_label = function(fig, msg) {\n",
       "    // Updates the figure title.\n",
       "    fig.header.textContent = msg['label'];\n",
       "}\n",
       "\n",
       "mpl.figure.prototype.handle_cursor = function(fig, msg) {\n",
       "    var cursor = msg['cursor'];\n",
       "    switch(cursor)\n",
       "    {\n",
       "    case 0:\n",
       "        cursor = 'pointer';\n",
       "        break;\n",
       "    case 1:\n",
       "        cursor = 'default';\n",
       "        break;\n",
       "    case 2:\n",
       "        cursor = 'crosshair';\n",
       "        break;\n",
       "    case 3:\n",
       "        cursor = 'move';\n",
       "        break;\n",
       "    }\n",
       "    fig.rubberband_canvas.style.cursor = cursor;\n",
       "}\n",
       "\n",
       "mpl.figure.prototype.handle_message = function(fig, msg) {\n",
       "    fig.message.textContent = msg['message'];\n",
       "}\n",
       "\n",
       "mpl.figure.prototype.handle_draw = function(fig, msg) {\n",
       "    // Request the server to send over a new figure.\n",
       "    fig.send_draw_message();\n",
       "}\n",
       "\n",
       "mpl.figure.prototype.handle_image_mode = function(fig, msg) {\n",
       "    fig.image_mode = msg['mode'];\n",
       "}\n",
       "\n",
       "mpl.figure.prototype.updated_canvas_event = function() {\n",
       "    // Called whenever the canvas gets updated.\n",
       "    this.send_message(\"ack\", {});\n",
       "}\n",
       "\n",
       "// A function to construct a web socket function for onmessage handling.\n",
       "// Called in the figure constructor.\n",
       "mpl.figure.prototype._make_on_message_function = function(fig) {\n",
       "    return function socket_on_message(evt) {\n",
       "        if (evt.data instanceof Blob) {\n",
       "            /* FIXME: We get \"Resource interpreted as Image but\n",
       "             * transferred with MIME type text/plain:\" errors on\n",
       "             * Chrome.  But how to set the MIME type?  It doesn't seem\n",
       "             * to be part of the websocket stream */\n",
       "            evt.data.type = \"image/png\";\n",
       "\n",
       "            /* Free the memory for the previous frames */\n",
       "            if (fig.imageObj.src) {\n",
       "                (window.URL || window.webkitURL).revokeObjectURL(\n",
       "                    fig.imageObj.src);\n",
       "            }\n",
       "\n",
       "            fig.imageObj.src = (window.URL || window.webkitURL).createObjectURL(\n",
       "                evt.data);\n",
       "            fig.updated_canvas_event();\n",
       "            fig.waiting = false;\n",
       "            return;\n",
       "        }\n",
       "        else if (typeof evt.data === 'string' && evt.data.slice(0, 21) == \"data:image/png;base64\") {\n",
       "            fig.imageObj.src = evt.data;\n",
       "            fig.updated_canvas_event();\n",
       "            fig.waiting = false;\n",
       "            return;\n",
       "        }\n",
       "\n",
       "        var msg = JSON.parse(evt.data);\n",
       "        var msg_type = msg['type'];\n",
       "\n",
       "        // Call the  \"handle_{type}\" callback, which takes\n",
       "        // the figure and JSON message as its only arguments.\n",
       "        try {\n",
       "            var callback = fig[\"handle_\" + msg_type];\n",
       "        } catch (e) {\n",
       "            console.log(\"No handler for the '\" + msg_type + \"' message type: \", msg);\n",
       "            return;\n",
       "        }\n",
       "\n",
       "        if (callback) {\n",
       "            try {\n",
       "                // console.log(\"Handling '\" + msg_type + \"' message: \", msg);\n",
       "                callback(fig, msg);\n",
       "            } catch (e) {\n",
       "                console.log(\"Exception inside the 'handler_\" + msg_type + \"' callback:\", e, e.stack, msg);\n",
       "            }\n",
       "        }\n",
       "    };\n",
       "}\n",
       "\n",
       "// from http://stackoverflow.com/questions/1114465/getting-mouse-location-in-canvas\n",
       "mpl.findpos = function(e) {\n",
       "    //this section is from http://www.quirksmode.org/js/events_properties.html\n",
       "    var targ;\n",
       "    if (!e)\n",
       "        e = window.event;\n",
       "    if (e.target)\n",
       "        targ = e.target;\n",
       "    else if (e.srcElement)\n",
       "        targ = e.srcElement;\n",
       "    if (targ.nodeType == 3) // defeat Safari bug\n",
       "        targ = targ.parentNode;\n",
       "\n",
       "    // jQuery normalizes the pageX and pageY\n",
       "    // pageX,Y are the mouse positions relative to the document\n",
       "    // offset() returns the position of the element relative to the document\n",
       "    var x = e.pageX - $(targ).offset().left;\n",
       "    var y = e.pageY - $(targ).offset().top;\n",
       "\n",
       "    return {\"x\": x, \"y\": y};\n",
       "};\n",
       "\n",
       "/*\n",
       " * return a copy of an object with only non-object keys\n",
       " * we need this to avoid circular references\n",
       " * http://stackoverflow.com/a/24161582/3208463\n",
       " */\n",
       "function simpleKeys (original) {\n",
       "  return Object.keys(original).reduce(function (obj, key) {\n",
       "    if (typeof original[key] !== 'object')\n",
       "        obj[key] = original[key]\n",
       "    return obj;\n",
       "  }, {});\n",
       "}\n",
       "\n",
       "mpl.figure.prototype.mouse_event = function(event, name) {\n",
       "    var canvas_pos = mpl.findpos(event)\n",
       "\n",
       "    if (name === 'button_press')\n",
       "    {\n",
       "        this.canvas.focus();\n",
       "        this.canvas_div.focus();\n",
       "    }\n",
       "\n",
       "    var x = canvas_pos.x * mpl.ratio;\n",
       "    var y = canvas_pos.y * mpl.ratio;\n",
       "\n",
       "    this.send_message(name, {x: x, y: y, button: event.button,\n",
       "                             step: event.step,\n",
       "                             guiEvent: simpleKeys(event)});\n",
       "\n",
       "    /* This prevents the web browser from automatically changing to\n",
       "     * the text insertion cursor when the button is pressed.  We want\n",
       "     * to control all of the cursor setting manually through the\n",
       "     * 'cursor' event from matplotlib */\n",
       "    event.preventDefault();\n",
       "    return false;\n",
       "}\n",
       "\n",
       "mpl.figure.prototype._key_event_extra = function(event, name) {\n",
       "    // Handle any extra behaviour associated with a key event\n",
       "}\n",
       "\n",
       "mpl.figure.prototype.key_event = function(event, name) {\n",
       "\n",
       "    // Prevent repeat events\n",
       "    if (name == 'key_press')\n",
       "    {\n",
       "        if (event.which === this._key)\n",
       "            return;\n",
       "        else\n",
       "            this._key = event.which;\n",
       "    }\n",
       "    if (name == 'key_release')\n",
       "        this._key = null;\n",
       "\n",
       "    var value = '';\n",
       "    if (event.ctrlKey && event.which != 17)\n",
       "        value += \"ctrl+\";\n",
       "    if (event.altKey && event.which != 18)\n",
       "        value += \"alt+\";\n",
       "    if (event.shiftKey && event.which != 16)\n",
       "        value += \"shift+\";\n",
       "\n",
       "    value += 'k';\n",
       "    value += event.which.toString();\n",
       "\n",
       "    this._key_event_extra(event, name);\n",
       "\n",
       "    this.send_message(name, {key: value,\n",
       "                             guiEvent: simpleKeys(event)});\n",
       "    return false;\n",
       "}\n",
       "\n",
       "mpl.figure.prototype.toolbar_button_onclick = function(name) {\n",
       "    if (name == 'download') {\n",
       "        this.handle_save(this, null);\n",
       "    } else {\n",
       "        this.send_message(\"toolbar_button\", {name: name});\n",
       "    }\n",
       "};\n",
       "\n",
       "mpl.figure.prototype.toolbar_button_onmouseover = function(tooltip) {\n",
       "    this.message.textContent = tooltip;\n",
       "};\n",
       "mpl.toolbar_items = [[\"Home\", \"Reset original view\", \"fa fa-home icon-home\", \"home\"], [\"Back\", \"Back to previous view\", \"fa fa-arrow-left icon-arrow-left\", \"back\"], [\"Forward\", \"Forward to next view\", \"fa fa-arrow-right icon-arrow-right\", \"forward\"], [\"\", \"\", \"\", \"\"], [\"Pan\", \"Pan axes with left mouse, zoom with right\", \"fa fa-arrows icon-move\", \"pan\"], [\"Zoom\", \"Zoom to rectangle\", \"fa fa-square-o icon-check-empty\", \"zoom\"], [\"\", \"\", \"\", \"\"], [\"Download\", \"Download plot\", \"fa fa-floppy-o icon-save\", \"download\"]];\n",
       "\n",
       "mpl.extensions = [\"eps\", \"pdf\", \"png\", \"ps\", \"raw\", \"svg\"];\n",
       "\n",
       "mpl.default_extension = \"png\";var comm_websocket_adapter = function(comm) {\n",
       "    // Create a \"websocket\"-like object which calls the given IPython comm\n",
       "    // object with the appropriate methods. Currently this is a non binary\n",
       "    // socket, so there is still some room for performance tuning.\n",
       "    var ws = {};\n",
       "\n",
       "    ws.close = function() {\n",
       "        comm.close()\n",
       "    };\n",
       "    ws.send = function(m) {\n",
       "        //console.log('sending', m);\n",
       "        comm.send(m);\n",
       "    };\n",
       "    // Register the callback with on_msg.\n",
       "    comm.on_msg(function(msg) {\n",
       "        //console.log('receiving', msg['content']['data'], msg);\n",
       "        // Pass the mpl event to the overridden (by mpl) onmessage function.\n",
       "        ws.onmessage(msg['content']['data'])\n",
       "    });\n",
       "    return ws;\n",
       "}\n",
       "\n",
       "mpl.mpl_figure_comm = function(comm, msg) {\n",
       "    // This is the function which gets called when the mpl process\n",
       "    // starts-up an IPython Comm through the \"matplotlib\" channel.\n",
       "\n",
       "    var id = msg.content.data.id;\n",
       "    // Get hold of the div created by the display call when the Comm\n",
       "    // socket was opened in Python.\n",
       "    var element = $(\"#\" + id);\n",
       "    var ws_proxy = comm_websocket_adapter(comm)\n",
       "\n",
       "    function ondownload(figure, format) {\n",
       "        window.open(figure.imageObj.src);\n",
       "    }\n",
       "\n",
       "    var fig = new mpl.figure(id, ws_proxy,\n",
       "                           ondownload,\n",
       "                           element.get(0));\n",
       "\n",
       "    // Call onopen now - mpl needs it, as it is assuming we've passed it a real\n",
       "    // web socket which is closed, not our websocket->open comm proxy.\n",
       "    ws_proxy.onopen();\n",
       "\n",
       "    fig.parent_element = element.get(0);\n",
       "    fig.cell_info = mpl.find_output_cell(\"<div id='\" + id + \"'></div>\");\n",
       "    if (!fig.cell_info) {\n",
       "        console.error(\"Failed to find cell for figure\", id, fig);\n",
       "        return;\n",
       "    }\n",
       "\n",
       "    var output_index = fig.cell_info[2]\n",
       "    var cell = fig.cell_info[0];\n",
       "\n",
       "};\n",
       "\n",
       "mpl.figure.prototype.handle_close = function(fig, msg) {\n",
       "    var width = fig.canvas.width/mpl.ratio\n",
       "    fig.root.unbind('remove')\n",
       "\n",
       "    // Update the output cell to use the data from the current canvas.\n",
       "    fig.push_to_output();\n",
       "    var dataURL = fig.canvas.toDataURL();\n",
       "    // Re-enable the keyboard manager in IPython - without this line, in FF,\n",
       "    // the notebook keyboard shortcuts fail.\n",
       "    IPython.keyboard_manager.enable()\n",
       "    $(fig.parent_element).html('<img src=\"' + dataURL + '\" width=\"' + width + '\">');\n",
       "    fig.close_ws(fig, msg);\n",
       "}\n",
       "\n",
       "mpl.figure.prototype.close_ws = function(fig, msg){\n",
       "    fig.send_message('closing', msg);\n",
       "    // fig.ws.close()\n",
       "}\n",
       "\n",
       "mpl.figure.prototype.push_to_output = function(remove_interactive) {\n",
       "    // Turn the data on the canvas into data in the output cell.\n",
       "    var width = this.canvas.width/mpl.ratio\n",
       "    var dataURL = this.canvas.toDataURL();\n",
       "    this.cell_info[1]['text/html'] = '<img src=\"' + dataURL + '\" width=\"' + width + '\">';\n",
       "}\n",
       "\n",
       "mpl.figure.prototype.updated_canvas_event = function() {\n",
       "    // Tell IPython that the notebook contents must change.\n",
       "    IPython.notebook.set_dirty(true);\n",
       "    this.send_message(\"ack\", {});\n",
       "    var fig = this;\n",
       "    // Wait a second, then push the new image to the DOM so\n",
       "    // that it is saved nicely (might be nice to debounce this).\n",
       "    setTimeout(function () { fig.push_to_output() }, 1000);\n",
       "}\n",
       "\n",
       "mpl.figure.prototype._init_toolbar = function() {\n",
       "    var fig = this;\n",
       "\n",
       "    var nav_element = $('<div/>');\n",
       "    nav_element.attr('style', 'width: 100%');\n",
       "    this.root.append(nav_element);\n",
       "\n",
       "    // Define a callback function for later on.\n",
       "    function toolbar_event(event) {\n",
       "        return fig.toolbar_button_onclick(event['data']);\n",
       "    }\n",
       "    function toolbar_mouse_event(event) {\n",
       "        return fig.toolbar_button_onmouseover(event['data']);\n",
       "    }\n",
       "\n",
       "    for(var toolbar_ind in mpl.toolbar_items){\n",
       "        var name = mpl.toolbar_items[toolbar_ind][0];\n",
       "        var tooltip = mpl.toolbar_items[toolbar_ind][1];\n",
       "        var image = mpl.toolbar_items[toolbar_ind][2];\n",
       "        var method_name = mpl.toolbar_items[toolbar_ind][3];\n",
       "\n",
       "        if (!name) { continue; };\n",
       "\n",
       "        var button = $('<button class=\"btn btn-default\" href=\"#\" title=\"' + name + '\"><i class=\"fa ' + image + ' fa-lg\"></i></button>');\n",
       "        button.click(method_name, toolbar_event);\n",
       "        button.mouseover(tooltip, toolbar_mouse_event);\n",
       "        nav_element.append(button);\n",
       "    }\n",
       "\n",
       "    // Add the status bar.\n",
       "    var status_bar = $('<span class=\"mpl-message\" style=\"text-align:right; float: right;\"/>');\n",
       "    nav_element.append(status_bar);\n",
       "    this.message = status_bar[0];\n",
       "\n",
       "    // Add the close button to the window.\n",
       "    var buttongrp = $('<div class=\"btn-group inline pull-right\"></div>');\n",
       "    var button = $('<button class=\"btn btn-mini btn-primary\" href=\"#\" title=\"Stop Interaction\"><i class=\"fa fa-power-off icon-remove icon-large\"></i></button>');\n",
       "    button.click(function (evt) { fig.handle_close(fig, {}); } );\n",
       "    button.mouseover('Stop Interaction', toolbar_mouse_event);\n",
       "    buttongrp.append(button);\n",
       "    var titlebar = this.root.find($('.ui-dialog-titlebar'));\n",
       "    titlebar.prepend(buttongrp);\n",
       "}\n",
       "\n",
       "mpl.figure.prototype._root_extra_style = function(el){\n",
       "    var fig = this\n",
       "    el.on(\"remove\", function(){\n",
       "\tfig.close_ws(fig, {});\n",
       "    });\n",
       "}\n",
       "\n",
       "mpl.figure.prototype._canvas_extra_style = function(el){\n",
       "    // this is important to make the div 'focusable\n",
       "    el.attr('tabindex', 0)\n",
       "    // reach out to IPython and tell the keyboard manager to turn it's self\n",
       "    // off when our div gets focus\n",
       "\n",
       "    // location in version 3\n",
       "    if (IPython.notebook.keyboard_manager) {\n",
       "        IPython.notebook.keyboard_manager.register_events(el);\n",
       "    }\n",
       "    else {\n",
       "        // location in version 2\n",
       "        IPython.keyboard_manager.register_events(el);\n",
       "    }\n",
       "\n",
       "}\n",
       "\n",
       "mpl.figure.prototype._key_event_extra = function(event, name) {\n",
       "    var manager = IPython.notebook.keyboard_manager;\n",
       "    if (!manager)\n",
       "        manager = IPython.keyboard_manager;\n",
       "\n",
       "    // Check for shift+enter\n",
       "    if (event.shiftKey && event.which == 13) {\n",
       "        this.canvas_div.blur();\n",
       "        event.shiftKey = false;\n",
       "        // Send a \"J\" for go to next cell\n",
       "        event.which = 74;\n",
       "        event.keyCode = 74;\n",
       "        manager.command_mode();\n",
       "        manager.handle_keydown(event);\n",
       "    }\n",
       "}\n",
       "\n",
       "mpl.figure.prototype.handle_save = function(fig, msg) {\n",
       "    fig.ondownload(fig, null);\n",
       "}\n",
       "\n",
       "\n",
       "mpl.find_output_cell = function(html_output) {\n",
       "    // Return the cell and output element which can be found *uniquely* in the notebook.\n",
       "    // Note - this is a bit hacky, but it is done because the \"notebook_saving.Notebook\"\n",
       "    // IPython event is triggered only after the cells have been serialised, which for\n",
       "    // our purposes (turning an active figure into a static one), is too late.\n",
       "    var cells = IPython.notebook.get_cells();\n",
       "    var ncells = cells.length;\n",
       "    for (var i=0; i<ncells; i++) {\n",
       "        var cell = cells[i];\n",
       "        if (cell.cell_type === 'code'){\n",
       "            for (var j=0; j<cell.output_area.outputs.length; j++) {\n",
       "                var data = cell.output_area.outputs[j];\n",
       "                if (data.data) {\n",
       "                    // IPython >= 3 moved mimebundle to data attribute of output\n",
       "                    data = data.data;\n",
       "                }\n",
       "                if (data['text/html'] == html_output) {\n",
       "                    return [cell, data, j];\n",
       "                }\n",
       "            }\n",
       "        }\n",
       "    }\n",
       "}\n",
       "\n",
       "// Register the function which deals with the matplotlib target/channel.\n",
       "// The kernel may be null if the page has been refreshed.\n",
       "if (IPython.notebook.kernel != null) {\n",
       "    IPython.notebook.kernel.comm_manager.register_target('matplotlib', mpl.mpl_figure_comm);\n",
       "}\n"
      ],
      "text/plain": [
       "<IPython.core.display.Javascript object>"
      ]
     },
     "metadata": {},
     "output_type": "display_data"
    },
    {
     "data": {
      "text/html": [
       "<img src=\"data:image/png;base64,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\" width=\"640\">"
      ],
      "text/plain": [
       "<IPython.core.display.HTML object>"
      ]
     },
     "metadata": {},
     "output_type": "display_data"
    }
   ],
   "source": [
    "plt.plot(rew/num_trials, label='mc')\n",
    "plt.plot(rew2/num_trials, label='with_baseline')\n",
    "plt.legend()\n",
    "plt.show()"
   ]
  },
  {
   "cell_type": "code",
   "execution_count": null,
   "metadata": {},
   "outputs": [],
   "source": []
  }
 ],
 "metadata": {
  "kernelspec": {
   "display_name": "rl",
   "language": "python",
   "name": "rl"
  },
  "language_info": {
   "codemirror_mode": {
    "name": "ipython",
    "version": 3
   },
   "file_extension": ".py",
   "mimetype": "text/x-python",
   "name": "python",
   "nbconvert_exporter": "python",
   "pygments_lexer": "ipython3",
   "version": "3.7.3"
  }
 },
 "nbformat": 4,
 "nbformat_minor": 2
}
